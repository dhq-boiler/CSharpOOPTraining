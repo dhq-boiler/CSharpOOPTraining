{
 "cells": [
  {
   "cell_type": "markdown",
   "metadata": {},
   "source": [
    "# C#における継承の理解と実装\n",
    "\n",
    "## 1. 継承の基本概念\n",
    "\n",
    "継承は、オブジェクト指向プログラミングの核心的な概念の一つです。これにより、既存のクラス（基底クラスまたは親クラス、スーパークラスとも呼ぶ）の特性を新しいクラス（派生クラスまたは子クラス、サブクラスとも呼ぶ）に引き継ぐことができます。\n",
    "\n",
    "### 継承の利点\n",
    "\n",
    "* コードの再利用性の向上\n",
    "* 階層的な分類の実現\n",
    "* 既存コードの拡張が容易\n",
    "\n",
    "## 2. C#での継承の実装\n",
    "\n",
    "C#では、`:`記号を使用して継承を表現します。"
   ]
  },
  {
   "cell_type": "code",
   "execution_count": 3,
   "metadata": {
    "dotnet_interactive": {
     "language": "csharp"
    },
    "polyglot_notebook": {
     "kernelName": "csharp"
    },
    "vscode": {
     "languageId": "polyglot-notebook"
    }
   },
   "outputs": [],
   "source": [
    "public class AnimeCharacter\n",
    "{\n",
    "    public string Name { get; set; }\n",
    "    public string Anime { get; set; }\n",
    "\n",
    "    public virtual void Introduce()\n",
    "    {\n",
    "        Console.WriteLine($\"こんにちは、{Name}です。{Anime}に出演しています。\");\n",
    "    }\n",
    "}\n",
    "\n",
    "public class MagicalGirl : AnimeCharacter\n",
    "{\n",
    "    public string MagicalPower { get; set; }\n",
    "\n",
    "    public override void Introduce()\n",
    "    {\n",
    "        base.Introduce();\n",
    "        Console.WriteLine($\"私は{MagicalPower}の力を持つ魔法少女です！\");\n",
    "    }\n",
    "}"
   ]
  },
  {
   "cell_type": "markdown",
   "metadata": {},
   "source": [
    "## 3. 継承の種類\n",
    "\n",
    "### 単一継承\n",
    "\n",
    "C#では、クラスの単一継承のみがサポートされています。つまり、一つのクラスは一つの基底クラスからのみ継承できます。\n",
    "\n",
    "### インターフェースの多重実装\n",
    "\n",
    "ただし、複数のインターフェースを実装することは可能です。"
   ]
  },
  {
   "cell_type": "code",
   "execution_count": 6,
   "metadata": {
    "dotnet_interactive": {
     "language": "csharp"
    },
    "polyglot_notebook": {
     "kernelName": "csharp"
    },
    "vscode": {
     "languageId": "polyglot-notebook"
    }
   },
   "outputs": [],
   "source": [
    "public interface ICollectible\n",
    "{\n",
    "    void AddToCollection();\n",
    "}\n",
    "\n",
    "public interface IDisplayable\n",
    "{\n",
    "    void Display();\n",
    "}\n",
    "\n",
    "public class Figurine : AnimeCharacter, ICollectible, IDisplayable\n",
    "{\n",
    "    public string Manufacturer { get; set; }\n",
    "    public double Scale { get; set; }\n",
    "\n",
    "    public void AddToCollection()\n",
    "    {\n",
    "        Console.WriteLine($\"{Name}フィギュアをコレクションに追加しました！\");\n",
    "    }\n",
    "\n",
    "    public void Display()\n",
    "    {\n",
    "        Console.WriteLine($\"{Scale}スケールの{Name}フィギュアを飾りました。製造元は{Manufacturer}です。\");\n",
    "    }\n",
    "}"
   ]
  },
  {
   "cell_type": "markdown",
   "metadata": {},
   "source": [
    "## 4. 継承とメンバーの可視性\n",
    "\n",
    "C#では、クラスメンバー（フィールド、プロパティ、メソッドなど）のアクセシビリティを制御するために、さまざまなアクセス修飾子を使用します。これらは継承時の振る舞いに影響を与えます。\n",
    "\n",
    "* `public`: どこからでもアクセス可能。派生クラスからもアクセス可能。\n",
    "\n",
    "  使用場面：外部からアクセスする必要があるAPIやインターフェースを定義する場合。"
   ]
  },
  {
   "cell_type": "code",
   "execution_count": 8,
   "metadata": {
    "dotnet_interactive": {
     "language": "csharp"
    },
    "polyglot_notebook": {
     "kernelName": "csharp"
    },
    "vscode": {
     "languageId": "polyglot-notebook"
    }
   },
   "outputs": [],
   "source": [
    "public class AnimeDatabase\n",
    "{\n",
    "    public List<string> GetTopAnimes() { return new List<string> { \"ゆるキャン△\", \"魔法科高校の劣等生\", \"東京レイヴンズ\" }; }\n",
    "}"
   ]
  },
  {
   "cell_type": "markdown",
   "metadata": {},
   "source": [
    "* `protected`:  同じクラス内および派生クラスからのみアクセス可能。\n",
    "\n",
    "  使用場面：基底クラスの実装詳細を派生クラスに公開したいが、外部からは隠蔽したい場合。"
   ]
  },
  {
   "cell_type": "code",
   "execution_count": 9,
   "metadata": {
    "dotnet_interactive": {
     "language": "csharp"
    },
    "polyglot_notebook": {
     "kernelName": "csharp"
    },
    "vscode": {
     "languageId": "polyglot-notebook"
    }
   },
   "outputs": [],
   "source": [
    "public class MagicalGirl\n",
    "{\n",
    "    protected void TransformationSequence() \n",
    "    {\n",
    "        //以下の呼び出されるメソッドは公開する必要がなければprivateにする\n",
    "        //もし、継承先でオーバーライドする必要がある場合はprotectedにする\n",
    "\n",
    "        //服がキラキラしながら消える();\n",
    "        //カメラが周りを回りながら足元を映す();\n",
    "        //足の衣装がぱっと出現する();\n",
    "        //カメラが手を映す();\n",
    "        //手の衣装がぱっと出現する();\n",
    "        //カメラが胴体を映す();\n",
    "        //胸・胴・腰の衣装がぱっと出現する();\n",
    "        //カメラが顔を映す();\n",
    "        //頭部にヘアピンと帽子が出現する();\n",
    "        //まほうのステッキが出現する();\n",
    "        //魔法少女がポーズを決める();\n",
    "        //集中線が魔法少女を包む();\n",
    "        //背景が変わる();\n",
    "    }\n",
    "}"
   ]
  },
  {
   "cell_type": "markdown",
   "metadata": {},
   "source": [
    "* `private`: 同じクラス内でのみアクセス可能。派生クラスからはアクセス不可。\n",
    "\n",
    "  使用場面：クラス内部の実装詳細を完全に隠蔽したい場合。"
   ]
  },
  {
   "cell_type": "code",
   "execution_count": 10,
   "metadata": {
    "dotnet_interactive": {
     "language": "csharp"
    },
    "polyglot_notebook": {
     "kernelName": "csharp"
    },
    "vscode": {
     "languageId": "polyglot-notebook"
    }
   },
   "outputs": [],
   "source": [
    "public class SecretIdentity\n",
    "{\n",
    "    private string realName; //真名\n",
    "}"
   ]
  },
  {
   "cell_type": "markdown",
   "metadata": {},
   "source": [
    "* `internal`：同一アセンブリ内でのみアクセス可能。\n",
    "\n",
    "  使用場面：同じプロジェクト内でのみ使用するクラスやメンバーを定義する場合。"
   ]
  },
  {
   "cell_type": "code",
   "execution_count": null,
   "metadata": {
    "dotnet_interactive": {
     "language": "csharp"
    },
    "polyglot_notebook": {
     "kernelName": "csharp"
    },
    "vscode": {
     "languageId": "polyglot-notebook"
    }
   },
   "outputs": [],
   "source": [
    "internal class AnimeStudioInternal\n",
    "{\n",
    "    internal void ProduceAnime() \n",
    "    {\n",
    "        //詳しくはアニメ「SHIROBAKO」を参照\n",
    "\n",
    "        //アニメーションを描く();\n",
    "        //声優を起用する();\n",
    "        //音楽を制作する();\n",
    "        //アニメーションを編集する();\n",
    "        //アニメーションを放送する();\n",
    "    }\n",
    "}"
   ]
  },
  {
   "cell_type": "markdown",
   "metadata": {},
   "source": [
    "* `protected internal`: 同一アセンブリ内、または他のアセンブリの派生クラスからアクセス可能。\n",
    "\n",
    "  使用場面：基底クラスの機能を同じアセンブリ内で広く使用しつつ、他のアセンブリでは派生クラスでのみ使用したい場合。"
   ]
  },
  {
   "cell_type": "code",
   "execution_count": 11,
   "metadata": {
    "dotnet_interactive": {
     "language": "csharp"
    },
    "polyglot_notebook": {
     "kernelName": "csharp"
    },
    "vscode": {
     "languageId": "polyglot-notebook"
    }
   },
   "outputs": [],
   "source": [
    "// AnimeEngineアセンブリ内\n",
    "public class AnimeCharacterBase\n",
    "{\n",
    "    protected internal void PerformSpecialMove()\n",
    "    {\n",
    "        Console.WriteLine(\"キャラクターが特殊技を繰り出した！\");\n",
    "    }\n",
    "}\n",
    "\n",
    "// 同じAnimeEngineアセンブリ内の他のクラス\n",
    "public class AnimeSceneManager\n",
    "{\n",
    "    public void ExecuteSpecialMoveScene(AnimeCharacterBase character)\n",
    "    {\n",
    "        // 同じアセンブリ内なので、protected internalメソッドにアクセス可能\n",
    "        character.PerformSpecialMove();\n",
    "    }\n",
    "}\n",
    "\n",
    "// 別のGameLogicアセンブリ内\n",
    "public class PlayerCharacter : AnimeCharacterBase\n",
    "{\n",
    "    public void ActivateSpecialMove()\n",
    "    {\n",
    "        // 派生クラスなので、他のアセンブリからでもprotected internalメソッドにアクセス可能\n",
    "        PerformSpecialMove();\n",
    "    }\n",
    "}\n",
    "\n",
    "// 別のGameLogicアセンブリ内の他のクラス\n",
    "public class GameManager\n",
    "{\n",
    "    public void TriggerPlayerSpecialMove(PlayerCharacter player)\n",
    "    {\n",
    "        // コンパイルエラー：異なるアセンブリの非派生クラスからはアクセス不可\n",
    "        // player.PerformSpecialMove();\n",
    "    }\n",
    "}"
   ]
  },
  {
   "cell_type": "markdown",
   "metadata": {
    "vscode": {
     "languageId": "polyglot-notebook"
    }
   },
   "source": [
    "この例では、`AnimeCharacterBase` クラスの `PeformSpecialMove` メソッドが `protected internal` として宣言されています。\n",
    "\n",
    "1. 同じ `AnimeEngine` アセンブリ内では、 `AnimeSceneManager` のような他のクラスから直接アクセスできます。\n",
    "1. 別の `GameLogic` アセンブリ内では、`PlayerCharacter` のような派生クラスからアクセスできます。\n",
    "1. しかし、別アセンブリの `GameManager` のような非派生クラスからは直接アクセスできません。\n",
    "\n",
    "この方法により、アニメエンジンの内部では柔軟に特殊技の実装を使用できる一方で、外部のゲームロジックからは制御されたアクセスのみ許可することができます。これは、ライブラリやフレームワークの設計で特に有用です。\n",
    "\n",
    "### アクセスレベルの基本方針\n",
    "\n",
    "アクセス修飾子の選択は、カプセル化の原則と使用目的に基づいて行います。一般的に、可能な限り制限的なアクセスレベルを選択し、必要に応じて緩和することが推奨されます。\n",
    "\n",
    "例えば、アニメキャラクターのクラス階層を考えてみましょう："
   ]
  },
  {
   "cell_type": "code",
   "execution_count": 15,
   "metadata": {
    "dotnet_interactive": {
     "language": "csharp"
    },
    "polyglot_notebook": {
     "kernelName": "csharp"
    },
    "vscode": {
     "languageId": "polyglot-notebook"
    }
   },
   "outputs": [],
   "source": [
    "public class AnimeCharacter\n",
    "{\n",
    "    public string Name { get; set; }\n",
    "    protected int PowerLevel { get; set; }\n",
    "    private string secretWeakness;\n",
    "\n",
    "    public virtual void Introduce() \n",
    "    { \n",
    "        Console.WriteLine($\"私は{Name}です！\"); \n",
    "    }\n",
    "\n",
    "    protected void RevealPowerLevel() \n",
    "    { \n",
    "        Console.WriteLine($\"私の戦闘力は{PowerLevel}です！\"); \n",
    "    }\n",
    "\n",
    "    private void ExposeWeakness() \n",
    "    { \n",
    "        Console.WriteLine($\"私の弱点は{secretWeakness}です...\"); \n",
    "    }\n",
    "\n",
    "    //以降の virtual-override-new の説明で使用\n",
    "    protected virtual void PerformSignatureMove()\n",
    "    {\n",
    "        //何もしない\n",
    "    }\n",
    "}\n",
    "\n",
    "public class Protagonist : AnimeCharacter\n",
    "{\n",
    "    public void PowerUp()\n",
    "    {\n",
    "        PowerLevel += 9000; // protectedなのでアクセス可能\n",
    "        RevealPowerLevel(); // protectedなのでアクセス可能\n",
    "        // ExposeWeakness(); // privateなのでアクセス不可\n",
    "    }\n",
    "}"
   ]
  },
  {
   "cell_type": "markdown",
   "metadata": {},
   "source": [
    "この例では、`Name` は公開情報として `public`、`PowerLevel`は派生クラスでも使用できるように`protected`、`secretWeakness`はクラス外部からアクセスできないように`private`としています。これにより、必要な情報だけを適切なスコープで公開し、クラスの内部詳細を保護しています。"
   ]
  },
  {
   "cell_type": "markdown",
   "metadata": {},
   "source": [
    "## 5. virtual, override, new キーワード\n",
    "\n",
    "C#の継承において、`virtual`、`override`、`new` キーワードは、派生クラスでのメソッドの振る舞いを制御するために使用されます。これらのキーワードを正しく使用することで、柔軟で拡張性の高いコードを書くことができます。\n",
    "\n",
    "### virtual キーワード\n",
    "\n",
    "`virtual` キーワードは、基底クラスのメソッドが派生クラスでオーバーライド（上書き）可能であることを示します。\n",
    "\n",
    "使用場面：基本的な実装を提供しつつ、派生クラスでその振る舞いをカスタマイズできるようにしたい場合。"
   ]
  },
  {
   "cell_type": "code",
   "execution_count": 20,
   "metadata": {
    "dotnet_interactive": {
     "language": "csharp"
    },
    "polyglot_notebook": {
     "kernelName": "csharp"
    },
    "vscode": {
     "languageId": "polyglot-notebook"
    }
   },
   "outputs": [],
   "source": [
    "public class AnimeCharacter\n",
    "{\n",
    "    public virtual void PerformSignatureMove()\n",
    "    {\n",
    "        Console.WriteLine(\"キャラクターが必殺技を繰り出した！\");\n",
    "    }\n",
    "}"
   ]
  },
  {
   "cell_type": "markdown",
   "metadata": {},
   "source": [
    "### override キーワード\n",
    "\n",
    "`override` キーワードは、派生クラスで基底クラスの `virtual` メソッドをオーバーライドする際に使用します。\n",
    "\n",
    "使用場面：基底クラスで定義された振る舞いを、派生クラスで特殊化または拡張したい場合。"
   ]
  },
  {
   "cell_type": "code",
   "execution_count": 21,
   "metadata": {
    "dotnet_interactive": {
     "language": "csharp"
    },
    "polyglot_notebook": {
     "kernelName": "csharp"
    },
    "vscode": {
     "languageId": "polyglot-notebook"
    }
   },
   "outputs": [],
   "source": [
    "public class MechaPilot : AnimeCharacter\n",
    "{\n",
    "    public override void PerformSignatureMove()\n",
    "    {\n",
    "        base.PerformSignatureMove(); // 基底クラスの実装を呼び出す（オプション）\n",
    "        Console.WriteLine(\"パイロットが必殺ビームを発射した！\");\n",
    "    }\n",
    "}"
   ]
  },
  {
   "cell_type": "markdown",
   "metadata": {},
   "source": [
    "### new キーワード\n",
    "\n",
    "`new` キーワードは、派生クラスで基底クラスのメンバーを隠蔽し、新しい実装を提供する際に使用します。\n",
    "\n",
    "使用場面：基底クラスの実装を完全に無視し、全く新しい振る舞いを定義したい場合。ただし、使用には注意が必要です。"
   ]
  },
  {
   "cell_type": "code",
   "execution_count": 24,
   "metadata": {
    "dotnet_interactive": {
     "language": "csharp"
    },
    "polyglot_notebook": {
     "kernelName": "csharp"
    },
    "vscode": {
     "languageId": "polyglot-notebook"
    }
   },
   "outputs": [],
   "source": [
    "public class MagicalGirl : AnimeCharacter\n",
    "{\n",
    "    public new void PerformSignatureMove()\n",
    "    {\n",
    "        Console.WriteLine(\"魔法少女が変身シーケンスを開始した！\");\n",
    "    }\n",
    "}"
   ]
  },
  {
   "cell_type": "markdown",
   "metadata": {},
   "source": [
    "### これらのキーワードの違いと重要性\n",
    "\n",
    "1. 多態性の実現：`virtual` と `override` の組み合わせは、多態性を実現する重要な手段です。これにより、基底クラスの参照を通じて派生クラスのメソッドを呼び出すことができます。"
   ]
  },
  {
   "cell_type": "code",
   "execution_count": 27,
   "metadata": {
    "dotnet_interactive": {
     "language": "csharp"
    },
    "polyglot_notebook": {
     "kernelName": "csharp"
    },
    "vscode": {
     "languageId": "polyglot-notebook"
    }
   },
   "outputs": [
    {
     "name": "stdout",
     "output_type": "stream",
     "text": [
      "キャラクターが必殺技を繰り出した！\n",
      "パイロットが必殺ビームを発射した！\n",
      "キャラクターが必殺技を繰り出した！\n",
      "\n",
      "魔法少女が変身シーケンスを開始した！\n"
     ]
    }
   ],
   "source": [
    "AnimeCharacter character1 = new MechaPilot();\n",
    "AnimeCharacter character2 = new MagicalGirl();\n",
    "\n",
    "character1.PerformSignatureMove(); // \"パイロットが必殺ビームを発射した！\"\n",
    "character2.PerformSignatureMove(); // \"キャラクターが必殺技を繰り出した！\"（注意：newを使用したため）\n",
    "\n",
    "Console.WriteLine();\n",
    "\n",
    "MagicalGirl magicalGirl = new MagicalGirl();\n",
    "magicalGirl.PerformSignatureMove(); // \"魔法少女が変身シーケンスを開始した！\""
   ]
  },
  {
   "cell_type": "markdown",
   "metadata": {},
   "source": [
    "2. `new` の注意点：\n",
    "`new` キーワードを使用すると、基底クラスの型で参照した場合に予期せぬ動作を引き起こす可能性があります。\n",
    "\n",
    "3. 設計の柔軟性：\n",
    "これらのキーワードを適切に使用することで、将来の拡張性を考慮した柔軟なクラス設計が可能になります。\n",
    "\n",
    "### 実践的な例：アニメキャラクターの技システム"
   ]
  },
  {
   "cell_type": "code",
   "execution_count": 29,
   "metadata": {
    "dotnet_interactive": {
     "language": "csharp"
    },
    "polyglot_notebook": {
     "kernelName": "csharp"
    },
    "vscode": {
     "languageId": "polyglot-notebook"
    }
   },
   "outputs": [
    {
     "name": "stdout",
     "output_type": "stream",
     "text": [
      "主人公が隠された力を解放した！\n",
      "敵キャラクターが禁断の技を繰り出した！\n",
      "キャラクターが何かを言った。\n",
      "「俺は絶対に諦めない！」\n",
      "キャラクターが何かを言った。\n"
     ]
    }
   ],
   "source": [
    "public class AnimeCharacter\n",
    "{\n",
    "    public virtual void UseSpecialAbility()\n",
    "    {\n",
    "        Console.WriteLine(\"キャラクターが特殊能力を使用！\");\n",
    "    }\n",
    "\n",
    "    public virtual void Speak()\n",
    "    {\n",
    "        Console.WriteLine(\"キャラクターが何かを言った。\");\n",
    "    }\n",
    "}\n",
    "\n",
    "public class Protagonist : AnimeCharacter\n",
    "{\n",
    "    public override void UseSpecialAbility()\n",
    "    {\n",
    "        Console.WriteLine(\"主人公が隠された力を解放した！\");\n",
    "    }\n",
    "\n",
    "    public override void Speak()\n",
    "    {\n",
    "        base.Speak();\n",
    "        Console.WriteLine(\"「俺は絶対に諦めない！」\");\n",
    "    }\n",
    "}\n",
    "\n",
    "public class Antagonist : AnimeCharacter\n",
    "{\n",
    "    public override void UseSpecialAbility()\n",
    "    {\n",
    "        Console.WriteLine(\"敵キャラクターが禁断の技を繰り出した！\");\n",
    "    }\n",
    "\n",
    "    public new void Speak()\n",
    "    {\n",
    "        Console.WriteLine(\"「奴は四天王の中でも最弱...」\");\n",
    "    }\n",
    "}\n",
    "\n",
    "// 使用例\n",
    "AnimeCharacter mainChar = new Protagonist();\n",
    "AnimeCharacter villain = new Antagonist();\n",
    "\n",
    "mainChar.UseSpecialAbility(); // \"主人公が隠された力を解放した！\"\n",
    "villain.UseSpecialAbility(); // \"敵キャラクターが禁断の技を繰り出した！\"\n",
    "\n",
    "mainChar.Speak(); // \"キャラクターが何かを言った。\" \"「俺は絶対に諦めない！」\"\n",
    "villain.Speak(); // \"キャラクターが何かを言った。\" （注意：newを使用したため）"
   ]
  },
  {
   "cell_type": "markdown",
   "metadata": {},
   "source": [
    "この例では、`AnimeCharacter` 基底クラスを継承した `Protagonist` と `Antagonist` クラスで、`virtual`、`override`、`new` キーワードの使用方法と効果を示しています。特に `Speak` メソッドでの `override` と `new` の違いに注目してください。\n",
    "これらのキーワードを適切に使用することで、キャラクターの個性や特徴を柔軟に表現しつつ、共通の操作インターフェースを維持することができます。"
   ]
  },
  {
   "cell_type": "markdown",
   "metadata": {},
   "source": [
    "## 6. 抽象クラスと継承\n",
    "\n",
    "抽象クラスは、直接インスタンス化できないクラスで、派生クラスによって実装されることを前提としています。抽象クラスは共通の機能を定義し、派生クラスに特定のメソッドの実装を強制することができます。\n",
    "\n",
    "### 抽象クラスの特徴\n",
    "\n",
    "1. `abstract` キーワードを使用して宣言します。\n",
    "1. 抽象メソッド（実装のないメソッド）を含むことができます。\n",
    "1. 具象メソッド（実装のあるメソッド）も含むことができます。\n",
    "1. 直接インスタンス化することはできません。\n",
    "\n",
    "### 抽象クラスを使用する主なシチュエーション\n",
    "\n",
    "1. 共通の基底クラスの定義\n",
    "\n",
    "   使用例：アニメ作品の基本構造を定義する"
   ]
  },
  {
   "cell_type": "code",
   "execution_count": 33,
   "metadata": {
    "dotnet_interactive": {
     "language": "csharp"
    },
    "polyglot_notebook": {
     "kernelName": "csharp"
    },
    "vscode": {
     "languageId": "polyglot-notebook"
    }
   },
   "outputs": [],
   "source": [
    "\n",
    "public abstract class AnimeProduction\n",
    "{\n",
    "    public string Title { get; set; }\n",
    "    public int Episodes { get; set; }\n",
    "\n",
    "    public abstract void Produce();\n",
    "\n",
    "    public void Broadcast()\n",
    "    {\n",
    "        Console.WriteLine($\"{Title} が放送開始！全{Episodes}話です。\");\n",
    "    }\n",
    "}\n",
    "\n",
    "public class TVAnime : AnimeProduction\n",
    "{\n",
    "    public override void Produce()\n",
    "    {\n",
    "        Console.WriteLine($\"{Title} のTV アニメ製作が始まりました。\");\n",
    "    }\n",
    "}\n",
    "\n",
    "public class MovieAnime : AnimeProduction\n",
    "{\n",
    "    public override void Produce()\n",
    "    {\n",
    "        Console.WriteLine($\"{Title} の劇場版アニメ製作が始まりました。\");\n",
    "    }\n",
    "}"
   ]
  },
  {
   "cell_type": "markdown",
   "metadata": {},
   "source": [
    "この例では、`AnimeProduction` 抽象クラスが共通の属性と振る舞いを定義し、`TVAnime` と `MovieAnime` がそれぞれの特性に合わせて `Produce` メソッドを実装しています。\n",
    "\n",
    "2. テンプレートメソッドパターンの実装\n",
    "\n",
    "  使用例：RPGのキャラクター作成プロセスを定義する"
   ]
  },
  {
   "cell_type": "code",
   "execution_count": 34,
   "metadata": {
    "dotnet_interactive": {
     "language": "csharp"
    },
    "polyglot_notebook": {
     "kernelName": "csharp"
    },
    "vscode": {
     "languageId": "polyglot-notebook"
    }
   },
   "outputs": [],
   "source": [
    "public abstract class RPGCharacterCreator\n",
    "{\n",
    "    public void CreateCharacter()\n",
    "    {\n",
    "        SetBasicInfo();\n",
    "        ChooseClass();\n",
    "        AssignStartingStats();\n",
    "        EquipInitialGear();\n",
    "    }\n",
    "\n",
    "    protected abstract void SetBasicInfo();\n",
    "    protected abstract void ChooseClass();\n",
    "    protected virtual void AssignStartingStats()\n",
    "    {\n",
    "        Console.WriteLine(\"基本ステータスを割り振りました。\");\n",
    "    }\n",
    "    protected virtual void EquipInitialGear()\n",
    "    {\n",
    "        Console.WriteLine(\"初期装備を付与しました。\");\n",
    "    }\n",
    "}\n",
    "\n",
    "public class WarriorCreator : RPGCharacterCreator\n",
    "{\n",
    "    protected override void SetBasicInfo()\n",
    "    {\n",
    "        Console.WriteLine(\"戦士の基本情報を設定しました。\");\n",
    "    }\n",
    "\n",
    "    protected override void ChooseClass()\n",
    "    {\n",
    "        Console.WriteLine(\"戦士クラスを選択しました。\");\n",
    "    }\n",
    "\n",
    "    protected override void EquipInitialGear()\n",
    "    {\n",
    "        base.EquipInitialGear();\n",
    "        Console.WriteLine(\"戦士用の初期武器を装備しました。\");\n",
    "    }\n",
    "}"
   ]
  },
  {
   "cell_type": "markdown",
   "metadata": {},
   "source": [
    "この例では、`RPGCharacterCreator` 抽象クラスがキャラクター作成の基本的な流れを定義し、`WarriorCreator` がその具体的な実装を提供しています。\n",
    "\n",
    "3. プラグインアーキテクチャの実現\n",
    "\n",
    "   使用例：アニメビューワーのプラグインシステム\n",
    "\n",
    "   まず、`AnimeFrame` クラスの定義を追加します："
   ]
  },
  {
   "cell_type": "code",
   "execution_count": 1,
   "metadata": {
    "dotnet_interactive": {
     "language": "csharp"
    },
    "polyglot_notebook": {
     "kernelName": "csharp"
    },
    "vscode": {
     "languageId": "polyglot-notebook"
    }
   },
   "outputs": [],
   "source": [
    "public class AnimeFrame\n",
    "{\n",
    "    public int Number { get; set; }\n",
    "    public TimeSpan Timestamp { get; set; }\n",
    "    public byte[] ImageData { get; set; }\n",
    "\n",
    "    public AnimeFrame(int number, TimeSpan timestamp, byte[] imageData)\n",
    "    {\n",
    "        Number = number;\n",
    "        Timestamp = timestamp;\n",
    "        ImageData = imageData;\n",
    "    }\n",
    "}"
   ]
  },
  {
   "cell_type": "markdown",
   "metadata": {
    "vscode": {
     "languageId": "polyglot-notebook"
    }
   },
   "source": [
    "次に、プラグインシステムの例を拡張します："
   ]
  },
  {
   "cell_type": "code",
   "execution_count": 2,
   "metadata": {
    "dotnet_interactive": {
     "language": "csharp"
    },
    "polyglot_notebook": {
     "kernelName": "csharp"
    },
    "vscode": {
     "languageId": "polyglot-notebook"
    }
   },
   "outputs": [],
   "source": [
    "public abstract class AnimeViewerPlugin\n",
    "{\n",
    "    public string PluginName { get; set; }\n",
    "\n",
    "    public abstract void Initialize();\n",
    "    public abstract void ProcessFrame(AnimeFrame frame);\n",
    "    public abstract void Shutdown();\n",
    "}\n",
    "\n",
    "public class SubtitlePlugin : AnimeViewerPlugin\n",
    "{\n",
    "    private Dictionary<TimeSpan, string> subtitles = new Dictionary<TimeSpan, string>();\n",
    "\n",
    "    public override void Initialize()\n",
    "    {\n",
    "        Console.WriteLine($\"{PluginName} 字幕プラグインを初期化しました。\");\n",
    "        // 字幕データを読み込む処理をここに追加\n",
    "        subtitles.Add(TimeSpan.FromSeconds(1), \"こんにちは、世界！\");\n",
    "        subtitles.Add(TimeSpan.FromSeconds(5), \"これは字幕のデモです。\");\n",
    "    }\n",
    "\n",
    "    public override void ProcessFrame(AnimeFrame frame)\n",
    "    {\n",
    "        if (subtitles.TryGetValue(frame.Timestamp, out string subtitleText))\n",
    "        {\n",
    "            Console.WriteLine($\"フレーム {frame.Number} に字幕を追加: {subtitleText}\");\n",
    "        }\n",
    "    }\n",
    "\n",
    "    public override void Shutdown()\n",
    "    {\n",
    "        Console.WriteLine($\"{PluginName} 字幕プラグインをシャットダウンしました。\");\n",
    "        subtitles.Clear();\n",
    "    }\n",
    "}\n",
    "\n",
    "public class VisualEffectPlugin : AnimeViewerPlugin\n",
    "{\n",
    "    private Random random = new Random();\n",
    "\n",
    "    public override void Initialize()\n",
    "    {\n",
    "        Console.WriteLine($\"{PluginName} ビジュアルエフェクトプラグインを初期化しました。\");\n",
    "    }\n",
    "\n",
    "    public override void ProcessFrame(AnimeFrame frame)\n",
    "    {\n",
    "        if (random.Next(100) < 10) // 10%の確率でエフェクトを適用\n",
    "        {\n",
    "            Console.WriteLine($\"フレーム {frame.Number} にキラキラエフェクトを適用しました。\");\n",
    "        }\n",
    "    }\n",
    "\n",
    "    public override void Shutdown()\n",
    "    {\n",
    "        Console.WriteLine($\"{PluginName} ビジュアルエフェクトプラグインをシャットダウンしました。\");\n",
    "    }\n",
    "}\n",
    "\n",
    "// プラグインを使用するアニメビューワーの例\n",
    "public class AnimeViewer\n",
    "{\n",
    "    private List<AnimeViewerPlugin> plugins = new List<AnimeViewerPlugin>();\n",
    "\n",
    "    public void AddPlugin(AnimeViewerPlugin plugin)\n",
    "    {\n",
    "        plugins.Add(plugin);\n",
    "        plugin.Initialize();\n",
    "    }\n",
    "\n",
    "    public void PlayAnime(List<AnimeFrame> frames)\n",
    "    {\n",
    "        foreach (var frame in frames)\n",
    "        {\n",
    "            Console.WriteLine($\"フレーム {frame.Number} を表示中 (時間: {frame.Timestamp})\");\n",
    "            foreach (var plugin in plugins)\n",
    "            {\n",
    "                plugin.ProcessFrame(frame);\n",
    "            }\n",
    "            // フレーム間の適切な待機処理をここに追加\n",
    "        }\n",
    "    }\n",
    "\n",
    "    public void Shutdown()\n",
    "    {\n",
    "        foreach (var plugin in plugins)\n",
    "        {\n",
    "            plugin.Shutdown();\n",
    "        }\n",
    "    }\n",
    "}\n",
    "\n",
    "\n",
    "var viewer = new AnimeViewer();\n",
    "viewer.AddPlugin(new SubtitlePlugin { PluginName = \"日本語字幕\" });\n",
    "viewer.AddPlugin(new VisualEffectPlugin { PluginName = \"キラキラエフェクト\" });\n",
    "\n",
    "var frames = new List<AnimeFrame>\n",
    "{\n",
    "    new AnimeFrame(1, TimeSpan.FromSeconds(1), new byte[100]),\n",
    "    new AnimeFrame(2, TimeSpan.FromSeconds(2), new byte[100]),\n",
    "    new AnimeFrame(3, TimeSpan.FromSeconds(3), new byte[100]),\n",
    "    new AnimeFrame(4, TimeSpan.FromSeconds(4), new byte[100]),\n",
    "    new AnimeFrame(5, TimeSpan.FromSeconds(5), new byte[100])\n",
    "};\n",
    "\n",
    "viewer.PlayAnime(frames);\n",
    "viewer.Shutdown();"
   ]
  },
  {
   "cell_type": "markdown",
   "metadata": {
    "vscode": {
     "languageId": "polyglot-notebook"
    }
   },
   "source": [
    "この例では、`AnimeViewerPlugin` 抽象クラスがプラグインの基本的なインターフェースを定義し、`SubtitlePlugin` と `VisualEffectPlugin` がそれぞれの機能を実装しています。\n",
    "\n",
    "### 抽象クラスを使用する利点\n",
    "\n",
    "1. コードの再利用性：共通の機能を抽象クラスで定義することで、派生クラスでコードを再利用できます。\n",
    "1. 設計の一貫性：抽象クラスを使用することで、関連するクラス群に一貫したインターフェースを強制できます。\n",
    "1. 拡張性：新しい派生クラスを追加することで、既存のコードを変更せずにシステムを拡張できます。\n",
    "1. 部分的な実装：抽象クラスでは一部のメソッドに実装を提供し、他のメソッドを抽象のままにすることができます。これにより、共通の振る舞いと特殊化が必要な振る舞いを適切に分離できます。"
   ]
  },
  {
   "cell_type": "markdown",
   "metadata": {},
   "source": [
    "## 7. シールドクラスと継承の制限\n",
    "\n",
    "`sealed` キーワードを使用すると、そのクラスがさらに継承されることを防ぐことができます。"
   ]
  },
  {
   "cell_type": "code",
   "execution_count": 31,
   "metadata": {
    "dotnet_interactive": {
     "language": "csharp"
    },
    "polyglot_notebook": {
     "kernelName": "csharp"
    },
    "vscode": {
     "languageId": "polyglot-notebook"
    }
   },
   "outputs": [],
   "source": [
    "public sealed class FinalClass\n",
    "{\n",
    "    // このクラスは継承できません\n",
    "}"
   ]
  },
  {
   "cell_type": "markdown",
   "metadata": {},
   "source": [
    "## 8. 継承の注意点\n",
    "\n",
    "* 継承は「is-a」関係を表現するべきです（例：犬は動物である）\n",
    "* 継承の深さが増すほど、コードの複雑性も増加します\n",
    "* 適切な抽象化と設計が重要です\n",
    "\n",
    "## 9. 実践的な例：従業員管理システム"
   ]
  },
  {
   "cell_type": "code",
   "execution_count": 32,
   "metadata": {
    "dotnet_interactive": {
     "language": "csharp"
    },
    "polyglot_notebook": {
     "kernelName": "csharp"
    },
    "vscode": {
     "languageId": "polyglot-notebook"
    }
   },
   "outputs": [],
   "source": [
    "public abstract class Employee\n",
    "{\n",
    "    public string Name { get; set; }\n",
    "    public int ID { get; set; }\n",
    "    public abstract double CalculateSalary();\n",
    "}\n",
    "\n",
    "public class FullTimeEmployee : Employee\n",
    "{\n",
    "    public double AnnualSalary { get; set; }\n",
    "\n",
    "    public override double CalculateSalary()\n",
    "    {\n",
    "        return AnnualSalary / 12;\n",
    "    }\n",
    "}\n",
    "\n",
    "public class PartTimeEmployee : Employee\n",
    "{\n",
    "    public double HourlyRate { get; set; }\n",
    "    public int HoursWorked { get; set; }\n",
    "\n",
    "    public override double CalculateSalary()\n",
    "    {\n",
    "        return HourlyRate * HoursWorked;\n",
    "    }\n",
    "}"
   ]
  },
  {
   "cell_type": "markdown",
   "metadata": {},
   "source": [
    "この例では、`Employee` 抽象クラスを基底クラスとし、`FullTimeEmployee` と `PartTimeEmployee` がそれぞれ異なる給与計算方法を実装しています。\n",
    "\n",
    "## まとめ\n",
    "\n",
    "継承は強力な機能ですが、適切に使用することが重要です。単純な코드の再利用のためだけでなく、適切な抽象化と設計を考慮して使用しましょう。継承を通じて、より柔軟で拡張性のあるコードを書くことができます。"
   ]
  }
 ],
 "metadata": {
  "kernelspec": {
   "display_name": ".NET (C#)",
   "language": "C#",
   "name": ".net-csharp"
  },
  "language_info": {
   "name": "python"
  },
  "polyglot_notebook": {
   "kernelInfo": {
    "defaultKernelName": "csharp",
    "items": [
     {
      "aliases": [],
      "name": "csharp"
     }
    ]
   }
  }
 },
 "nbformat": 4,
 "nbformat_minor": 2
}
