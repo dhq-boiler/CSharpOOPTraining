{
 "cells": [
  {
   "cell_type": "markdown",
   "metadata": {},
   "source": [
    "# オブジェクト指向の概念：ポリモーフィズム\n",
    "\n",
    "## はじめに\n",
    "\n",
    "ポリモーフィズムは、オブジェクト指向プログラミングの重要な概念の一つです。「多態性」と呼ばれ、同じインターフェースを持つ異なるオブジェクトが、それぞれ独自の方法で動作できる能力を指します。\n",
    "\n",
    "## ポリモーフィズムの基本概念\n",
    "\n",
    "ポリモーフィズムを簡単に言うと、「同じ名前のメソッドが異なる動作をする」ということです。これにより、コードの柔軟性と再利用性が高まります。\n",
    "\n",
    "C#では、主に以下の方法でポリモーフィズムを実現します：\n",
    "\n",
    "1. メソッドのオーバーライド\n",
    "1. インターフェースの定義\n",
    "\n",
    "### メソッドのオーバーライド\n",
    "\n",
    "継承を使用する際、予め基底クラスに `virtual` メソッドを用意して、派生クラスで基底クラスの `virtual` メソッドを再定義することをオーバーライドと呼びます。"
   ]
  },
  {
   "cell_type": "code",
   "execution_count": 1,
   "metadata": {
    "dotnet_interactive": {
     "language": "csharp"
    },
    "polyglot_notebook": {
     "kernelName": "csharp"
    },
    "vscode": {
     "languageId": "polyglot-notebook"
    }
   },
   "outputs": [
    {
     "name": "stdout",
     "output_type": "stream",
     "text": [
      "動物が鳴きます\n",
      "犬がワンワン吠えます\n",
      "猫がニャ～スと鳴きます\n"
     ]
    }
   ],
   "source": [
    "public class Animal\n",
    "{\n",
    "    public virtual void MakeSound()\n",
    "    {\n",
    "        Console.WriteLine(\"動物が鳴きます\");\n",
    "    }\n",
    "}\n",
    "\n",
    "public class Dog : Animal\n",
    "{\n",
    "    public override void MakeSound()\n",
    "    {\n",
    "        Console.WriteLine(\"犬がワンワン吠えます\");\n",
    "    }\n",
    "}\n",
    "\n",
    "public class Cat : Animal\n",
    "{\n",
    "    public override void MakeSound()\n",
    "    {\n",
    "        Console.WriteLine(\"猫がニャ～スと鳴きます\");\n",
    "    }\n",
    "}\n",
    "\n",
    "// 使用例\n",
    "Animal myAnimal = new Animal();\n",
    "Animal myDog = new Dog();\n",
    "Animal myCat = new Cat();\n",
    "\n",
    "myAnimal.MakeSound();  // 出力: 動物が鳴きます\n",
    "myDog.MakeSound();     // 出力: 犬がワンワン吠えます\n",
    "myCat.MakeSound();     // 出力: 猫がニャ～スと鳴きます"
   ]
  },
  {
   "cell_type": "markdown",
   "metadata": {},
   "source": [
    "この例では、`Animal` クラスの `MakeSound` メソッドを `virtual`キーワードで定義し、 `Dog` と `Cat` クラスで `override` キーワードを使用してこのメソッドをオーバーライドしています。\n",
    "\n",
    "## インターフェースの実装\n",
    "\n",
    "インターフェースは、クラスが実装すべきメソッドやプロパティの「設計図」や「約束事」のようなものです。インターフェースを使用すると、異なるクラスが共通の機能を持つことを保証できます。\n",
    "\n",
    "例えば、様々な形状の面積を計算するプログラムを考えてみましょう。円、四角形、三角形など、形は違いますが、どれも「面積を計算する」という共通の機能を持っています。この「面積を計算する」という共通の機能をインターフェースとして定義することで、各形状のクラスに共通の「約束事」を与えることができます。"
   ]
  },
  {
   "cell_type": "code",
   "execution_count": 3,
   "metadata": {
    "dotnet_interactive": {
     "language": "csharp"
    },
    "polyglot_notebook": {
     "kernelName": "csharp"
    },
    "vscode": {
     "languageId": "polyglot-notebook"
    }
   },
   "outputs": [
    {
     "name": "stdout",
     "output_type": "stream",
     "text": [
      "Circle area: 78.53981633974483\n",
      "Rectangle area: 24\n"
     ]
    }
   ],
   "source": [
    "public interface IShape\n",
    "{\n",
    "    double CalculateArea();\n",
    "}\n",
    "\n",
    "public class Circle : IShape\n",
    "{\n",
    "    private double radius;\n",
    "\n",
    "    public Circle(double r)\n",
    "    {\n",
    "        radius = r;\n",
    "    }\n",
    "\n",
    "    //面積を計算\n",
    "    public double CalculateArea()\n",
    "    {\n",
    "        return Math.PI * radius * radius; //半径 * 半径 * 円周率\n",
    "    }\n",
    "}\n",
    "\n",
    "public class Rectangle : IShape\n",
    "{\n",
    "    private double width;\n",
    "    private double height;\n",
    "\n",
    "    public Rectangle(double w, double h)\n",
    "    {\n",
    "        width = w;\n",
    "        height = h;\n",
    "    }\n",
    "\n",
    "    //面積を計算\n",
    "    public double CalculateArea()\n",
    "    {\n",
    "        return width * height; //幅 * 高さ\n",
    "    }\n",
    "}\n",
    "\n",
    "// 使用例\n",
    "IShape circle = new Circle(5);\n",
    "IShape rectangle = new Rectangle(4, 6);\n",
    "\n",
    "Console.WriteLine($\"円の面積: {circle.CalculateArea()}\");\n",
    "Console.WriteLine($\"長方形の面積: {rectangle.CalculateArea()}\");"
   ]
  },
  {
   "cell_type": "markdown",
   "metadata": {},
   "source": [
    "この例では、`IShape`インターフェースが「面積を計算する」という共通の機能を定義しています。`Circle`（円）と`Rectangle`（長方形）クラスは、このインターフェースを実装（`implement`）することで、必ず`CalculateArea`メソッドを持つことを保証しています。\n",
    "各クラスは同じインターフェースを実装していますが、面積の計算方法はそれぞれ異なります。これがまさにポリモーフィズムの例です。同じメソッド名（`CalculateArea`）でも、呼び出されるオブジェクトによって異なる動作をします。\n",
    "インターフェースを使用することの利点は以下の通りです：\n",
    "\n",
    "1. 共通の機能を持つことを保証できる\n",
    "1. 異なるクラスを同じ方法で扱える\n",
    "1. 新しいクラスを追加する際も、既存のコードを変更せずに対応できる\n",
    "\n",
    "例えば、後から「三角形」クラスを追加したい場合も、`IShape`インターフェースを実装するだけで、既存のコードに簡単に組み込むことができます。\n",
    "\n",
    "## ポリモーフィズムの利点\n",
    "\n",
    "1. コードの再利用性：　共通のインターフェースを使用することで、異なるクラスを同じ方法で扱えます。\n",
    "1. 拡張性：　新しいクラスを追加する際、既存のコードを変更せずに新しい機能を追加できます。\n",
    "1. 柔軟性：　実行時に適切なメソッドを呼び出すことができ、プログラムの動作を動的に変更できます。\n",
    "\n",
    "## まとめ\n",
    "\n",
    "ポリモーフィズムは、オブジェクト指向プログラミングの強力な概念の1つです。メソッドのオーバーライドやインターフェースの実装を通じて、柔軟で拡張性の高いコードを書くことができます。これにより、より保守しやすく、再利用可能なソフトウェアを開発することが可能になります。\n",
    "\n",
    "## 演習問題\n",
    "\n",
    "1. `IVehicle` インターフェースを作成し、`void Start()` と `void Stop()` メソッドを定義してください。\n",
    "1. `Car` と `Bycycle` クラスを作成し、`IVehicle` インターフェースを実装してください。各クラスで `Start()` と `Stop()`メソッドを以下のように実装してください。`Car`クラスの `Start()` は　`Console.WriteLine(\"ブーンガガガガガ\");`、`Stop()` は `Console.WriteLine(\"スーーーーーーーーーーーーーズゴン\");`と実装します。`Bycycle`クラスの `Start()`は `Console.WriteLine(\"ﾁｬﾘﾁｬﾘﾁｬﾘﾁｬﾘﾁｬﾘ\");`、`Stop()` は `Console.WriteLine(\"キキーーーーーーーーーーッガシャン\");`と実装します。\n",
    "1. メインプログラムで`Car`と`Bycycle`のインスタンスを作成し、それぞれの`Start()`と`Stop()`メソッドを呼び出してください。"
   ]
  },
  {
   "cell_type": "code",
   "execution_count": null,
   "metadata": {
    "dotnet_interactive": {
     "language": "csharp"
    },
    "polyglot_notebook": {
     "kernelName": "csharp"
    },
    "vscode": {
     "languageId": "polyglot-notebook"
    }
   },
   "outputs": [],
   "source": []
  }
 ],
 "metadata": {
  "kernelspec": {
   "display_name": ".NET (C#)",
   "language": "C#",
   "name": ".net-csharp"
  },
  "language_info": {
   "name": "python"
  },
  "polyglot_notebook": {
   "kernelInfo": {
    "defaultKernelName": "csharp",
    "items": [
     {
      "aliases": [],
      "name": "csharp"
     }
    ]
   }
  }
 },
 "nbformat": 4,
 "nbformat_minor": 2
}
