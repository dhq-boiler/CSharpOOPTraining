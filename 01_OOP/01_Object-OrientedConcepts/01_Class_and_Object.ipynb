{
 "cells": [
  {
   "cell_type": "markdown",
   "metadata": {},
   "source": [
    "# クラスとオブジェクト：C#におけるオブジェクト指向プログラミングの基礎\n",
    "\n",
    "## クラス(Class)とは\n",
    "\n",
    "クラスは、オブジェクト指向プログラミングにおける基本的な構成要素の一つです。クラスは状態であるデータ（属性）とその状態を操作する方法（メソッド）をまとめた設計図のようなものです。\n",
    "プログラムはこの設計図を元に実際に状態を持って振る舞うオブジェクトを生み出すことができます。\n",
    "\n",
    "### クラスの特徴\n",
    "\n",
    "1. カプセル化：　クラスは関連するデータとメソッドをひとまとまりにします。データを外から見せないようにしておいて、データはメソッドで操作するようにするのが定石で、これをカプセル化といいます。カプセル化により外部からの不正なデータアクセスを防げるため、クラスから生成したオブジェクトが堅牢になります。\n",
    "1. 再利用性：　一度定義したクラスは、プログラム内の複数の場所で再利用できます。\n",
    "1. 抽象化：　複雑な実装の詳細を隠し、使用者に必要なインターフェースのみを提供できます。\n",
    "\n",
    "### C#でのクラスの例"
   ]
  },
  {
   "cell_type": "code",
   "execution_count": 6,
   "metadata": {
    "dotnet_interactive": {
     "language": "csharp"
    },
    "polyglot_notebook": {
     "kernelName": "csharp"
    },
    "vscode": {
     "languageId": "polyglot-notebook"
    }
   },
   "outputs": [],
   "source": [
    "public class DesktopPC\n",
    "{\n",
    "    private string motherBoard;\n",
    "    private string cpuModel;\n",
    "    private string ram;\n",
    "    private string gpuModel;\n",
    "\n",
    "    public DesktopPC(string motherBoard, string cpuModel, string ram, string gpuModel)\n",
    "    {\n",
    "        this.motherBoard = motherBoard;\n",
    "        this.cpuModel = cpuModel;\n",
    "        this.ram = ram;\n",
    "        this.gpuModel = gpuModel;\n",
    "    }\n",
    "\n",
    "    public void Start()\n",
    "    {\n",
    "        Console.WriteLine(\"AMI BIOS Version 3.21.1562\");\n",
    "        Console.WriteLine(\"Copyright (C) 2023 American Megatrends Inc.\");\n",
    "        Console.WriteLine();\n",
    "        Console.WriteLine(\"Initializing...\");\n",
    "        Console.WriteLine();\n",
    "        Console.WriteLine(\"マザーボード：認識\");\n",
    "        Console.WriteLine($\"マザーボード：{motherBoard}\");\n",
    "        Console.WriteLine();\n",
    "        Console.WriteLine(\"CPU：認識\");\n",
    "        Console.WriteLine($\"CPU：{cpuModel}\");\n",
    "        Console.WriteLine();\n",
    "        Console.WriteLine(\"メモリ：認識中...\");\n",
    "        Console.WriteLine($\"メモリ：{ram}\");\n",
    "        Console.WriteLine(\"メモリテスト：Pass\");\n",
    "        Console.WriteLine();\n",
    "        Console.WriteLine(\"GPU：認識\");\n",
    "        Console.WriteLine(\"GPU：{gpuModel}\");\n",
    "        Console.WriteLine();\n",
    "        Console.WriteLine(\"BIOS設定を開くには [DEL] キーを押してください\");\n",
    "        Console.WriteLine(\"ブートメニューを開くには [F12] キーを押してください\");\n",
    "        Console.WriteLine();\n",
    "        Console.WriteLine(\"システム起動準備完了...\");\n",
    "    }\n",
    "\n",
    "    public void OperateApplication()\n",
    "    {\n",
    "        Console.WriteLine();\n",
    "        Console.WriteLine(\"アプリケーションを実行します。\");\n",
    "        Console.WriteLine();\n",
    "        Console.WriteLine(\"アプリケーションを終了します。\");\n",
    "        Console.WriteLine();\n",
    "    }\n",
    "\n",
    "    public void Shutdown()\n",
    "    {\n",
    "        Console.WriteLine(\"シャットダウンプロセスを開始します...\");\n",
    "        Console.WriteLine();\n",
    "        Console.WriteLine(\"実行中のアプリケーションを終了しています...\");\n",
    "        Console.WriteLine(\"システムサービスを停止しています...\");\n",
    "        Console.WriteLine(\"ハードウェアデバイスの電源を切っています...\");\n",
    "        Console.WriteLine($\"GPU {gpuModel} をシャットダウンしています...\");\n",
    "        Console.WriteLine($\"CPU {cpuModel} をクールダウンしています...\");\n",
    "        Console.WriteLine($\"メモリ {ram} をクリアしています...\");\n",
    "        Console.WriteLine($\"マザーボード {motherBoard} の電源を切っています...\");\n",
    "        Console.WriteLine();\n",
    "        Console.WriteLine(\"シャットダウンが完了しました。コンピューターの電源を安全に切ることができます。\");\n",
    "    }\n",
    "}\n"
   ]
  },
  {
   "cell_type": "markdown",
   "metadata": {},
   "source": [
    "## オブジェクト（Object）とは\n",
    "\n",
    "オブジェクトは、クラスの具体的なインスタンス（実体）です。クラスが設計図だとすれば、オブジェクトはその設計図に基づいて作られた実際の製品と考えることができます。\n",
    "\n",
    "### オブジェクトの特徴\n",
    "\n",
    "1. 状態：　オブジェクトは、そのクラスで定義されたデータ（フィールドやプロパティ）の具体的な値を持ちます。\n",
    "1. 振る舞い：　オブジェクトは、クラスで定義されたメソッドを通じて特定の操作を実行できます。\n",
    "1. 一意性：　同じクラスから作られた複数のオブジェクトは、それぞれ独立した存在です。\n",
    "\n",
    "### C#でのオブジェクトの生成と使用"
   ]
  },
  {
   "cell_type": "code",
   "execution_count": 5,
   "metadata": {
    "dotnet_interactive": {
     "language": "csharp"
    },
    "polyglot_notebook": {
     "kernelName": "csharp"
    },
    "vscode": {
     "languageId": "polyglot-notebook"
    }
   },
   "outputs": [
    {
     "name": "stdout",
     "output_type": "stream",
     "text": [
      "AMI BIOS Version 3.21.1562\n",
      "Copyright (C) 2023 American Megatrends Inc.\n",
      "\n",
      "Initializing...\n",
      "\n",
      "マザーボード：認識\n",
      "マザーボード：MSI MEG X570 UNIFY\n",
      "\n",
      "CPU：認識\n",
      "CPU：AMD Ryzen 9 5950X without cooler \n",
      "\n",
      "メモリ：認識中...\n",
      "メモリ：128GB DDR4 3600MHz\n",
      "メモリテスト：Pass\n",
      "\n",
      "GPU：認識\n",
      "GPU：{gpuModel}\n",
      "\n",
      "BIOS設定を開くには [DEL] キーを押してください\n",
      "ブートメニューを開くには [F12] キーを押してください\n",
      "\n",
      "システム起動準備完了...\n",
      "\n",
      "アプリケーションを実行します。\n",
      "\n",
      "アプリケーションを終了します。\n",
      "\n",
      "シャットダウンプロセスを開始します...\n",
      "\n",
      "実行中のアプリケーションを終了しています...\n",
      "システムサービスを停止しています...\n",
      "ハードウェアデバイスの電源を切っています...\n",
      "GPU NVIDIA GeForce RTX 4090 をシャットダウンしています...\n",
      "CPU AMD Ryzen 9 5950X without cooler  をクールダウンしています...\n",
      "メモリ 128GB DDR4 3600MHz をクリアしています...\n",
      "マザーボード MSI MEG X570 UNIFY の電源を切っています...\n",
      "\n",
      "シャットダウンが完了しました。コンピューターの電源を安全に切ることができます。\n"
     ]
    }
   ],
   "source": [
    "// オブジェクトの生成\n",
    "DesktopPC myPC = new DesktopPC(\"MSI MEG X570 UNIFY\", \"AMD Ryzen 9 5950X without cooler \", \"128GB DDR4 3600MHz\", \"NVIDIA GeForce RTX 4090\");\n",
    "\n",
    "// メソッドの呼び出し\n",
    "myPC.Start();\n",
    "\n",
    "// メソッドの呼び出し\n",
    "myPC.OperateApplication();\n",
    "\n",
    "// メソッドの呼び出し\n",
    "myPC.Shutdown();"
   ]
  },
  {
   "cell_type": "markdown",
   "metadata": {},
   "source": [
    "### クラスとオブジェクトの関係\n",
    "\n",
    "1. *クラスはテンプレート、オブジェクトはインスタンス*：　クラスはオブジェクトを作るための設計図であり、オブジェクトはその設計図に基づいて作られた具体的な実体です。\n",
    "1. *メモリ割り当て*： クラスはコンパイル時に定義されますが、メモリは割り当てられません。オブジェクトが生成されるとき（実行時）に初めてメモリが割り当てられます。\n",
    "1. *多重性*：　一つのクラスから複数の異なるオブジェクトを作成できます。各オブジェクトは独立した状態を持ちます。\n",
    "1. *ライフサイクル*：クラスの定義はプログラムの寿命と同じですが、オブジェクトは生成され、使用され、そして破棄されるという独自のライフサイクルを持ちます。\n",
    "\n",
    "## まとめ\n",
    "\n",
    "クラスとオブジェクトの概念を理解することは、オブジェクト指向プログラミングの基礎となります。クラスは再利用可能なコードの単位を提供し、オブジェクトはそのクラスの具体的実装を表します。これらの概念を適切に使用することで、より構造化され、保守性の高いプログラムをつくることができます。"
   ]
  }
 ],
 "metadata": {
  "kernelspec": {
   "display_name": ".NET (C#)",
   "language": "C#",
   "name": ".net-csharp"
  },
  "language_info": {
   "name": "python"
  },
  "polyglot_notebook": {
   "kernelInfo": {
    "defaultKernelName": "csharp",
    "items": [
     {
      "aliases": [],
      "name": "csharp"
     }
    ]
   }
  }
 },
 "nbformat": 4,
 "nbformat_minor": 2
}
