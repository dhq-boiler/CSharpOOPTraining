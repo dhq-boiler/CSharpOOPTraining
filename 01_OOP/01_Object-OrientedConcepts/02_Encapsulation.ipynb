{
 "cells": [
  {
   "cell_type": "markdown",
   "metadata": {},
   "source": [
    "# カプセル化：C#におけるオブジェクト指向プログラミングの基礎\n",
    "\n",
    "## カプセル化とは\n",
    "\n",
    "カプセル化は、オブジェクト指向プログラミングの4つの主要な概念の一つです。これは、データ（属性）と、そのデータを操作するコード（メソッド）を1つの単位（クラス）にまとめ、データの直接アクセスを制限する概念です。\n",
    "\n",
    "## カプセル化の特徴\n",
    "\n",
    "1. データ隠蔽：　オブジェクトの内部データを外部から直接アクセスできないようにします。\n",
    "2. アクセス制御：　データへのアクセスを制御するメソッド（ゲッター、セッター）を提供します。\n",
    "3. 実装の詳細を隠す：　オブジェクトの内部実装を隠し、外部からはインターフェースのみを公開します。\n",
    "\n",
    "## メリット\n",
    "\n",
    "1. セキュリティの向上：　不正なデータアクセスや変更を防ぎます。\n",
    "2. 柔軟性と保守性の向上：　内部実装を変更しても、外部のコードに影響を与えません。\n",
    "3. コードの再利用性の向上：　独立したモジュールとして扱えるため、再利用が容易になります。\n",
    "\n",
    "## C#でのカプセル化の実装例"
   ]
  },
  {
   "cell_type": "code",
   "execution_count": 1,
   "metadata": {
    "dotnet_interactive": {
     "language": "csharp"
    },
    "polyglot_notebook": {
     "kernelName": "csharp"
    },
    "vscode": {
     "languageId": "polyglot-notebook"
    }
   },
   "outputs": [],
   "source": [
    "public class BankAccount\n",
    "{\n",
    "    private decimal balance; // privateフィールドでデータを隠蔽\n",
    "\n",
    "    public decimal Balance\n",
    "    {\n",
    "        get { return balance; } // 読み取り専用のプロパティ\n",
    "    }\n",
    "\n",
    "    // 銀行口座にお金を預ける\n",
    "    public void Deposit(decimal amount)\n",
    "    {\n",
    "        if (amount > 0)\n",
    "        {\n",
    "            balance += amount;\n",
    "        }\n",
    "    }\n",
    "\n",
    "    // 銀行口座からお金を引き出せるかどうかを確認する\n",
    "    // 引き出せる場合は残高から差し引いてからtrueを返し、引き出せない場合はfalseを返す\n",
    "    public bool Withdraw(decimal amount)\n",
    "    {\n",
    "        if (amount > 0 && balance >= amount)\n",
    "        {\n",
    "            balance -= amount;\n",
    "            return true;\n",
    "        }\n",
    "        return false;\n",
    "    }\n",
    "}"
   ]
  },
  {
   "cell_type": "markdown",
   "metadata": {},
   "source": [
    "この例では `balance` フィールドを `private` にすることでデータを隠蔽し、 `Deposit` と `Withdraw` メソッドを通じてのみアクセスを許可しています。これにより、残高が負の値になるなどの不正な操作を防ぎ、データの整合性を保つことができます。\n",
    "\n",
    "以下のようなコードはコンパイルエラーになります。"
   ]
  },
  {
   "cell_type": "code",
   "execution_count": 2,
   "metadata": {
    "dotnet_interactive": {
     "language": "csharp"
    },
    "polyglot_notebook": {
     "kernelName": "csharp"
    },
    "vscode": {
     "languageId": "polyglot-notebook"
    }
   },
   "outputs": [
    {
     "ename": "Error",
     "evalue": "(6,9): error CS0122: 'BankAccount.balance' はアクセスできない保護レベルになっています",
     "output_type": "error",
     "traceback": [
      "(6,9): error CS0122: 'BankAccount.balance' はアクセスできない保護レベルになっています"
     ]
    }
   ],
   "source": [
    "BankAccount account = new BankAccount();\n",
    "account.Deposit(100); // 100円預ける\n",
    "\n",
    "account.balance = 999999999999999999; // コンパイルエラー"
   ]
  },
  {
   "cell_type": "markdown",
   "metadata": {},
   "source": [
    "## まとめ\n",
    "\n",
    "カプセル化は、オブジェクト指向プログラミングの重要な概念の1つであり、データの保護、コードの柔軟性、そしてソフトウェアの保守性を向上させます。適切に実装することで、より堅牢で拡張性の高いプログラムを作成することができます。"
   ]
  }
 ],
 "metadata": {
  "kernelspec": {
   "display_name": ".NET (C#)",
   "language": "C#",
   "name": ".net-csharp"
  },
  "language_info": {
   "name": "python"
  },
  "polyglot_notebook": {
   "kernelInfo": {
    "defaultKernelName": "csharp",
    "items": [
     {
      "aliases": [],
      "name": "csharp"
     }
    ]
   }
  }
 },
 "nbformat": 4,
 "nbformat_minor": 2
}
