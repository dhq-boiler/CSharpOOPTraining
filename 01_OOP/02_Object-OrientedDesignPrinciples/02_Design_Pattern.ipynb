{
 "cells": [
  {
   "cell_type": "markdown",
   "metadata": {},
   "source": [
    "# C#におけるデザインパターン入門\n",
    "\n",
    "## デザインパターンとは何か？\n",
    "\n",
    "デザインパターンは、ソフトウェア設計における一般的な問題に対する典型的な解決策です。これらは、コードにおいて繰り返し発生する設計上の問題を解決するためにカスタマイズできる、既成の見取り図のようなものです。デザインパターンは具体的なコードの断片ではなく、特定の問題を解決するための一般的な概念です。\n",
    "\n",
    "## デザインパターンが重要な理由\n",
    "\n",
    "1. 再利用性：　大きな問題を引き起こす可能性のある微妙な問題を防ぐために再利用できる、実証済みの開発パラダイムを提供します。\n",
    "1. 読みやすさ：　標準的な用語を提供し、特定のシナリオに特化しているため、開発者間のコミュニケーションとコードの理解が容易になります。\n",
    "1. 拡張性：　多くのデザインパターンは、コードの完全な書き直しを必要とせずに、将来の拡張性とコードの変更を可能にします。\n",
    "1. ベストプラクティス：　経験豊富なソフトウェア開発者によって長期間にわたって開発されたベストプラクティスをカプセル化しています。\n",
    "\n",
    "## デザインパターンの種類\n",
    "\n",
    "デザインパターンは通常、3つのカテゴリーに分類されます：\n",
    "\n",
    "1. 生成パターン：これらのパターンは、様々なオブジェクト生成メカニズムを提供し、既存のコードの柔軟性と再利用性を高めます。\n",
    "1. 構造パターン：これらのパターンは、オブジェクトやクラスをより大きな構造にまとめる方法を説明し、これらの構造を柔軟かつ効率的に保ちます。\n",
    "1. 振る舞いパターン：これらのパターンは、アルゴリズムやオブジェクト間の責任の割り当てに関係しています。\n",
    "\n",
    "## C# における一般的なデザインパターン\n",
    "\n",
    "C#開発でよく使用されるデザインパターンのいくつかを紹介します：\n",
    "\n",
    "### 1. シングルトンパターン（生成パターン）\n",
    "\n",
    "シングルトンパターンは、クラスのインスタンスが1つしか存在しないことを保証し、そのインスタンスへのグローバルなアクセスポイントを提供します。\n"
   ]
  },
  {
   "cell_type": "code",
   "execution_count": 1,
   "metadata": {
    "dotnet_interactive": {
     "language": "csharp"
    },
    "polyglot_notebook": {
     "kernelName": "csharp"
    },
    "vscode": {
     "languageId": "polyglot-notebook"
    }
   },
   "outputs": [],
   "source": [
    "public sealed class Singleton\n",
    "{\n",
    "    private static Singleton instance = null;\n",
    "    private static readonly object padlock = new object();\n",
    "\n",
    "    private Singleton() {}\n",
    "\n",
    "    public static Singleton Instance\n",
    "    {\n",
    "        get\n",
    "        {\n",
    "            if (instance == null)\n",
    "            {\n",
    "                lock (padlock)\n",
    "                {\n",
    "                    if (instance == null)\n",
    "                    {\n",
    "                        instance = new Singleton();\n",
    "                    }\n",
    "                }\n",
    "            }\n",
    "            return instance;\n",
    "        }\n",
    "    }\n",
    "}"
   ]
  },
  {
   "cell_type": "markdown",
   "metadata": {},
   "source": [
    "### 2. ファクトリーメソッドパターン（生成パターン）\n",
    "\n",
    "ファクトリーメソッドパターンは、オブジェクトを作成するためのインターフェースを定義しますが、インスタンス化するクラスをサブクラスに決定させます。"
   ]
  },
  {
   "cell_type": "code",
   "execution_count": null,
   "metadata": {
    "dotnet_interactive": {
     "language": "csharp"
    },
    "polyglot_notebook": {
     "kernelName": "csharp"
    },
    "vscode": {
     "languageId": "polyglot-notebook"
    }
   },
   "outputs": [],
   "source": [
    "public abstract class Creator\n",
    "{\n",
    "    public abstract IProduct FactoryMethod();\n",
    "}\n",
    "\n",
    "public class ConcreteCreator : Creator\n",
    "{\n",
    "    public override IProduct FactoryMethod()\n",
    "    {\n",
    "        return new ConcreteProduct();\n",
    "    }\n",
    "}\n",
    "\n",
    "public interface IProduct\n",
    "{\n",
    "    string Operation();\n",
    "}\n",
    "\n",
    "public class ConcreteProduct : IProduct\n",
    "{\n",
    "    public string Operation()\n",
    "    {\n",
    "        return \"{ConcreteProductの結果}\";\n",
    "    }\n",
    "}"
   ]
  },
  {
   "cell_type": "markdown",
   "metadata": {},
   "source": [
    "### 3. アダプターパターン（構造パターン）\n",
    "\n",
    "アダプターパターンは、互換性のないインターフェースを協調して動作させることを可能にします。"
   ]
  },
  {
   "cell_type": "code",
   "execution_count": null,
   "metadata": {
    "dotnet_interactive": {
     "language": "csharp"
    },
    "polyglot_notebook": {
     "kernelName": "csharp"
    },
    "vscode": {
     "languageId": "polyglot-notebook"
    }
   },
   "outputs": [],
   "source": [
    "public interface ITarget\n",
    "{\n",
    "    string GetRequest();\n",
    "}\n",
    "\n",
    "public class Adaptee\n",
    "{\n",
    "    public string GetSpecificRequest()\n",
    "    {\n",
    "        return \"特定のリクエスト。\";\n",
    "    }\n",
    "}\n",
    "\n",
    "public class Adapter : ITarget\n",
    "{\n",
    "    private readonly Adaptee _adaptee;\n",
    "\n",
    "    public Adapter(Adaptee adaptee)\n",
    "    {\n",
    "        this._adaptee = adaptee;\n",
    "    }\n",
    "\n",
    "    public string GetRequest()\n",
    "    {\n",
    "        return $\"これは '{this._adaptee.GetSpecificRequest()}' です\";\n",
    "    }\n",
    "}"
   ]
  },
  {
   "cell_type": "markdown",
   "metadata": {},
   "source": [
    "### 4. オブザーバーパターン（振る舞いパターン）\n",
    "\n",
    "オブザーバーパターンは、オブジェクト間の1対多の依存関係を定義し、あるオブジェクトの状態が変化したときに、そのオブジェクトに依存するすべてのオブジェクトが自動的に通知され、更新されるようにします。"
   ]
  },
  {
   "cell_type": "code",
   "execution_count": null,
   "metadata": {
    "dotnet_interactive": {
     "language": "csharp"
    },
    "polyglot_notebook": {
     "kernelName": "csharp"
    },
    "vscode": {
     "languageId": "polyglot-notebook"
    }
   },
   "outputs": [],
   "source": [
    "public interface IObserver\n",
    "{\n",
    "    void Update(ISubject subject);\n",
    "}\n",
    "\n",
    "public interface ISubject\n",
    "{\n",
    "    void Attach(IObserver observer);\n",
    "    void Detach(IObserver observer);\n",
    "    void Notify();\n",
    "}\n",
    "\n",
    "public class ConcreteSubject : ISubject\n",
    "{\n",
    "    private List<IObserver> _observers = new List<IObserver>();\n",
    "    public int State { get; set; } = -0;\n",
    "\n",
    "    public void Attach(IObserver observer)\n",
    "    {\n",
    "        this._observers.Add(observer);\n",
    "    }\n",
    "\n",
    "    public void Detach(IObserver observer)\n",
    "    {\n",
    "        this._observers.Remove(observer);\n",
    "    }\n",
    "\n",
    "    public void Notify()\n",
    "    {\n",
    "        foreach (var observer in _observers)\n",
    "        {\n",
    "            observer.Update(this);\n",
    "        }\n",
    "    }\n",
    "\n",
    "    public void SomeBusinessLogic()\n",
    "    {\n",
    "        this.State = new Random().Next(0, 10);\n",
    "        this.Notify();\n",
    "    }\n",
    "}"
   ]
  },
  {
   "cell_type": "markdown",
   "metadata": {},
   "source": [
    "## 結論\n",
    "\n",
    "デザインパターンは、開発者のツールキットにおいて重要なツールです。これらは、問題をより効率的に解決するのに役立つ、テスト済みで実証済みの開発パラダイムを提供します。これらのパターンを理解し適用することで、C#でより保守性が高く、拡張性があり、堅牢なコードを書くことができます。ソフトウェア開発の現場で、これらのパターンに頻繁に遭遇し、それらをいつどのように効果的に適用するかについての直感を養うことができるでしょう。"
   ]
  }
 ],
 "metadata": {
  "kernelspec": {
   "display_name": ".NET (C#)",
   "language": "C#",
   "name": ".net-csharp"
  },
  "language_info": {
   "name": "python"
  },
  "polyglot_notebook": {
   "kernelInfo": {
    "defaultKernelName": "csharp",
    "items": [
     {
      "aliases": [],
      "name": "csharp"
     }
    ]
   }
  }
 },
 "nbformat": 4,
 "nbformat_minor": 2
}
