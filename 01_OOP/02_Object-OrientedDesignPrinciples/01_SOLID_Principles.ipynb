{
 "cells": [
  {
   "cell_type": "markdown",
   "metadata": {},
   "source": [
    "# SOLID原則：C#での実践ガイド\n",
    "\n",
    "SOLID原則は、オブジェクト指向プログラミングとソフトウェア設計の5つの基本原則を指します。これらの原則は、より理解しやすく、柔軟で、保守しやすいソフトウェアを作成するのに役立ちます。本記事では、各原則を説明し、C#でのコード例を提供します。\n",
    "\n",
    "## 1. 単一責任の原則（Single Responsibility Principle-SRP）\n",
    "\n",
    "### 概要\n",
    "\n",
    "クラスは単一の責任のみを持つべきです。つまり、クラスを変更する理由はひとつだけであるべきです。\n",
    "\n",
    "ソフトウェア設計、特にオブジェクト指向プログラミングにおける「責任」は以下のように定義できます：\n",
    "\n",
    "1. 機能的な観点：クラスやモジュールが果たすべき特定の役割や機能のこと。\n",
    "1. 変更の理由：クラスやモジュールを変更する必要が生じる理由のこと。\n",
    "1. 関心事：クラスやモジュールが扱うべき特定の問題領域や概念のこと。\n",
    "\n",
    "責任の重要性：\n",
    "\n",
    "1. コードの整理：明確な責任分担により、コードの構造が整理され、理解しやすくなります。\n",
    "1. 保守性の向上：各部分の責任が明確であれば、変更や拡張が容易になります。\n",
    "1. 再利用性の向上：責任が適切に分離されていれば、コンポーネントの再利用が容易になります。\n",
    "\n",
    "### C#での例\n",
    "\n",
    "#### 良くない例"
   ]
  },
  {
   "cell_type": "code",
   "execution_count": 2,
   "metadata": {
    "dotnet_interactive": {
     "language": "csharp"
    },
    "polyglot_notebook": {
     "kernelName": "csharp"
    },
    "vscode": {
     "languageId": "polyglot-notebook"
    }
   },
   "outputs": [],
   "source": [
    "// 良くない例：複数の責任を持つクラス\n",
    "public class User\n",
    "{\n",
    "    public int Id { get; set; }\n",
    "    public string Name { get; set; }\n",
    "\n",
    "    public void SaveToDatabase()\n",
    "    {\n",
    "        // データベースにユーザー情報を保存するロジック\n",
    "    }\n",
    "\n",
    "    public void SendWelcomeEmail()\n",
    "    {\n",
    "        // ユーザーにウェルカムメールを送信するロジック\n",
    "    }\n",
    "}"
   ]
  },
  {
   "cell_type": "markdown",
   "metadata": {},
   "source": [
    "このクラスは少なくとも3つの責任を持っています：\n",
    "\n",
    "1. ユーザー情報の保持\n",
    "1. データベースへの保存\n",
    "1. メール送信\n",
    "\n",
    "これらの責任を分離すると：\n",
    "\n",
    "#### 良い例"
   ]
  },
  {
   "cell_type": "code",
   "execution_count": 3,
   "metadata": {
    "vscode": {
     "languageId": "polyglot-notebook"
    }
   },
   "outputs": [],
   "source": [
    "// 良い例：責任が分離されたクラス群\n",
    "public class User\n",
    "{\n",
    "    public int Id { get; set; }\n",
    "    public string Name { get; set; }\n",
    "}\n",
    "\n",
    "public class UserRepository\n",
    "{\n",
    "    public void Save(User user)\n",
    "    {\n",
    "        // データベースにユーザー情報を保存するロジック\n",
    "    }\n",
    "}\n",
    "\n",
    "public class EmailService\n",
    "{\n",
    "    public void SendWelcomeEmail(User user)\n",
    "    {\n",
    "        // ユーザーにウェルカムメールを送信するロジック\n",
    "    }\n",
    "}"
   ]
  },
  {
   "cell_type": "markdown",
   "metadata": {},
   "source": [
    "この設計では：\n",
    "\n",
    "1. `User` クラスはユーザー情報の保持のみを責任とします。\n",
    "1. `UserRepository` クラスはデータの永続化（保存）を責任とします。\n",
    "1. `EmailService` クラスはメール送信を責任とします。\n",
    "\n",
    "各クラスの責任が明確になったことで：\n",
    "\n",
    "* 各クラスの役割が明確になり、コードが理解しやすくなります。\n",
    "* 例えば、データベース接続方法の変更やメール送信ロジックの変更が必要になった場合、影響範囲が限定されます。\n",
    "* `UserRepository` や `EmailService` は他の場面でも再利用しやすくなります。\n",
    "\n",
    "責任を適切に分離することで、コードの品質、保守性、拡張性が向上します。ただし、過度に細かく分割すると逆に複雑になる可能性もあるので、適切なバランスを取ることが重要です。\n",
    "\n",
    "## 2. オープン・クローズドの原則（Open-Closed Principle-OCP）\n",
    "\n",
    "### 概要\n",
    "\n",
    "ソフトウェアのエンティティ（クラス、モジュール、関数など）は拡張に対して開いているべきですが、修正に対しては閉じているべきです。\n",
    "\n",
    "### C#での例\n",
    "\n",
    "#### 良くない例"
   ]
  },
  {
   "cell_type": "code",
   "execution_count": 4,
   "metadata": {
    "vscode": {
     "languageId": "polyglot-notebook"
    }
   },
   "outputs": [],
   "source": [
    "// 良くない例\n",
    "public class Rectangle\n",
    "{\n",
    "    public double Width { get; set; }\n",
    "    public double Height { get; set; }\n",
    "}\n",
    "\n",
    "public class AreaCalculator\n",
    "{\n",
    "    public double CalculateArea(object shape)\n",
    "    {\n",
    "        if (shape is Rectangle rectangle)\n",
    "        {\n",
    "            return rectangle.Width * rectangle.Height;\n",
    "        }\n",
    "        // 新しい図形を追加するたびにこのメソッドを修正する必要がある\n",
    "        return 0;\n",
    "    }\n",
    "}"
   ]
  },
  {
   "cell_type": "markdown",
   "metadata": {},
   "source": [
    "#### 良い例"
   ]
  },
  {
   "cell_type": "code",
   "execution_count": 5,
   "metadata": {
    "vscode": {
     "languageId": "polyglot-notebook"
    }
   },
   "outputs": [],
   "source": [
    "// 良い例\n",
    "public interface IShape\n",
    "{\n",
    "    double CalculateArea();\n",
    "}\n",
    "\n",
    "public class Rectangle : IShape\n",
    "{\n",
    "    public double Width { get; set; }\n",
    "    public double Height { get; set; }\n",
    "\n",
    "    public double CalculateArea()\n",
    "    {\n",
    "        return Width * Height;\n",
    "    }\n",
    "}\n",
    "\n",
    "public class Circle : IShape\n",
    "{\n",
    "    public double Radius { get; set; }\n",
    "\n",
    "    public double CalculateArea()\n",
    "    {\n",
    "        return Math.PI * Radius * Radius;\n",
    "    }\n",
    "}\n",
    "\n",
    "public class AreaCalculator\n",
    "{\n",
    "    public double CalculateArea(IShape shape)\n",
    "    {\n",
    "        return shape.CalculateArea();\n",
    "    }\n",
    "}"
   ]
  },
  {
   "cell_type": "markdown",
   "metadata": {},
   "source": [
    "## 3. リスコフの置換原則（Liskov Substitution Principle-LSP）\n",
    "\n",
    "### 概要\n",
    "\n",
    "派生クラスはその基底クラスと置換可能でなければなりません。つまり、プログラムの正しさを変えることなく、基底クラスの型のオブジェクトを派生クラスの型のオブジェクトで置き換えられるべきです。\n",
    "\n",
    "### C#での例\n",
    "\n",
    "#### 良くない例"
   ]
  },
  {
   "cell_type": "code",
   "execution_count": 7,
   "metadata": {
    "vscode": {
     "languageId": "polyglot-notebook"
    }
   },
   "outputs": [
    {
     "name": "stdout",
     "output_type": "stream",
     "text": [
      "50\n",
      "100\n"
     ]
    }
   ],
   "source": [
    "// 良くない例\n",
    "public class Rectangle\n",
    "{\n",
    "    public virtual int Width { get; set; }\n",
    "    public virtual int Height { get; set; }\n",
    "\n",
    "    public virtual int CalculateArea()\n",
    "    {\n",
    "        return Width * Height;\n",
    "    }\n",
    "}\n",
    "\n",
    "public class Square : Rectangle\n",
    "{\n",
    "    public override int Width\n",
    "    {\n",
    "        set { base.Width = base.Height = value; }\n",
    "    }\n",
    "\n",
    "    public override int Height\n",
    "    {\n",
    "        set { base.Width = base.Height = value; }\n",
    "    }\n",
    "}\n",
    "\n",
    "// この関数は、Squareクラスで期待通りに動作しない\n",
    "public void TestRectangle(Rectangle rectangle)\n",
    "{\n",
    "    rectangle.Width = 5;\n",
    "    rectangle.Height = 10;\n",
    "    Console.WriteLine(rectangle.CalculateArea()); // 期待値: 50, Square使用時の実際の値: 100\n",
    "}\n",
    "\n",
    "var rectangle = new Rectangle();\n",
    "TestRectangle(rectangle); //期待するのは50、実際50であっている\n",
    "\n",
    "var square = new Square();\n",
    "TestRectangle(square); //期待するのは100、実際は50で間違っている"
   ]
  },
  {
   "cell_type": "markdown",
   "metadata": {},
   "source": [
    "#### 良い例"
   ]
  },
  {
   "cell_type": "code",
   "execution_count": 10,
   "metadata": {
    "vscode": {
     "languageId": "polyglot-notebook"
    }
   },
   "outputs": [
    {
     "name": "stdout",
     "output_type": "stream",
     "text": [
      "50\n",
      "100\n"
     ]
    }
   ],
   "source": [
    "// 良い例\n",
    "public interface IShape\n",
    "{\n",
    "    int CalculateArea();\n",
    "}\n",
    "\n",
    "public class Rectangle : IShape\n",
    "{\n",
    "    public int Width { get; set; }\n",
    "    public int Height { get; set; }\n",
    "\n",
    "    public int CalculateArea()\n",
    "    {\n",
    "        return Width * Height;\n",
    "    }\n",
    "}\n",
    "\n",
    "public class Square : IShape\n",
    "{\n",
    "    public int Side { get; set; }\n",
    "\n",
    "    public int CalculateArea()\n",
    "    {\n",
    "        return Side * Side;\n",
    "    }\n",
    "}\n",
    "\n",
    "\n",
    "var rectangle = new Rectangle();\n",
    "rectangle.Width = 5;\n",
    "rectangle.Height = 10;\n",
    "Console.WriteLine(rectangle.CalculateArea()); //期待するのは50、実際50であっている\n",
    "\n",
    "var square = new Square();\n",
    "square.Side = 10;\n",
    "Console.WriteLine(square.CalculateArea());  //期待するのは100、実際は100であっている"
   ]
  },
  {
   "cell_type": "markdown",
   "metadata": {},
   "source": [
    "## 4. インターフェース分離の原則（Interface Segregation Principle-ISP）\n",
    "\n",
    "### 概要\n",
    "\n",
    "クライアントが使用しないメソッドへの依存を強制されるべきではありません。大きなインターフェースはより小さく、より具体的なインターフェースにするべきです。\n",
    "\n",
    "### C#での例\n",
    "\n",
    "#### 良くない例"
   ]
  },
  {
   "cell_type": "code",
   "execution_count": 11,
   "metadata": {
    "vscode": {
     "languageId": "polyglot-notebook"
    }
   },
   "outputs": [
    {
     "name": "stdout",
     "output_type": "stream",
     "text": [
      "Human is working\n",
      "Human is eating\n",
      "Human is sleeping\n",
      "Robot is working\n"
     ]
    },
    {
     "ename": "Error",
     "evalue": "System.NotImplementedException: The method or operation is not implemented.\r\n   at Submission#12.Robot.Eat()\r\n   at Submission#12.<<Initialize>>d__0.MoveNext()\r\n--- End of stack trace from previous location ---\r\n   at Microsoft.CodeAnalysis.Scripting.ScriptExecutionState.RunSubmissionsAsync[TResult](ImmutableArray`1 precedingExecutors, Func`2 currentExecutor, StrongBox`1 exceptionHolderOpt, Func`2 catchExceptionOpt, CancellationToken cancellationToken)",
     "output_type": "error",
     "traceback": [
      "System.NotImplementedException: The method or operation is not implemented.\r\n",
      "   at Submission#12.Robot.Eat()\r\n",
      "   at Submission#12.<<Initialize>>d__0.MoveNext()\r\n",
      "--- End of stack trace from previous location ---\r\n",
      "   at Microsoft.CodeAnalysis.Scripting.ScriptExecutionState.RunSubmissionsAsync[TResult](ImmutableArray`1 precedingExecutors, Func`2 currentExecutor, StrongBox`1 exceptionHolderOpt, Func`2 catchExceptionOpt, CancellationToken cancellationToken)"
     ]
    }
   ],
   "source": [
    "// 良くない例\n",
    "public interface IWorker\n",
    "{\n",
    "    void Work();\n",
    "    void Eat();\n",
    "    void Sleep();\n",
    "}\n",
    "\n",
    "public class Human : IWorker\n",
    "{\n",
    "    public void Work() { Console.WriteLine(\"Human is working\"); }\n",
    "    public void Eat() { Console.WriteLine(\"Human is eating\"); }\n",
    "    public void Sleep() { Console.WriteLine(\"Human is sleeping\"); }\n",
    "}\n",
    "\n",
    "public class Robot : IWorker\n",
    "{\n",
    "    public void Work() { Console.WriteLine(\"Robot is working\"); }\n",
    "    public void Eat() { throw new NotImplementedException(); }\n",
    "    public void Sleep() { throw new NotImplementedException(); }\n",
    "}\n",
    "\n",
    "var human = new Human();\n",
    "human.Work(); //Human is working\n",
    "human.Eat(); //Human is eating\n",
    "human.Sleep(); //Human is sleeping\n",
    "\n",
    "var robot = new Robot();\n",
    "robot.Work(); //Robot is working\n",
    "robot.Eat(); // 例外がスローされる\n",
    "robot.Sleep(); // 例外がスローされる"
   ]
  },
  {
   "cell_type": "markdown",
   "metadata": {},
   "source": [
    "#### 良い例"
   ]
  },
  {
   "cell_type": "code",
   "execution_count": 12,
   "metadata": {
    "vscode": {
     "languageId": "polyglot-notebook"
    }
   },
   "outputs": [
    {
     "ename": "Error",
     "evalue": "(36,7): error CS1061: 'Robot' に 'Eat' の定義が含まれておらず、型 'Robot' の最初の引数を受け付けるアクセス可能な拡張メソッド 'Eat' が見つかりませんでした。using ディレクティブまたはアセンブリ参照が不足していないことを確認してください\r\n(37,7): error CS1061: 'Robot' に 'Sleep' の定義が含まれておらず、型 'Robot' の最初の引数を受け付けるアクセス可能な拡張メソッド 'Sleep' が見つかりませんでした。using ディレクティブまたはアセンブリ参照が不足していないことを確認してください",
     "output_type": "error",
     "traceback": [
      "(36,7): error CS1061: 'Robot' に 'Eat' の定義が含まれておらず、型 'Robot' の最初の引数を受け付けるアクセス可能な拡張メソッド 'Eat' が見つかりませんでした。using ディレクティブまたはアセンブリ参照が不足していないことを確認してください\r\n",
      "(37,7): error CS1061: 'Robot' に 'Sleep' の定義が含まれておらず、型 'Robot' の最初の引数を受け付けるアクセス可能な拡張メソッド 'Sleep' が見つかりませんでした。using ディレクティブまたはアセンブリ参照が不足していないことを確認してください"
     ]
    }
   ],
   "source": [
    "// 良い例\n",
    "public interface IWorkable\n",
    "{\n",
    "    void Work();\n",
    "}\n",
    "\n",
    "public interface IEatable\n",
    "{\n",
    "    void Eat();\n",
    "}\n",
    "\n",
    "public interface ISleepable\n",
    "{\n",
    "    void Sleep();\n",
    "}\n",
    "\n",
    "public class Human : IWorkable, IEatable, ISleepable\n",
    "{\n",
    "    public void Work() { Console.WriteLine(\"Human is working\"); }\n",
    "    public void Eat() { Console.WriteLine(\"Human is eating\"); }\n",
    "    public void Sleep() { Console.WriteLine(\"Human is sleeping\"); }\n",
    "}\n",
    "\n",
    "public class Robot : IWorkable\n",
    "{\n",
    "    public void Work() { Console.WriteLine(\"Robot is working\"); }\n",
    "}\n",
    "\n",
    "var human = new Human();\n",
    "human.Work(); //Human is working\n",
    "human.Eat(); //Human is eating\n",
    "human.Sleep(); //Human is sleeping\n",
    "\n",
    "var robot = new Robot();\n",
    "robot.Work(); //Robot is working\n",
    "robot.Eat(); // コンパイルエラーで未然にミスを防ぐ、IntelliSenseでメソッドが表示されない\n",
    "robot.Sleep(); // コンパイルエラーで未然にミスを防ぐ、IntelliSenseでメソッドが表示されない"
   ]
  },
  {
   "cell_type": "markdown",
   "metadata": {},
   "source": [
    "## 5. 依存性逆転の原則（Dependency Inversion Principle-DIP）\n",
    "\n",
    "### 概要\n",
    "\n",
    "高レベルのモジュールは低レベルのモジュールに依存するべきではありません。両者とも抽象に依存すべきです。また、抽象は詳細に依存すべきではありません。詳細が抽象に依存すべきです。\n",
    "\n",
    "### C#での例\n",
    "\n",
    "#### 良くない例"
   ]
  },
  {
   "cell_type": "code",
   "execution_count": 16,
   "metadata": {
    "vscode": {
     "languageId": "polyglot-notebook"
    }
   },
   "outputs": [
    {
     "name": "stdout",
     "output_type": "stream",
     "text": [
      "Email sent: 注文が処理されました\r\n"
     ]
    }
   ],
   "source": [
    "// 良くない例\n",
    "public class EmailNotifier\n",
    "{\n",
    "    public void SendEmail(string message)\n",
    "    {\n",
    "        // メール送信ロジック\n",
    "        Console.WriteLine(\"Email sent: \" + message);\n",
    "    }\n",
    "}\n",
    "\n",
    "public class Order { }\n",
    "\n",
    "public class OrderProcessor\n",
    "{\n",
    "    private EmailNotifier _emailNotifier = new EmailNotifier();\n",
    "\n",
    "    public void ProcessOrder(Order order)\n",
    "    {\n",
    "        // 注文処理ロジック\n",
    "        _emailNotifier.SendEmail(\"注文が処理されました\");\n",
    "    }\n",
    "}\n",
    "\n",
    "var orderProcessor = new OrderProcessor();\n",
    "orderProcessor.ProcessOrder(new Order()); //Email sent: 注文が処理されました"
   ]
  },
  {
   "cell_type": "markdown",
   "metadata": {},
   "source": [
    "#### 良い例"
   ]
  },
  {
   "cell_type": "code",
   "execution_count": 15,
   "metadata": {
    "vscode": {
     "languageId": "polyglot-notebook"
    }
   },
   "outputs": [
    {
     "name": "stdout",
     "output_type": "stream",
     "text": [
      "Email: 注文が処理されました\n",
      "SMS: 注文が処理されました\n"
     ]
    }
   ],
   "source": [
    "// 良い例\n",
    "public interface INotifier\n",
    "{\n",
    "    void Send(string message);\n",
    "}\n",
    "\n",
    "public class EmailNotifier : INotifier\n",
    "{\n",
    "    public void Send(string message)\n",
    "    {\n",
    "        // メール送信ロジック\n",
    "        Console.WriteLine(\"Email: \" + message);\n",
    "    }\n",
    "}\n",
    "\n",
    "public class SMSNotifier : INotifier\n",
    "{\n",
    "    public void Send(string message)\n",
    "    {\n",
    "        // SMS送信ロジック\n",
    "        Console.WriteLine(\"SMS: \" + message);\n",
    "    }\n",
    "}\n",
    "\n",
    "public class OrderProcessor\n",
    "{\n",
    "    private readonly INotifier _notifier;\n",
    "\n",
    "    public OrderProcessor(INotifier notifier)\n",
    "    {\n",
    "        _notifier = notifier;\n",
    "    }\n",
    "\n",
    "    public void ProcessOrder(Order order)\n",
    "    {\n",
    "        // 注文処理ロジック\n",
    "        _notifier.Send(\"注文が処理されました\");\n",
    "    }\n",
    "}\n",
    "\n",
    "\n",
    "var orderProcessor = new OrderProcessor(new EmailNotifier());\n",
    "orderProcessor.ProcessOrder(new Order()); //Email: 注文が処理されました\n",
    "\n",
    "var orderProcessor2 = new OrderProcessor(new SMSNotifier());\n",
    "orderProcessor2.ProcessOrder(new Order()); //SMS: 注文が処理されました"
   ]
  },
  {
   "cell_type": "markdown",
   "metadata": {},
   "source": [
    "## まとめ\n",
    "\n",
    "SOLID原則を適用することで、より柔軟で保守しやすく、拡張性の高いコードを書くことができます。これらの原則は、大規模なソフトウェアプロジェクトで特に重要となりますが、小規模なプロジェクトでも適用することで、コードの品質を向上させることができます。\n",
    "\n",
    "ただし、これらの原則を過度に適用すると、不必要に複雑なコードになる可能性があるため、プロジェクトの規模や案件の規模に応じて適切に判断することが重要です。\n",
    "\n",
    "SOLID原則を意識しながらコーディングを行うことで、より良いソフトウェア設計のスキルを身につけることができるでしょう。"
   ]
  }
 ],
 "metadata": {
  "kernelspec": {
   "display_name": ".NET (C#)",
   "language": "C#",
   "name": ".net-csharp"
  },
  "language_info": {
   "name": "python"
  },
  "polyglot_notebook": {
   "kernelInfo": {
    "defaultKernelName": "csharp",
    "items": [
     {
      "aliases": [],
      "name": "csharp"
     }
    ]
   }
  }
 },
 "nbformat": 4,
 "nbformat_minor": 2
}
