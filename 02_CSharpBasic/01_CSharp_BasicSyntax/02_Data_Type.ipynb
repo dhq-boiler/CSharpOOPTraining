{
 "cells": [
  {
   "cell_type": "markdown",
   "metadata": {},
   "source": [
    "# C#のデータ型\n",
    "\n",
    "C#は静的型付け言語であり、変数を宣言する際にデータ型を指定する必要があります。C#には様々なデータ型が用意されており、それぞれ特定の種類のデータを格納するために設計されています。この記事では、C#の主要なデータ型について説明します。\n",
    "\n",
    "## 1.値型 (Value Types)\n",
    "\n",
    "値型は、データをスタックに直接格納します。主な値型には以下のものがあります。\n",
    "\n",
    "### 整数型\n",
    "\n",
    "整数型は、小数点のない数値を表します。"
   ]
  },
  {
   "cell_type": "code",
   "execution_count": 1,
   "metadata": {
    "vscode": {
     "languageId": "polyglot-notebook"
    }
   },
   "outputs": [
    {
     "name": "stdout",
     "output_type": "stream",
     "text": [
      "byte: 255\n",
      "sbyte: -128\n",
      "short: 32767\n",
      "ushort: 65535\n",
      "int: 2147483647\n",
      "uint: 4294967295\n",
      "long: 9223372036854775807\n",
      "ulong: 18446744073709551615\n"
     ]
    }
   ],
   "source": [
    "// 整数型の例\n",
    "byte myByte = 255;        // 8ビット符号なし整数 (0 to 255)\n",
    "sbyte mySByte = -128;     // 8ビット符号付き整数 (-128 to 127)\n",
    "short myShort = 32767;    // 16ビット符号付き整数\n",
    "ushort myUShort = 65535;  // 16ビット符号なし整数\n",
    "int myInt = 2147483647;   // 32ビット符号付き整数\n",
    "uint myUInt = 4294967295; // 32ビット符号なし整数\n",
    "long myLong = 9223372036854775807;  // 64ビット符号付き整数\n",
    "ulong myULong = 18446744073709551615; // 64ビット符号なし整数\n",
    "\n",
    "Console.WriteLine($\"byte: {myByte}\");\n",
    "Console.WriteLine($\"sbyte: {mySByte}\");\n",
    "Console.WriteLine($\"short: {myShort}\");\n",
    "Console.WriteLine($\"ushort: {myUShort}\");\n",
    "Console.WriteLine($\"int: {myInt}\");\n",
    "Console.WriteLine($\"uint: {myUInt}\");\n",
    "Console.WriteLine($\"long: {myLong}\");\n",
    "Console.WriteLine($\"ulong: {myULong}\");"
   ]
  },
  {
   "cell_type": "markdown",
   "metadata": {
    "vscode": {
     "languageId": "plaintext"
    }
   },
   "source": [
    "### 浮動小数点型\n",
    "\n",
    "浮動小数点型は、小数点を含む数値を表します。"
   ]
  },
  {
   "cell_type": "code",
   "execution_count": 2,
   "metadata": {
    "vscode": {
     "languageId": "polyglot-notebook"
    }
   },
   "outputs": [
    {
     "name": "stdout",
     "output_type": "stream",
     "text": [
      "float: 3.14\n",
      "double: 3.14159265359\n",
      "decimal: 3.14159265359\n"
     ]
    }
   ],
   "source": [
    "// 浮動小数点型の例\n",
    "float myFloat = 3.14f;    // 32ビット浮動小数点数\n",
    "double myDouble = 3.14159265359; // 64ビット浮動小数点数\n",
    "decimal myDecimal = 3.14159265359m; // 128ビット高精度小数点数\n",
    "\n",
    "Console.WriteLine($\"float: {myFloat}\");\n",
    "Console.WriteLine($\"double: {myDouble}\");\n",
    "Console.WriteLine($\"decimal: {myDecimal}\");"
   ]
  },
  {
   "cell_type": "markdown",
   "metadata": {},
   "source": [
    "#### 浮動小数点型と十進浮動小数点型\n",
    "\n",
    "浮動小数点型は、小数点を含む数値を表します。C#には以下の型があります："
   ]
  },
  {
   "cell_type": "code",
   "execution_count": 10,
   "metadata": {
    "vscode": {
     "languageId": "polyglot-notebook"
    }
   },
   "outputs": [
    {
     "name": "stdout",
     "output_type": "stream",
     "text": [
      "float: 3.14\n",
      "double: 3.14159265359\n"
     ]
    }
   ],
   "source": [
    "// 浮動小数点型の例\n",
    "float myFloat = 3.14f;    // 32ビット浮動小数点数\n",
    "double myDouble = 3.14159265359; // 64ビット浮動小数点数\n",
    "\n",
    "Console.WriteLine($\"float: {myFloat}\");\n",
    "Console.WriteLine($\"double: {myDouble}\");"
   ]
  },
  {
   "cell_type": "markdown",
   "metadata": {},
   "source": [
    "また、高精度の十進浮動小数点型として `decimal` 型があります："
   ]
  },
  {
   "cell_type": "code",
   "execution_count": 11,
   "metadata": {
    "vscode": {
     "languageId": "polyglot-notebook"
    }
   },
   "outputs": [
    {
     "name": "stdout",
     "output_type": "stream",
     "text": [
      "decimal: 3.14159265359\r\n"
     ]
    }
   ],
   "source": [
    "// 十進浮動小数点型（decimal）の例\n",
    "decimal myDecimal = 3.14159265359m; // 128ビット高精度十進浮動小数点数\n",
    "\n",
    "Console.WriteLine($\"decimal: {myDecimal}\");"
   ]
  },
  {
   "cell_type": "markdown",
   "metadata": {},
   "source": [
    "`decimal`型は、`float`や`double`とは異なり、十進浮動小数点数を表します。金融計算や高精度が必要な場合に使用されます。\n",
    "浮動小数点型と十進浮動小数点型の違い\n",
    "\n",
    "`float`と`double`：バイナリ浮動小数点数を使用。高速だが、一部の十進数を正確に表現できない。\n",
    "`decimal`：十進浮動小数点数を使用。より精密だが、計算速度は遅い。\n",
    "\n",
    "例えば、金額計算での違いを見てみましょう："
   ]
  },
  {
   "cell_type": "code",
   "execution_count": 12,
   "metadata": {
    "vscode": {
     "languageId": "polyglot-notebook"
    }
   },
   "outputs": [
    {
     "name": "stdout",
     "output_type": "stream",
     "text": [
      "Double result: 0.30000000000000004\n",
      "Decimal result: 0.3\n"
     ]
    }
   ],
   "source": [
    "double doubleResult = 0.1 + 0.2;\n",
    "decimal decimalResult = 0.1m + 0.2m;\n",
    "\n",
    "Console.WriteLine($\"Double result: {doubleResult}\"); // 0.30000000000000004\n",
    "Console.WriteLine($\"Decimal result: {decimalResult}\"); // 0.3"
   ]
  },
  {
   "cell_type": "markdown",
   "metadata": {},
   "source": [
    "この例から、`decimal` 型が金融計算に適していることがわかります。"
   ]
  },
  {
   "cell_type": "markdown",
   "metadata": {},
   "source": [
    "### 論理型\n",
    "\n",
    "論理型は、真偽値（trueまたはfalse）を表します。"
   ]
  },
  {
   "cell_type": "code",
   "execution_count": 3,
   "metadata": {
    "vscode": {
     "languageId": "polyglot-notebook"
    }
   },
   "outputs": [
    {
     "name": "stdout",
     "output_type": "stream",
     "text": [
      "isTrue: True\n",
      "isFalse: False\n"
     ]
    }
   ],
   "source": [
    "// 論理型の例\n",
    "bool isTrue = true;\n",
    "bool isFalse = false;\n",
    "\n",
    "Console.WriteLine($\"isTrue: {isTrue}\");\n",
    "Console.WriteLine($\"isFalse: {isFalse}\");"
   ]
  },
  {
   "cell_type": "markdown",
   "metadata": {},
   "source": [
    "### 文字型\n",
    "\n",
    "文字型は、単一のUnicode文字を表します。"
   ]
  },
  {
   "cell_type": "code",
   "execution_count": 4,
   "metadata": {
    "vscode": {
     "languageId": "polyglot-notebook"
    }
   },
   "outputs": [
    {
     "name": "stdout",
     "output_type": "stream",
     "text": [
      "myChar: A\n",
      "unicodeChar: あ\n"
     ]
    }
   ],
   "source": [
    "// 文字型の例\n",
    "char myChar = 'A';\n",
    "char unicodeChar = '\\u3042'; // ひらがなの「あ」\n",
    "\n",
    "Console.WriteLine($\"myChar: {myChar}\");\n",
    "Console.WriteLine($\"unicodeChar: {unicodeChar}\");"
   ]
  },
  {
   "cell_type": "markdown",
   "metadata": {},
   "source": [
    "## 2.参照型 (Reference Types)\n",
    "\n",
    "参照型は、データへの参照（メモリアドレス）をスタックに格納し、実際のデータはヒープに格納します。\n",
    "\n",
    "### 文字列型\n",
    "\n",
    "文字列型は、テキストデータを表します。"
   ]
  },
  {
   "cell_type": "code",
   "execution_count": 5,
   "metadata": {
    "vscode": {
     "languageId": "polyglot-notebook"
    }
   },
   "outputs": [
    {
     "name": "stdout",
     "output_type": "stream",
     "text": [
      "myString: Hello, World!\n",
      "emptyString: ''\n"
     ]
    }
   ],
   "source": [
    "// 文字列型の例\n",
    "string myString = \"Hello, World!\";\n",
    "string emptyString = string.Empty; // 空の文字列\n",
    "\n",
    "Console.WriteLine($\"myString: {myString}\");\n",
    "Console.WriteLine($\"emptyString: '{emptyString}'\");"
   ]
  },
  {
   "cell_type": "markdown",
   "metadata": {},
   "source": [
    "### オブジェクト型\n",
    "\n",
    "オブジェクト型は、すべての型の基底クラスです。"
   ]
  },
  {
   "cell_type": "code",
   "execution_count": 6,
   "metadata": {
    "vscode": {
     "languageId": "polyglot-notebook"
    }
   },
   "outputs": [
    {
     "name": "stdout",
     "output_type": "stream",
     "text": [
      "myObject: 42\n",
      "myStringObject: This is a string\n"
     ]
    }
   ],
   "source": [
    "// オブジェクト型の例\n",
    "object myObject = 42;\n",
    "object myStringObject = \"This is a string\";\n",
    "\n",
    "Console.WriteLine($\"myObject: {myObject}\");\n",
    "Console.WriteLine($\"myStringObject: {myStringObject}\");"
   ]
  },
  {
   "cell_type": "markdown",
   "metadata": {},
   "source": [
    "## 3.配列 (Array)\n",
    "\n",
    "配列は、同じデータ型の要素の集合を表します。"
   ]
  },
  {
   "cell_type": "code",
   "execution_count": 7,
   "metadata": {
    "vscode": {
     "languageId": "polyglot-notebook"
    }
   },
   "outputs": [
    {
     "name": "stdout",
     "output_type": "stream",
     "text": [
      "myIntArray[2]: 3\n",
      "myStringArray[1]: Banana\n"
     ]
    }
   ],
   "source": [
    "// 配列の例\n",
    "int[] myIntArray = { 1, 2, 3, 4, 5 };\n",
    "string[] myStringArray = { \"Apple\", \"Banana\", \"Cherry\" };\n",
    "\n",
    "Console.WriteLine($\"myIntArray[2]: {myIntArray[2]}\");\n",
    "Console.WriteLine($\"myStringArray[1]: {myStringArray[1]}\");"
   ]
  },
  {
   "cell_type": "markdown",
   "metadata": {},
   "source": [
    "## 4.列挙型 (Enum)\n",
    "\n",
    "列挙型は、名前付きの定数のセットを表します。"
   ]
  },
  {
   "cell_type": "code",
   "execution_count": 8,
   "metadata": {
    "vscode": {
     "languageId": "polyglot-notebook"
    }
   },
   "outputs": [
    {
     "name": "stdout",
     "output_type": "stream",
     "text": [
      "Today is Wednesday\r\n"
     ]
    }
   ],
   "source": [
    "// 列挙型の例\n",
    "enum DaysOfWeek\n",
    "{\n",
    "    Sunday,\n",
    "    Monday,\n",
    "    Tuesday,\n",
    "    Wednesday,\n",
    "    Thursday,\n",
    "    Friday,\n",
    "    Saturday\n",
    "}\n",
    "\n",
    "DaysOfWeek today = DaysOfWeek.Wednesday;\n",
    "Console.WriteLine($\"Today is {today}\");"
   ]
  },
  {
   "cell_type": "markdown",
   "metadata": {},
   "source": [
    "## 5.構造体 (Struct)\n",
    "\n",
    "構造体は、関連するデータと機能をグループ化するための値型です。"
   ]
  },
  {
   "cell_type": "code",
   "execution_count": 9,
   "metadata": {
    "vscode": {
     "languageId": "polyglot-notebook"
    }
   },
   "outputs": [
    {
     "name": "stdout",
     "output_type": "stream",
     "text": [
      "Point: (10, 20)\r\n"
     ]
    }
   ],
   "source": [
    "// 構造体の例\n",
    "struct Point\n",
    "{\n",
    "    public int X;\n",
    "    public int Y;\n",
    "\n",
    "    public Point(int x, int y)\n",
    "    {\n",
    "        X = x;\n",
    "        Y = y;\n",
    "    }\n",
    "}\n",
    "\n",
    "Point myPoint = new Point(10, 20);\n",
    "Console.WriteLine($\"Point: ({myPoint.X}, {myPoint.Y})\");"
   ]
  },
  {
   "cell_type": "markdown",
   "metadata": {},
   "source": [
    "## まとめ\n",
    "\n",
    "C#は豊富なデータ型を提供しており、適切なデータ型を選択することでプログラムの効率と可読性を向上させることができます。値型と参照型の違いを理解し、状況に応じて適切な型を使用することが重要です。特に、数値計算においては`float`、`double`、`decimal`の特性を理解し、用途に応じて適切に選択することが重要です。また、配列、列挙型、構造体などの複合型を活用することで、より複雑なデータ構造を表現できます。\n",
    "これらのデータ型を適切に使いこなすことで、より堅牢で効率的なC#プログラムを作成することができます。"
   ]
  }
 ],
 "metadata": {
  "kernelspec": {
   "display_name": ".NET (C#)",
   "language": "C#",
   "name": ".net-csharp"
  },
  "language_info": {
   "name": "python"
  },
  "polyglot_notebook": {
   "kernelInfo": {
    "defaultKernelName": "csharp",
    "items": [
     {
      "aliases": [],
      "name": "csharp"
     }
    ]
   }
  }
 },
 "nbformat": 4,
 "nbformat_minor": 2
}
