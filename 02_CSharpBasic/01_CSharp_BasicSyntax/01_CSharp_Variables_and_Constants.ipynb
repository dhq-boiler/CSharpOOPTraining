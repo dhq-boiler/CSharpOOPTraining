{
 "cells": [
  {
   "cell_type": "markdown",
   "metadata": {},
   "source": [
    "# C#の変数と定数\n",
    "\n",
    "C#プログラミングにおいて、変数と定数は基本的かつ重要な概念です。この記事では、C#での変数と定数の使い方、宣言方法、そして両者の違いについて説明します。\n",
    "\n",
    "## 変数\n",
    "\n",
    "変数は、データを格納するためのコンテナです。プログラムの実行中に値を変更できます。\n",
    "\n",
    "### 変数の宣言\n",
    "\n",
    "C#では、変数を宣言する際に型を指定する必要があります。基本的な構文は次のとおりです：\n",
    "\n",
    "```\n",
    "データ型 変数名;\n",
    "```\n",
    "\n",
    "例えば："
   ]
  },
  {
   "cell_type": "code",
   "execution_count": 1,
   "metadata": {
    "dotnet_interactive": {
     "language": "csharp"
    },
    "polyglot_notebook": {
     "kernelName": "csharp"
    },
    "vscode": {
     "languageId": "polyglot-notebook"
    }
   },
   "outputs": [],
   "source": [
    "int age;\n",
    "string name;\n",
    "double salary;"
   ]
  },
  {
   "cell_type": "markdown",
   "metadata": {},
   "source": [
    "### 変数の初期化\n",
    "\n",
    "変数を宣言すると同時に初期化することもできます："
   ]
  },
  {
   "cell_type": "code",
   "execution_count": 2,
   "metadata": {
    "dotnet_interactive": {
     "language": "csharp"
    },
    "polyglot_notebook": {
     "kernelName": "csharp"
    },
    "vscode": {
     "languageId": "polyglot-notebook"
    }
   },
   "outputs": [],
   "source": [
    "int age = 30;\n",
    "string name = \"Jane Doe\";\n",
    "double salary = 50000.50;"
   ]
  },
  {
   "cell_type": "markdown",
   "metadata": {},
   "source": [
    "\n",
    "また、C# 3.0 以降では、`var` キーワードを使用して型推論を行うこともできます：\n"
   ]
  },
  {
   "cell_type": "code",
   "execution_count": 3,
   "metadata": {
    "dotnet_interactive": {
     "language": "csharp"
    },
    "polyglot_notebook": {
     "kernelName": "csharp"
    },
    "vscode": {
     "languageId": "polyglot-notebook"
    }
   },
   "outputs": [],
   "source": [
    "var age = 30; // int型と推論される\n",
    "var name = \"Jane Doe\"; // string型と推論される\n",
    "var salary = 50000.50; // double型と推論される"
   ]
  },
  {
   "cell_type": "markdown",
   "metadata": {},
   "source": [
    "\n",
    "### 変数の使用例"
   ]
  },
  {
   "cell_type": "code",
   "execution_count": 4,
   "metadata": {
    "dotnet_interactive": {
     "language": "csharp"
    },
    "polyglot_notebook": {
     "kernelName": "csharp"
    },
    "vscode": {
     "languageId": "polyglot-notebook"
    }
   },
   "outputs": [
    {
     "name": "stdout",
     "output_type": "stream",
     "text": [
      "The sum of 5 and 10 is 15\r\n"
     ]
    }
   ],
   "source": [
    "int x = 5;\n",
    "int y = 10;\n",
    "int sum = x + y;\n",
    "Console.WriteLine($\"The sum of {x} and {y} is {sum}\");"
   ]
  },
  {
   "cell_type": "markdown",
   "metadata": {},
   "source": [
    "## 定数\n",
    "\n",
    "定数は、プログラムの実行中に値が変更されない定数です。定数を使用することで、コード内で繰り返し使用される値を一箇所で管理でき、可読性と保守性が向上します。\n",
    "\n",
    "### 定数の宣言\n",
    "\n",
    "定数を宣言するには、`const`キーワードを使用します：\n",
    "\n",
    "```\n",
    "const データ型 定数名 = 値;\n",
    "```\n",
    "\n",
    "例えば："
   ]
  },
  {
   "cell_type": "code",
   "execution_count": 5,
   "metadata": {
    "dotnet_interactive": {
     "language": "csharp"
    },
    "polyglot_notebook": {
     "kernelName": "csharp"
    },
    "vscode": {
     "languageId": "polyglot-notebook"
    }
   },
   "outputs": [],
   "source": [
    "const int MaxStudents = 30;\n",
    "const double Pi = 3.14159;\n",
    "const string CompanyName = \"Acme Corp\";"
   ]
  },
  {
   "cell_type": "markdown",
   "metadata": {},
   "source": [
    "\n",
    "### 定数の特徴\n",
    "\n",
    "* 定数は宣言と同時に初期化する必要があります。\n",
    "\n",
    "* 定数の値は、コンパイル時に決定される必要があります。\n",
    "\n",
    "* 定数は、メソッド内でローカルに宣言することも、クラスレベルで宣言することもできます。\n",
    "\n",
    "### 定数の使用例"
   ]
  },
  {
   "cell_type": "code",
   "execution_count": 6,
   "metadata": {
    "dotnet_interactive": {
     "language": "csharp"
    },
    "polyglot_notebook": {
     "kernelName": "csharp"
    },
    "vscode": {
     "languageId": "polyglot-notebook"
    }
   },
   "outputs": [
    {
     "name": "stdout",
     "output_type": "stream",
     "text": [
      "The area of a circle with radius 5 is 78.53975\r\n"
     ]
    }
   ],
   "source": [
    "const double Pi = 3.14159;\n",
    "double radius = 5;\n",
    "double area = Pi * radius * radius;\n",
    "Console.WriteLine($\"The area of a circle with radius {radius} is {area}\");"
   ]
  },
  {
   "cell_type": "markdown",
   "metadata": {},
   "source": [
    "## 変数と定数の違い\n",
    "\n",
    "1. 値の変更：\n",
    "    * 変数：プログラムの実行中に値を変更できる\n",
    "    * 定数：一度初期化すると値を変更できない\n",
    "1. 初期化：\n",
    "    * 変数：宣言後に初期化できる\n",
    "    * 定数：宣言と同時に初期化する必要がある\n",
    "1. 使用目的：\n",
    "    * 変数：プログラムの実行中に変化する値を格納する\n",
    "    * 定数：プログラム全体で一貫して使用される固定値を格納する\n",
    "1. パフォーマンス：\n",
    "    * 定数はコンパイル時に値が決定されるため、わずかながらパフォーマンス上の利点がある場合がある\n",
    "\n",
    "## まとめ\n",
    "\n",
    "変数と定数は、C#プログラミングの基本的な構成要素です。適切に使用することで、コードの可読性、保守性、そしてパフォーマンスを向上させることができます。変数は動的なデータを扱う際に使用し、定数は固定値を表現する際に使用します。プログラミングの際は、データの性質を考慮して、変数と定数を適切に選択することが重要です。"
   ]
  }
 ],
 "metadata": {
  "kernelspec": {
   "display_name": ".NET (C#)",
   "language": "C#",
   "name": ".net-csharp"
  },
  "language_info": {
   "name": "python"
  },
  "polyglot_notebook": {
   "kernelInfo": {
    "defaultKernelName": "csharp",
    "items": [
     {
      "aliases": [],
      "name": "csharp"
     }
    ]
   }
  }
 },
 "nbformat": 4,
 "nbformat_minor": 2
}
