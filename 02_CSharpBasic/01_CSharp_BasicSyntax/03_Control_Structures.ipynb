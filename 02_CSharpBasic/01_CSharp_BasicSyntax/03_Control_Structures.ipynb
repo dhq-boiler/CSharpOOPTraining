{
 "cells": [
  {
   "cell_type": "markdown",
   "metadata": {},
   "source": [
    "# C#の制御構造\n",
    "\n",
    "C#には、プログラムの流れを制御するための様々な構造があります。この記事では、主要な制御構造について説明します。\n",
    "\n",
    "## if文\n",
    "\n",
    "if文は条件に基づいてコードブロックを実行するかどうかを決定します。"
   ]
  },
  {
   "cell_type": "code",
   "execution_count": 1,
   "metadata": {
    "dotnet_interactive": {
     "language": "csharp"
    },
    "polyglot_notebook": {
     "kernelName": "csharp"
    },
    "vscode": {
     "languageId": "polyglot-notebook"
    }
   },
   "outputs": [
    {
     "name": "stdout",
     "output_type": "stream",
     "text": [
      "数字は正です\r\n"
     ]
    }
   ],
   "source": [
    "int number = 10;\n",
    "\n",
    "if (number > 0)\n",
    "{\n",
    "    Console.WriteLine(\"数字は正です\");\n",
    "}\n",
    "else if (number < 0)\n",
    "{\n",
    "    Console.WriteLine(\"数字は負です\");\n",
    "}\n",
    "else\n",
    "{\n",
    "    Console.WriteLine(\"数字はゼロです\");\n",
    "}"
   ]
  },
  {
   "cell_type": "markdown",
   "metadata": {},
   "source": [
    "## switch文\n",
    "\n",
    "switch文は、式の値に基づいて複数の実行パスから1つを選択します。"
   ]
  },
  {
   "cell_type": "code",
   "execution_count": 2,
   "metadata": {
    "dotnet_interactive": {
     "language": "csharp"
    },
    "polyglot_notebook": {
     "kernelName": "csharp"
    },
    "vscode": {
     "languageId": "polyglot-notebook"
    }
   },
   "outputs": [
    {
     "name": "stdout",
     "output_type": "stream",
     "text": [
      "今日は 水曜日 です\r\n"
     ]
    }
   ],
   "source": [
    "int dayNumber = 3;\n",
    "string dayName;\n",
    "\n",
    "switch (dayNumber)\n",
    "{\n",
    "    case 1:\n",
    "        dayName = \"月曜日\";\n",
    "        break;\n",
    "    case 2:\n",
    "        dayName = \"火曜日\";\n",
    "        break;\n",
    "    case 3:\n",
    "        dayName = \"水曜日\";\n",
    "        break;\n",
    "    // ... 他の曜日 ...\n",
    "    default:\n",
    "        dayName = \"無効な日付\";\n",
    "        break;\n",
    "}\n",
    "\n",
    "Console.WriteLine($\"今日は {dayName} です\");"
   ]
  },
  {
   "cell_type": "markdown",
   "metadata": {},
   "source": [
    "## for文\n",
    "\n",
    "for文は、指定された回数だけ繰り返し処理を行うための制御構造です。基本的な構文は次のとおりです：\n",
    "\n",
    "```csharp\n",
    "for (初期化; 条件; 更新)\n",
    "{\n",
    "    // 繰り返し実行するコード\n",
    "}\n",
    "```\n",
    "\n",
    "### 標準的な使用方法"
   ]
  },
  {
   "cell_type": "code",
   "execution_count": 8,
   "metadata": {
    "dotnet_interactive": {
     "language": "csharp"
    },
    "polyglot_notebook": {
     "kernelName": "csharp"
    },
    "vscode": {
     "languageId": "polyglot-notebook"
    }
   },
   "outputs": [
    {
     "name": "stdout",
     "output_type": "stream",
     "text": [
      "繰り返し 1回目\n",
      "繰り返し 2回目\n",
      "繰り返し 3回目\n",
      "繰り返し 4回目\n",
      "繰り返し 5回目\n"
     ]
    }
   ],
   "source": [
    "for (int i = 0; i < 5; i++)\n",
    "{\n",
    "    Console.WriteLine($\"繰り返し {i + 1}回目\");\n",
    "}"
   ]
  },
  {
   "cell_type": "markdown",
   "metadata": {},
   "source": [
    "### 複数の変数の初期化と更新"
   ]
  },
  {
   "cell_type": "code",
   "execution_count": null,
   "metadata": {
    "dotnet_interactive": {
     "language": "csharp"
    },
    "polyglot_notebook": {
     "kernelName": "csharp"
    },
    "vscode": {
     "languageId": "polyglot-notebook"
    }
   },
   "outputs": [],
   "source": [
    "for (int i = 0, j = 10; i < 5; i++, j--)\n",
    "{\n",
    "    Console.WriteLine($\"i = {i}, j = {j}\");\n",
    "}"
   ]
  },
  {
   "cell_type": "markdown",
   "metadata": {},
   "source": [
    "### 部分の省略\n",
    "\n",
    "for文の初期化、条件、更新の部分は、必要に応じて省略することができます。\n",
    "\n",
    "#### 初期化の省略"
   ]
  },
  {
   "cell_type": "code",
   "execution_count": 9,
   "metadata": {
    "dotnet_interactive": {
     "language": "csharp"
    },
    "polyglot_notebook": {
     "kernelName": "csharp"
    },
    "vscode": {
     "languageId": "polyglot-notebook"
    }
   },
   "outputs": [
    {
     "name": "stdout",
     "output_type": "stream",
     "text": [
      "0\n",
      "1\n",
      "2\n",
      "3\n",
      "4\n"
     ]
    }
   ],
   "source": [
    "int i = 0;\n",
    "for (; i < 5; i++)\n",
    "{\n",
    "    Console.WriteLine(i);\n",
    "}"
   ]
  },
  {
   "cell_type": "markdown",
   "metadata": {},
   "source": [
    "#### 条件の省略 (無限ループ)"
   ]
  },
  {
   "cell_type": "code",
   "execution_count": 10,
   "metadata": {
    "dotnet_interactive": {
     "language": "csharp"
    },
    "polyglot_notebook": {
     "kernelName": "csharp"
    },
    "vscode": {
     "languageId": "polyglot-notebook"
    }
   },
   "outputs": [
    {
     "name": "stdout",
     "output_type": "stream",
     "text": [
      "0\n",
      "1\n",
      "2\n",
      "3\n",
      "4\n",
      "5\n"
     ]
    }
   ],
   "source": [
    "for (int i = 0;; i++)\n",
    "{\n",
    "    Console.WriteLine(i);\n",
    "    if (i >= 5) break;\n",
    "}"
   ]
  },
  {
   "cell_type": "markdown",
   "metadata": {},
   "source": [
    "#### 更新の省略"
   ]
  },
  {
   "cell_type": "code",
   "execution_count": 12,
   "metadata": {
    "dotnet_interactive": {
     "language": "csharp"
    },
    "polyglot_notebook": {
     "kernelName": "csharp"
    },
    "vscode": {
     "languageId": "polyglot-notebook"
    }
   },
   "outputs": [
    {
     "name": "stdout",
     "output_type": "stream",
     "text": [
      "0\n",
      "1\n",
      "2\n",
      "3\n",
      "4\n"
     ]
    }
   ],
   "source": [
    "for (int i = 0; i < 5;)\n",
    "{\n",
    "    Console.WriteLine(i);\n",
    "    i++;\n",
    "}"
   ]
  },
  {
   "cell_type": "markdown",
   "metadata": {},
   "source": [
    "#### すべての部分の省略"
   ]
  },
  {
   "cell_type": "code",
   "execution_count": 11,
   "metadata": {
    "dotnet_interactive": {
     "language": "csharp"
    },
    "polyglot_notebook": {
     "kernelName": "csharp"
    },
    "vscode": {
     "languageId": "polyglot-notebook"
    }
   },
   "outputs": [
    {
     "name": "stdout",
     "output_type": "stream",
     "text": [
      "0\n",
      "1\n",
      "2\n",
      "3\n",
      "4\n"
     ]
    }
   ],
   "source": [
    "int i = 0;\n",
    "for (;;)\n",
    "{\n",
    "    if (i >= 5) break;\n",
    "    Console.WriteLine(i);\n",
    "    i++;\n",
    "}"
   ]
  },
  {
   "cell_type": "markdown",
   "metadata": {},
   "source": [
    "#### 複雑な条件や更新"
   ]
  },
  {
   "cell_type": "code",
   "execution_count": 13,
   "metadata": {
    "dotnet_interactive": {
     "language": "csharp"
    },
    "polyglot_notebook": {
     "kernelName": "csharp"
    },
    "vscode": {
     "languageId": "polyglot-notebook"
    }
   },
   "outputs": [
    {
     "name": "stdout",
     "output_type": "stream",
     "text": [
      "0\n",
      "1\n",
      "3\n",
      "7\n"
     ]
    }
   ],
   "source": [
    "for (int i = 0; i * i < 100; i = i * 2 + 1)\n",
    "{\n",
    "    Console.WriteLine(i);\n",
    "}"
   ]
  },
  {
   "cell_type": "markdown",
   "metadata": {},
   "source": [
    "#### 注意点\n",
    "\n",
    "* for文の各部分（初期化、条件、更新）はカンマを使って複数の式を含めることができますが、可読性を考慮して使用しましょう。\n",
    "* 無限ループを作成する場合は、必ず適切な終了条件（breakステートメントなど）を設けてください。\n",
    "* 複雑なfor文は、コードの可読性を低下させる可能性があります。必要に応じて、while文や他の制御構造の使用を検討してください。\n",
    "\n",
    "for文は非常に柔軟で強力な制御構造ですが、適切に使用することが重要です。目的に応じて最適な形式を選択し、コードの可読性と保守性を維持するようにしましょう。"
   ]
  },
  {
   "cell_type": "markdown",
   "metadata": {},
   "source": [
    "## while文\n",
    "\n",
    "while文は、条件が真である間、繰り返し処理を行います。"
   ]
  },
  {
   "cell_type": "code",
   "execution_count": 3,
   "metadata": {
    "dotnet_interactive": {
     "language": "csharp"
    },
    "polyglot_notebook": {
     "kernelName": "csharp"
    },
    "vscode": {
     "languageId": "polyglot-notebook"
    }
   },
   "outputs": [
    {
     "name": "stdout",
     "output_type": "stream",
     "text": [
      "カウント: 0\n",
      "カウント: 1\n",
      "カウント: 2\n",
      "カウント: 3\n",
      "カウント: 4\n"
     ]
    }
   ],
   "source": [
    "int count = 0;\n",
    "while (count < 5)\n",
    "{\n",
    "    Console.WriteLine($\"カウント: {count}\");\n",
    "    count++;\n",
    "}"
   ]
  },
  {
   "cell_type": "markdown",
   "metadata": {},
   "source": [
    "## Professional Tips\n",
    "\n",
    "### 1. パフォーマンスの考慮\n",
    "\n",
    "一般的に、for文はwhile文と比較してわずかにパフォーマンスが劣る場合があります。これは、for文の各イテレーションで条件チェックと更新操作が行われるためです。特に性能が重要な場面では、while文の使用を検討することがあります。\n",
    "\n",
    "#### 例:"
   ]
  },
  {
   "cell_type": "code",
   "execution_count": null,
   "metadata": {
    "dotnet_interactive": {
     "language": "csharp"
    },
    "polyglot_notebook": {
     "kernelName": "csharp"
    },
    "vscode": {
     "languageId": "polyglot-notebook"
    }
   },
   "outputs": [],
   "source": [
    "// for文\n",
    "for (int i = 0; i < 1000000; i++)\n",
    "{\n",
    "    // 処理\n",
    "}\n",
    "\n",
    "// 同等のwhile文\n",
    "int i = 0;\n",
    "while (i < 1000000)\n",
    "{\n",
    "    // 処理\n",
    "    i++;\n",
    "}"
   ]
  },
  {
   "cell_type": "markdown",
   "metadata": {},
   "source": [
    "while文では、ループ変数の更新をループ本体で直接制御できるため、わずかにパフォーマンスが向上する可能性があります。ただし、この差はほとんどの場合で無視できるほど小さいです。\n",
    "\n",
    "### 2. 最適化の注意\n",
    "\n",
    "モダンなコンパイラやJITコンパイラは高度な最適化を行うため、for文とwhile文のパフォーマンスの差は実際にはほとんどない場合が多いです。コードの可読性と意図の明確さを優先し、必要に応じてベンチマークを行うことをお勧めします。\n",
    "\n",
    "### 3. 使い分けの指針\n",
    "\n",
    "* 明確なイテレーション回数がある場合は for文\n",
    "* 条件のみで制御する場合は while文\n",
    "* 複雑なループ制御が必要な場合は、適切な方を選択\n",
    "\n",
    "### 4. ループのアンローリング\n",
    "\n",
    "非常に短いループで極限的なパフォーマンスが必要な場合、ループのアンローリングを検討できます。"
   ]
  },
  {
   "cell_type": "code",
   "execution_count": 14,
   "metadata": {
    "dotnet_interactive": {
     "language": "csharp"
    },
    "polyglot_notebook": {
     "kernelName": "csharp"
    },
    "vscode": {
     "languageId": "polyglot-notebook"
    }
   },
   "outputs": [],
   "source": [
    "// 通常のループ\n",
    "for (int i = 0; i < 4; i++)\n",
    "{\n",
    "    // 処理\n",
    "}\n",
    "\n",
    "// アンローリングされたループ\n",
    "// 処理 (i = 0)\n",
    "// 処理 (i = 1)\n",
    "// 処理 (i = 2)\n",
    "// 処理 (i = 3)"
   ]
  },
  {
   "cell_type": "markdown",
   "metadata": {},
   "source": [
    "ただし、このテクニックはコードの可読性を低下させる可能性があるため、慎重に使用してください。\n",
    "\n",
    "これらのTipsを考慮しつつ、コードの意図を明確に表現することが最も重要です。パフォーマンスの最適化は、実際に必要な場合にのみ行うべきです。"
   ]
  },
  {
   "cell_type": "markdown",
   "metadata": {},
   "source": [
    "## do-while文\n",
    "\n",
    "do-while文は、最低1回は処理を実行し、その後条件が真である間、繰り返し処理を行います。"
   ]
  },
  {
   "cell_type": "code",
   "execution_count": 7,
   "metadata": {
    "dotnet_interactive": {
     "language": "csharp"
    },
    "polyglot_notebook": {
     "kernelName": "csharp"
    },
    "vscode": {
     "languageId": "polyglot-notebook"
    }
   },
   "outputs": [
    {
     "name": "stdout",
     "output_type": "stream",
     "text": [
      "現在の数: 1\n",
      "現在の数: 2\n",
      "現在の数: 3\n",
      "現在の数: 4\n",
      "現在の数: 5\n",
      "最終的な数: 5\n"
     ]
    }
   ],
   "source": [
    "int number = 0;\n",
    "do\n",
    "{\n",
    "    number++;\n",
    "    Console.WriteLine($\"現在の数: {number}\");\n",
    "} while (number < 5);\n",
    "\n",
    "Console.WriteLine($\"最終的な数: {number}\");"
   ]
  },
  {
   "cell_type": "markdown",
   "metadata": {},
   "source": [
    "この例では、numberが5未満の間、ループが続きます。最低1回は実行されるため、numberが最初から5以上であっても、1回はループ内の処理が実行されます。\n",
    "\n",
    "## foreach文\n",
    "\n",
    "foreach文は、コレクション内の各要素に対して繰り返し処理を行います。"
   ]
  },
  {
   "cell_type": "code",
   "execution_count": 6,
   "metadata": {
    "dotnet_interactive": {
     "language": "csharp"
    },
    "polyglot_notebook": {
     "kernelName": "csharp"
    },
    "vscode": {
     "languageId": "polyglot-notebook"
    }
   },
   "outputs": [
    {
     "name": "stdout",
     "output_type": "stream",
     "text": [
      "りんご\n",
      "バナナ\n",
      "オレンジ\n"
     ]
    }
   ],
   "source": [
    "string[] fruits = { \"りんご\", \"バナナ\", \"オレンジ\" };\n",
    "\n",
    "foreach (string fruit in fruits)\n",
    "{\n",
    "    Console.WriteLine(fruit);\n",
    "}"
   ]
  },
  {
   "cell_type": "markdown",
   "metadata": {},
   "source": [
    "foreach文は、配列やリスト、その他のIEnumerable<T>を実装したコレクションに対して使用できます。\n",
    "\n",
    "### 注意点：コレクションの変更\n",
    "\n",
    "**重要**： foreach文でコレクションを反復処理中に、そのコレクションを変更すると、`InvalidOperationException` が発生します。\n",
    "\n",
    "例えば：1"
   ]
  },
  {
   "cell_type": "code",
   "execution_count": 15,
   "metadata": {
    "dotnet_interactive": {
     "language": "csharp"
    },
    "polyglot_notebook": {
     "kernelName": "csharp"
    },
    "vscode": {
     "languageId": "polyglot-notebook"
    }
   },
   "outputs": [
    {
     "name": "stdout",
     "output_type": "stream",
     "text": [
      "1\n",
      "2\n",
      "3\n"
     ]
    },
    {
     "ename": "Error",
     "evalue": "System.InvalidOperationException: Collection was modified; enumeration operation may not execute.\r\n   at System.Collections.Generic.List`1.Enumerator.MoveNext()\r\n   at Submission#16.<<Initialize>>d__0.MoveNext()\r\n--- End of stack trace from previous location ---\r\n   at Microsoft.CodeAnalysis.Scripting.ScriptExecutionState.RunSubmissionsAsync[TResult](ImmutableArray`1 precedingExecutors, Func`2 currentExecutor, StrongBox`1 exceptionHolderOpt, Func`2 catchExceptionOpt, CancellationToken cancellationToken)",
     "output_type": "error",
     "traceback": [
      "System.InvalidOperationException: Collection was modified; enumeration operation may not execute.\r\n",
      "   at System.Collections.Generic.List`1.Enumerator.MoveNext()\r\n",
      "   at Submission#16.<<Initialize>>d__0.MoveNext()\r\n",
      "--- End of stack trace from previous location ---\r\n",
      "   at Microsoft.CodeAnalysis.Scripting.ScriptExecutionState.RunSubmissionsAsync[TResult](ImmutableArray`1 precedingExecutors, Func`2 currentExecutor, StrongBox`1 exceptionHolderOpt, Func`2 catchExceptionOpt, CancellationToken cancellationToken)"
     ]
    }
   ],
   "source": [
    "List<int> numbers = new List<int> { 1, 2, 3, 4, 5 };\n",
    "\n",
    "foreach (int number in numbers)\n",
    "{\n",
    "    Console.WriteLine(number);\n",
    "    if (number == 3)\n",
    "    {\n",
    "        numbers.Add(6); // この操作で例外が発生します\n",
    "    }\n",
    "}"
   ]
  },
  {
   "cell_type": "markdown",
   "metadata": {},
   "source": [
    "この例では、foreach文の実行中にリストに要素を追加しようとしているため、例外が発生します。\n",
    "\n",
    "### 安全にコレクションを変更する方法\n",
    "\n",
    "#### 1. コピーを使用する"
   ]
  },
  {
   "cell_type": "code",
   "execution_count": 16,
   "metadata": {
    "dotnet_interactive": {
     "language": "csharp"
    },
    "polyglot_notebook": {
     "kernelName": "csharp"
    },
    "vscode": {
     "languageId": "polyglot-notebook"
    }
   },
   "outputs": [
    {
     "name": "stdout",
     "output_type": "stream",
     "text": [
      "1\n",
      "2\n",
      "3\n",
      "4\n",
      "5\n"
     ]
    }
   ],
   "source": [
    "List<int> numbers = new List<int> { 1, 2, 3, 4, 5 };\n",
    "List<int> numbersCopy = new List<int>(numbers);\n",
    "\n",
    "foreach (int number in numbersCopy)\n",
    "{\n",
    "    Console.WriteLine(number);\n",
    "    if (number == 3)\n",
    "    {\n",
    "        numbers.Add(6); // 元のリストを変更\n",
    "    }\n",
    "}"
   ]
  },
  {
   "cell_type": "markdown",
   "metadata": {},
   "source": [
    "#### 2. for文またはwhile文を使用する"
   ]
  },
  {
   "cell_type": "code",
   "execution_count": 17,
   "metadata": {
    "dotnet_interactive": {
     "language": "csharp"
    },
    "polyglot_notebook": {
     "kernelName": "csharp"
    },
    "vscode": {
     "languageId": "polyglot-notebook"
    }
   },
   "outputs": [
    {
     "name": "stdout",
     "output_type": "stream",
     "text": [
      "1\n",
      "2\n",
      "3\n",
      "4\n",
      "5\n",
      "6\n"
     ]
    }
   ],
   "source": [
    "List<int> numbers = new List<int> { 1, 2, 3, 4, 5 };\n",
    "\n",
    "for (int i = 0; i < numbers.Count; i++)\n",
    "{\n",
    "    Console.WriteLine(numbers[i]);\n",
    "    if (numbers[i] == 3)\n",
    "    {\n",
    "        numbers.Add(6); // 安全に追加できます\n",
    "    }\n",
    "}"
   ]
  },
  {
   "cell_type": "markdown",
   "metadata": {},
   "source": [
    "#### 3. LINQ の ToList()メソッドを使用する"
   ]
  },
  {
   "cell_type": "code",
   "execution_count": 18,
   "metadata": {
    "dotnet_interactive": {
     "language": "csharp"
    },
    "polyglot_notebook": {
     "kernelName": "csharp"
    },
    "vscode": {
     "languageId": "polyglot-notebook"
    }
   },
   "outputs": [
    {
     "name": "stdout",
     "output_type": "stream",
     "text": [
      "1\n",
      "2\n",
      "3\n",
      "4\n",
      "5\n"
     ]
    }
   ],
   "source": [
    "List<int> numbers = new List<int> { 1, 2, 3, 4, 5 };\n",
    "\n",
    "foreach (int number in numbers.ToList())\n",
    "{\n",
    "    Console.WriteLine(number);\n",
    "    if (number == 3)\n",
    "    {\n",
    "        numbers.Add(6); // 元のリストを変更しても安全です\n",
    "    }\n",
    "}"
   ]
  },
  {
   "cell_type": "markdown",
   "metadata": {},
   "source": [
    "## Professional Tips\n",
    "\n",
    "### パフォーマンスの考慮\n",
    "\n",
    "foreach文は一般的に、for文よりも少し遅い場合があります。特に、配列やList<T>のような直接インデックスアクセスが可能なコレクションに対しては、for文の方が高速な場合があります。しかし、foreach文のコードの簡潔さと可読性は、多くの場合でこの小さなパフォーマンスの差を上回る価値があります。\n",
    "\n",
    "重要なのは、コードの意図を明確に表現し、必要な場合にのみ最適化を行うことです。foreach文は、多くの場面で最適な選択肢となります。"
   ]
  }
 ],
 "metadata": {
  "kernelspec": {
   "display_name": ".NET (C#)",
   "language": "C#",
   "name": ".net-csharp"
  },
  "language_info": {
   "name": "python"
  },
  "polyglot_notebook": {
   "kernelInfo": {
    "defaultKernelName": "csharp",
    "items": [
     {
      "aliases": [],
      "name": "csharp"
     }
    ]
   }
  }
 },
 "nbformat": 4,
 "nbformat_minor": 2
}
