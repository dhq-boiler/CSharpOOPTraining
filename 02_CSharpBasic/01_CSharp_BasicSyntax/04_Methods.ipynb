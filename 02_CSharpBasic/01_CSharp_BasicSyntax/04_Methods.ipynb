{
 "cells": [
  {
   "cell_type": "markdown",
   "metadata": {},
   "source": [
    "# C#のメソッド\n",
    "\n",
    "## はじめに\n",
    "\n",
    "### メソッドの定義\n",
    "\n",
    "メソッドは、特定の機能を持つコードのブロックで、プログラム内で繰り返し使用することができます。C#では、メソッドは通常、クラス内で定義され、そのクラスの振る舞いを表現します。\n",
    "\n",
    "メソッドの基本的な構造は次のようになります：\n",
    "\n",
    "```csharp\n",
    "[アクセス修飾子] [戻り値の型] [メソッド名]([パラメータリスト])\n",
    "{\n",
    "    // メソッドの本体\n",
    "}\n",
    "```\n",
    "\n",
    "例えば：\n",
    "\n",
    "```csharp\n",
    "public int Add(int a, int b)\n",
    "{\n",
    "    return a + b;\n",
    "}\n",
    "```\n",
    "\n",
    "### プログラミングにおけるメソッドの重要性\n",
    "\n",
    "1. コードの再利用性: 同じ機能を何度も書く代わりに、メソッドを一度定義して何度も呼び出すことができます。\n",
    "1. 可読性の向上: 適切に名付けられたメソッドは、コードの目的を明確にし、プログラム全体の理解を容易にします。\n",
    "1. モジュール性: 大きな問題を小さな、管理しやすい部分に分割することができます。\n",
    "1. 抽象化: 複雑な処理をシンプルなインターフェースの背後に隠すことができます。\n",
    "1. 保守性: メソッドを使用することで、機能の変更や修正が1か所で済むため、保守が容易になります。\n",
    "1. テストの容易さ: 個々のメソッドを独立してテストすることができ、バグの特定と修正が容易になります。\n",
    "\n",
    "メソッドを効果的に使用することで、より構造化され、管理しやすく、拡張性の高いコードを書くことができます。次の章では、C#でのメソッドの基本的な構造と、その各部分の役割について詳しく見ていきます。\n",
    "\n",
    "## メソッドの基本構造\n",
    "\n",
    "C#におけるメソッドの基本構造は以下の要素から成り立っています：\n",
    "\n",
    "```csharp\n",
    "[アクセス修飾子] [修飾子] [戻り値の型] [メソッド名]([パラメータリスト])\n",
    "{\n",
    "    // メソッドの本体\n",
    "}\n",
    "```\n",
    "\n",
    "各要素について詳しく見ていきましょう。\n",
    "\n",
    "### アクセス修飾子\n",
    "\n",
    "アクセス修飾子はメソッドの可視性を定義します。主なものは以下の通りです：\n",
    "\n",
    "* `public`: どこからでもアクセス可能\n",
    "* `private`: 同じクラス内からのみアクセス可能\n",
    "* `protected`: 同じクラスおよび派生クラスからアクセス可能\n",
    "* `internal`: 同じアセンブリ内からアクセス可能\n",
    "\n",
    "例："
   ]
  },
  {
   "cell_type": "code",
   "execution_count": 2,
   "metadata": {
    "dotnet_interactive": {
     "language": "csharp"
    },
    "polyglot_notebook": {
     "kernelName": "csharp"
    },
    "vscode": {
     "languageId": "polyglot-notebook"
    }
   },
   "outputs": [],
   "source": [
    "public void PublicMethod() { }\n",
    "private void PrivateMethod() { }"
   ]
  },
  {
   "cell_type": "markdown",
   "metadata": {},
   "source": [
    "### 修飾子\n",
    "\n",
    "オプションの修飾子には以下のようなものがあります：\n",
    "\n",
    "* `static`: クラスのインスタンスを作成せずに呼び出せるメソッド\n",
    "* `virtual`: 派生クラスでオーバーライド可能なメソッド\n",
    "* `override`: 基底クラスの仮想メソッドを上書きするメソッド\n",
    "* `abstract`: 実装を持たない、派生クラスで必ずオーバーライドすべきメソッド\n",
    "\n",
    "例：\n",
    "\n",
    "```csharp\n",
    "public static void StaticMethod() { }\n",
    "public virtual void VirtualMethod() { }\n",
    "```\n",
    "\n",
    "### 戻り値の型\n",
    "\n",
    "メソッドが返す値の型を指定します。値を返さない場合は `void` を使用します。\n",
    "\n",
    "例："
   ]
  },
  {
   "cell_type": "code",
   "execution_count": 3,
   "metadata": {
    "vscode": {
     "languageId": "polyglot-notebook"
    }
   },
   "outputs": [],
   "source": [
    "public int GetNumber() { return 42; }\n",
    "public void DoSomething() { /* 処理 */ }"
   ]
  },
  {
   "cell_type": "markdown",
   "metadata": {},
   "source": [
    "### メソッド名\n",
    "\n",
    "メソッドの名前は、その機能を適切に表す動詞または動詞句を使用します。C#の命名規則では、パスカルケース（各単語の先頭を大文字）を使用します。\n",
    "\n",
    "例：\n",
    "\n",
    "```csharp\n",
    "public void CalculateTotalPrice() { }\n",
    "public bool IsValidUser(string username) { }\n",
    "```\n",
    "\n",
    "### パラメータリスト\n",
    "\n",
    "メソッドに渡すデータを定義します。各パラメータは型と名前を指定します。\n",
    "\n",
    "例："
   ]
  },
  {
   "cell_type": "code",
   "execution_count": 4,
   "metadata": {
    "vscode": {
     "languageId": "polyglot-notebook"
    }
   },
   "outputs": [],
   "source": [
    "public void SetUserInfo(string name, int age, bool isActive) { }"
   ]
  },
  {
   "cell_type": "markdown",
   "metadata": {},
   "source": [
    "### メソッドの本体\n",
    "\n",
    "中括弧 `{}` で囲まれた部分がメソッドの本体です。ここにメソッドの実際の処理を記述します。\n",
    "\n",
    "例："
   ]
  },
  {
   "cell_type": "code",
   "execution_count": 5,
   "metadata": {
    "vscode": {
     "languageId": "polyglot-notebook"
    }
   },
   "outputs": [],
   "source": [
    "public int Add(int a, int b)\n",
    "{\n",
    "    int result = a + b;\n",
    "    return result;\n",
    "}"
   ]
  },
  {
   "cell_type": "markdown",
   "metadata": {},
   "source": [
    "これらの要素を組み合わせることで、様々な機能を持つメソッドを定義することができます。"
   ]
  },
  {
   "cell_type": "markdown",
   "metadata": {},
   "source": [
    "## メソッドの定義と呼び出し\n",
    "\n",
    "### メソッドの定義方法\n",
    "\n",
    "C#でメソッドを定義する際は、以下の点に注意します：\n",
    "\n",
    "1. メソッドは通常、クラス内で定義します。\n",
    "1. 適切なアクセス修飾子を選択します。\n",
    "1. 戻り値の型を指定します（値を返さない場合は `void`）。\n",
    "1. わかりやすいメソッド名を付けます。\n",
    "1. 必要に応じてパラメータを定義します。\n",
    "\n",
    "例："
   ]
  },
  {
   "cell_type": "code",
   "execution_count": 6,
   "metadata": {
    "vscode": {
     "languageId": "polyglot-notebook"
    }
   },
   "outputs": [],
   "source": [
    "public class Calculator\n",
    "{\n",
    "    public int Add(int a, int b)\n",
    "    {\n",
    "        return a + b;\n",
    "    }\n",
    "\n",
    "    public void PrintResult(string operation, int result)\n",
    "    {\n",
    "        Console.WriteLine($\"The result of {operation} is: {result}\");\n",
    "    }\n",
    "}"
   ]
  },
  {
   "cell_type": "markdown",
   "metadata": {},
   "source": [
    "### メソッドの呼び出し方\n",
    "\n",
    "メソッドの呼び出し方は、そのメソッドが定義されている場所や種類によって異なります：\n",
    "\n",
    "#### 同じクラス内のメソッド呼び出し\n",
    "\n",
    "同じクラス内のメソッドは、直接名前で呼び出すことができます。"
   ]
  },
  {
   "cell_type": "code",
   "execution_count": 7,
   "metadata": {
    "vscode": {
     "languageId": "polyglot-notebook"
    }
   },
   "outputs": [],
   "source": [
    "public class Calculator\n",
    "{\n",
    "    public int Add(int a, int b)\n",
    "    {\n",
    "        return a + b;\n",
    "    }\n",
    "\n",
    "    public void CalculateAndPrint(int x, int y)\n",
    "    {\n",
    "        int result = Add(x, y);  // 同じクラス内のメソッド呼び出し\n",
    "        Console.WriteLine($\"The sum is: {result}\");\n",
    "    }\n",
    "}"
   ]
  },
  {
   "cell_type": "markdown",
   "metadata": {},
   "source": [
    "#### 他のクラスのメソッド呼び出し\n",
    "\n",
    "他のクラスのメソッドを呼び出す場合は、そのクラスのインスタンスを作成してから呼び出します。"
   ]
  },
  {
   "cell_type": "code",
   "execution_count": 8,
   "metadata": {
    "vscode": {
     "languageId": "polyglot-notebook"
    }
   },
   "outputs": [],
   "source": [
    "public class Calculator\n",
    "{\n",
    "    public int Add(int a, int b)\n",
    "    {\n",
    "        return a + b;\n",
    "    }\n",
    "\n",
    "    public void PrintResult(string operation, int result)\n",
    "    {\n",
    "        Console.WriteLine($\"The result of {operation} is: {result}\");\n",
    "    }\n",
    "}\n",
    "\n",
    "public class Program\n",
    "{\n",
    "    public static void Main(string[] args)\n",
    "    {\n",
    "        Calculator calc = new Calculator();\n",
    "        int sum = calc.Add(5, 3);  // 他のクラスのメソッド呼び出し\n",
    "        calc.PrintResult(\"addition\", sum);\n",
    "    }\n",
    "}"
   ]
  },
  {
   "cell_type": "markdown",
   "metadata": {},
   "source": [
    "#### 静的メソッドの呼び出し\n",
    "\n",
    "静的メソッドは、クラスのインスタンスを作成せずに、クラス名を使って直接呼び出すことができます。"
   ]
  },
  {
   "cell_type": "code",
   "execution_count": 9,
   "metadata": {
    "vscode": {
     "languageId": "polyglot-notebook"
    }
   },
   "outputs": [],
   "source": [
    "public class MathHelper\n",
    "{\n",
    "    public static double CalculateCircleArea(double radius)\n",
    "    {\n",
    "        return Math.PI * radius * radius;\n",
    "    }\n",
    "}\n",
    "\n",
    "public class Program\n",
    "{\n",
    "    public static void Main(string[] args)\n",
    "    {\n",
    "        double area = MathHelper.CalculateCircleArea(5);  // 静的メソッドの呼び出し\n",
    "        Console.WriteLine($\"The area of the circle is: {area}\");\n",
    "    }\n",
    "}"
   ]
  },
  {
   "cell_type": "markdown",
   "metadata": {},
   "source": [
    "メソッドを適切に定義し、正しく呼び出すことで、コードの再利用性と可読性が向上します。メソッドの使用は、大規模なプログラムを管理しやすい小さな部分に分割するのに役立ちます。\n",
    "\n",
    "## パラメータと引数\n",
    "\n",
    "メソッドのパラメータと引数は、メソッドに情報を渡す重要な手段です。この章では、C#におけるパラメータと引数の様々な使用方法について説明します。\n",
    "\n",
    "### 値渡しと参照渡し\n",
    "\n",
    "#### 値渡し\n",
    "\n",
    "デフォルトでは、C#のメソッドパラメータは値渡しです。これは、パラメータの値のコピーがメソッドに渡されることを意味します。"
   ]
  },
  {
   "cell_type": "code",
   "execution_count": 10,
   "metadata": {
    "vscode": {
     "languageId": "polyglot-notebook"
    }
   },
   "outputs": [],
   "source": [
    "public void ModifyValue(int x)\n",
    "{\n",
    "    x = 10;  // この変更は呼び出し元の変数には影響しない\n",
    "}\n",
    "\n",
    "public void TestModifyValue()\n",
    "{\n",
    "    int num = 5;\n",
    "    ModifyValue(num);\n",
    "    Console.WriteLine(num);  // 出力: 5\n",
    "}"
   ]
  },
  {
   "cell_type": "markdown",
   "metadata": {},
   "source": [
    "#### 参照渡し\n",
    "\n",
    "`ref` キーワードを使用すると、パラメータを参照渡しできます。これにより、メソッド内での変更が呼び出し元の変数に反映されます。"
   ]
  },
  {
   "cell_type": "code",
   "execution_count": 11,
   "metadata": {
    "vscode": {
     "languageId": "polyglot-notebook"
    }
   },
   "outputs": [],
   "source": [
    "public void ModifyReference(ref int x)\n",
    "{\n",
    "    x = 10;  // この変更は呼び出し元の変数に反映される\n",
    "}\n",
    "\n",
    "public void TestModifyReference()\n",
    "{\n",
    "    int num = 5;\n",
    "    ModifyReference(ref num);\n",
    "    Console.WriteLine(num);  // 出力: 10\n",
    "}"
   ]
  },
  {
   "cell_type": "markdown",
   "metadata": {},
   "source": [
    "### オプショナルパラメータ\n",
    "\n",
    "オプショナルパラメータを使用すると、引数を省略してメソッドを呼び出すことができます。"
   ]
  },
  {
   "cell_type": "code",
   "execution_count": 12,
   "metadata": {
    "vscode": {
     "languageId": "polyglot-notebook"
    }
   },
   "outputs": [],
   "source": [
    "public void Greet(string name, string greeting = \"Hello\")\n",
    "{\n",
    "    Console.WriteLine($\"{greeting}, {name}!\");\n",
    "}\n",
    "\n",
    "public void TestGreet()\n",
    "{\n",
    "    Greet(\"Alice\");  // 出力: Hello, Alice!\n",
    "    Greet(\"Bob\", \"Hi\");  // 出力: Hi, Bob!\n",
    "}"
   ]
  },
  {
   "cell_type": "markdown",
   "metadata": {},
   "source": [
    "### 名前付き引数\n",
    "\n",
    "名前付き引数を使用すると、パラメータの順序に関係なく引数を指定できます。"
   ]
  },
  {
   "cell_type": "code",
   "execution_count": 13,
   "metadata": {
    "vscode": {
     "languageId": "polyglot-notebook"
    }
   },
   "outputs": [],
   "source": [
    "public void DisplayPersonInfo(string name, int age, string city)\n",
    "{\n",
    "    Console.WriteLine($\"{name} is {age} years old and lives in {city}.\");\n",
    "}\n",
    "\n",
    "public void TestDisplayPersonInfo()\n",
    "{\n",
    "    DisplayPersonInfo(age: 30, city: \"New York\", name: \"John\");\n",
    "    // 出力: John is 30 years old and lives in New York.\n",
    "}"
   ]
  },
  {
   "cell_type": "markdown",
   "metadata": {},
   "source": [
    "### params キーワード\n",
    "\n",
    "`params` キーワードを使用すると、可変数の引数を受け取るメソッドを定義できます。"
   ]
  },
  {
   "cell_type": "code",
   "execution_count": 14,
   "metadata": {
    "vscode": {
     "languageId": "polyglot-notebook"
    }
   },
   "outputs": [],
   "source": [
    "public int Sum(params int[] numbers)\n",
    "{\n",
    "    int total = 0;\n",
    "    foreach (int num in numbers)\n",
    "    {\n",
    "        total += num;\n",
    "    }\n",
    "    return total;\n",
    "}\n",
    "\n",
    "public void TestSum()\n",
    "{\n",
    "    Console.WriteLine(Sum(1, 2, 3));  // 出力: 6\n",
    "    Console.WriteLine(Sum(10, 20, 30, 40));  // 出力: 100\n",
    "}"
   ]
  },
  {
   "cell_type": "markdown",
   "metadata": {},
   "source": [
    "### outパラメータ\n",
    "\n",
    "`out` キーワードを使用すると、メソッドから複数の値を返すことができます。"
   ]
  },
  {
   "cell_type": "code",
   "execution_count": 15,
   "metadata": {
    "vscode": {
     "languageId": "polyglot-notebook"
    }
   },
   "outputs": [],
   "source": [
    "public void Divide(int dividend, int divisor, out int quotient, out int remainder)\n",
    "{\n",
    "    quotient = dividend / divisor;\n",
    "    remainder = dividend % divisor;\n",
    "}\n",
    "\n",
    "public void TestDivide()\n",
    "{\n",
    "    int quot, rem;\n",
    "    Divide(10, 3, out quot, out rem);\n",
    "    Console.WriteLine($\"Quotient: {quot}, Remainder: {rem}\");\n",
    "    // 出力: Quotient: 3, Remainder: 1\n",
    "}"
   ]
  },
  {
   "cell_type": "markdown",
   "metadata": {},
   "source": [
    "### 値型と参照型の違い\n",
    "\n",
    "C#では、データ型は値型と参照型に分類されます。この違いは、メソッドにパラメータとして渡される際の動作に影響します。\n",
    "\n",
    "#### 値型\n",
    "\n",
    "`int`, `float`, `double`, `struct` などの値型は、スタック上に直接データが格納されます。"
   ]
  },
  {
   "cell_type": "code",
   "execution_count": 18,
   "metadata": {
    "vscode": {
     "languageId": "polyglot-notebook"
    }
   },
   "outputs": [
    {
     "name": "stdout",
     "output_type": "stream",
     "text": [
      "5\r\n"
     ]
    }
   ],
   "source": [
    "public void ModifyValueType(int x)\n",
    "{\n",
    "    x = 10;  // この変更は呼び出し元の変数には影響しない\n",
    "}\n",
    "\n",
    "public void TestModifyValueType()\n",
    "{\n",
    "    int num = 5;\n",
    "    ModifyValueType(num);\n",
    "    Console.WriteLine(num);  // 出力: 5\n",
    "}\n",
    "\n",
    "TestModifyValueType();"
   ]
  },
  {
   "cell_type": "markdown",
   "metadata": {},
   "source": [
    "値型をメソッドに渡す場合、値のコピーが作成されます。そのため、メソッド内での変更は呼び出し元の変数に影響しません。\n",
    "\n",
    "#### 参照型\n",
    "\n",
    "`class`, `interface`, `delegate`, `array` などの参照型は、ヒープ上にデータが格納され、変数にはそのメモリアドレスへの参照が格納されます。"
   ]
  },
  {
   "cell_type": "code",
   "execution_count": 19,
   "metadata": {
    "vscode": {
     "languageId": "polyglot-notebook"
    }
   },
   "outputs": [
    {
     "name": "stdout",
     "output_type": "stream",
     "text": [
      "Jane\r\n"
     ]
    }
   ],
   "source": [
    "public class Person\n",
    "{\n",
    "    public string Name { get; set; }\n",
    "}\n",
    "\n",
    "public void ModifyReferenceType(Person person)\n",
    "{\n",
    "    person.Name = \"Jane\";  // この変更は呼び出し元のオブジェクトに反映される\n",
    "}\n",
    "\n",
    "public void TestModifyReferenceType()\n",
    "{\n",
    "    Person p = new Person { Name = \"John\" };\n",
    "    ModifyReferenceType(p);\n",
    "    Console.WriteLine(p.Name);  // 出力: Jane\n",
    "}\n",
    "\n",
    "TestModifyReferenceType();"
   ]
  },
  {
   "cell_type": "markdown",
   "metadata": {},
   "source": [
    "参照型をメソッドに渡す場合、オブジェクトへの参照が渡されます。そのため、メソッド内でオブジェクトの状態を変更すると、その変更は呼び出し元のオブジェクトにも反映されます。\n",
    "\n",
    "#### ref キーワードと参照型\n",
    "\n",
    "参照型のパラメータに `ref` キーワードを使用すると、変数自体の参照を渡すことができます。"
   ]
  },
  {
   "cell_type": "code",
   "execution_count": 20,
   "metadata": {
    "vscode": {
     "languageId": "polyglot-notebook"
    }
   },
   "outputs": [],
   "source": [
    "public void ReplaceReferenceType(ref Person person)\n",
    "{\n",
    "    person = new Person { Name = \"Alice\" };  // 新しいオブジェクトで置き換える\n",
    "}\n",
    "\n",
    "public void TestReplaceReferenceType()\n",
    "{\n",
    "    Person p = new Person { Name = \"Bob\" };\n",
    "    ReplaceReferenceType(ref p);\n",
    "    Console.WriteLine(p.Name);  // 出力: Alice\n",
    "}"
   ]
  },
  {
   "cell_type": "markdown",
   "metadata": {},
   "source": [
    "この場合、メソッド内で変数が指す先のオブジェクトを完全に置き換えることができます。\n",
    "\n",
    "値型と参照型の違いを理解することで、メソッドの動作をより正確に予測し、意図した通りのコードを書くことができます。特に、参照型のオブジェクトを扱う際は、メソッド内での変更が呼び出し元にも影響することを常に意識する必要があります。"
   ]
  },
  {
   "cell_type": "markdown",
   "metadata": {},
   "source": [
    "## 戻り値\n",
    "\n",
    "メソッドの戻り値は、メソッドの実行結果を呼び出し元に返す重要な手段です。この章では、C#におけるメソッドの戻り値について詳しく説明します。\n",
    "\n",
    "### void型のメソッド\n",
    "\n",
    "`void` キーワードは、メソッドが値を返さないことを示します。"
   ]
  },
  {
   "cell_type": "code",
   "execution_count": 24,
   "metadata": {
    "vscode": {
     "languageId": "polyglot-notebook"
    }
   },
   "outputs": [
    {
     "name": "stdout",
     "output_type": "stream",
     "text": [
      "Hello, World!\r\n"
     ]
    }
   ],
   "source": [
    "public void PrintMessage(string message)\n",
    "{\n",
    "    Console.WriteLine(message);\n",
    "}\n",
    "\n",
    "public void TestPrintMessage()\n",
    "{\n",
    "    PrintMessage(\"Hello, World!\");  // 出力: Hello, World!\n",
    "}\n",
    "\n",
    "TestPrintMessage();"
   ]
  },
  {
   "cell_type": "markdown",
   "metadata": {},
   "source": [
    "`void` メソッドは通常、何らかの動作を実行するだけで、結果を返す必要がない場合に使用します。\n",
    "\n",
    "### 値を返すメソッド\n",
    "\n",
    "特定の型の値を返すメソッドを定義するには、メソッドの戻り値の型を指定します。"
   ]
  },
  {
   "cell_type": "code",
   "execution_count": 23,
   "metadata": {
    "vscode": {
     "languageId": "polyglot-notebook"
    }
   },
   "outputs": [
    {
     "name": "stdout",
     "output_type": "stream",
     "text": [
      "Sum: 8\n",
      "Circle Area: 19.634954084936208\n",
      "Is 4 even? True\n"
     ]
    }
   ],
   "source": [
    "public int Add(int a, int b)\n",
    "{\n",
    "    return a + b;\n",
    "}\n",
    "\n",
    "public double CalculateCircleArea(double radius)\n",
    "{\n",
    "    return Math.PI * radius * radius;\n",
    "}\n",
    "\n",
    "public bool IsEven(int number)\n",
    "{\n",
    "    return number % 2 == 0;\n",
    "}\n",
    "\n",
    "public void TestReturnValues()\n",
    "{\n",
    "    int sum = Add(5, 3);\n",
    "    Console.WriteLine($\"Sum: {sum}\");  // 出力: Sum: 8\n",
    "\n",
    "    double area = CalculateCircleArea(2.5);\n",
    "    Console.WriteLine($\"Circle Area: {area}\");  // 出力: Circle Area: 19.6349540849362\n",
    "\n",
    "    bool isEven = IsEven(4);\n",
    "    Console.WriteLine($\"Is 4 even? {isEven}\");  // 出力: Is 4 even? True\n",
    "}\n",
    "\n",
    "TestReturnValues();"
   ]
  },
  {
   "cell_type": "markdown",
   "metadata": {},
   "source": [
    "### 複数の値を返す方法\n",
    "\n",
    "#### タプルの使用\n",
    "\n",
    "C# 7.0以降では、タプルを使用して複数の値を返すことができます。"
   ]
  },
  {
   "cell_type": "code",
   "execution_count": 25,
   "metadata": {
    "vscode": {
     "languageId": "polyglot-notebook"
    }
   },
   "outputs": [
    {
     "name": "stdout",
     "output_type": "stream",
     "text": [
      "Quotient: 3, Remainder: 1\r\n"
     ]
    }
   ],
   "source": [
    "public (int Quotient, int Remainder) Divide(int dividend, int divisor)\n",
    "{\n",
    "    int quotient = dividend / divisor;\n",
    "    int remainder = dividend % divisor;\n",
    "    return (quotient, remainder);\n",
    "}\n",
    "\n",
    "public void TestDivideTuple()\n",
    "{\n",
    "    var result = Divide(10, 3);\n",
    "    Console.WriteLine($\"Quotient: {result.Quotient}, Remainder: {result.Remainder}\");\n",
    "    // 出力: Quotient: 3, Remainder: 1\n",
    "}\n",
    "\n",
    "TestDivideTuple();"
   ]
  },
  {
   "cell_type": "markdown",
   "metadata": {},
   "source": [
    "#### out パラメータの使用\n",
    "\n",
    "`out` パラメータを使用して、複数の値を返すこともできます。"
   ]
  },
  {
   "cell_type": "code",
   "execution_count": 26,
   "metadata": {
    "vscode": {
     "languageId": "polyglot-notebook"
    }
   },
   "outputs": [
    {
     "name": "stdout",
     "output_type": "stream",
     "text": [
      "Parsed number: 123\r\n"
     ]
    }
   ],
   "source": [
    "public bool TryParse(string input, out int result)\n",
    "{\n",
    "    return int.TryParse(input, out result);\n",
    "}\n",
    "\n",
    "public void TestTryParse()\n",
    "{\n",
    "    string input = \"123\";\n",
    "    if (TryParse(input, out int number))\n",
    "    {\n",
    "        Console.WriteLine($\"Parsed number: {number}\");  // 出力: Parsed number: 123\n",
    "    }\n",
    "    else\n",
    "    {\n",
    "        Console.WriteLine(\"Failed to parse\");\n",
    "    }\n",
    "}\n",
    "\n",
    "TestTryParse();"
   ]
  },
  {
   "cell_type": "markdown",
   "metadata": {},
   "source": [
    "### 参照型の戻り値\n",
    "\n",
    "メソッドが参照型（クラス、インターフェース、配列など）を返す場合、実際には戻り値として参照（メモリアドレス）が返されます。"
   ]
  },
  {
   "cell_type": "code",
   "execution_count": 27,
   "metadata": {
    "vscode": {
     "languageId": "polyglot-notebook"
    }
   },
   "outputs": [
    {
     "name": "stdout",
     "output_type": "stream",
     "text": [
      "Created person: Alice\r\n"
     ]
    }
   ],
   "source": [
    "public class Person\n",
    "{\n",
    "    public string Name { get; set; }\n",
    "}\n",
    "\n",
    "public Person CreatePerson(string name)\n",
    "{\n",
    "    return new Person { Name = name };\n",
    "}\n",
    "\n",
    "public void TestCreatePerson()\n",
    "{\n",
    "    Person person = CreatePerson(\"Alice\");\n",
    "    Console.WriteLine($\"Created person: {person.Name}\");  // 出力: Created person: Alice\n",
    "}\n",
    "\n",
    "TestCreatePerson();"
   ]
  },
  {
   "cell_type": "markdown",
   "metadata": {},
   "source": [
    "### 非同期メソッドの戻り値\n",
    "\n",
    "非同期メソッドでは、`Task` または `Task<T>` を戻り値として使用します。"
   ]
  },
  {
   "cell_type": "code",
   "execution_count": 28,
   "metadata": {
    "vscode": {
     "languageId": "polyglot-notebook"
    }
   },
   "outputs": [
    {
     "name": "stdout",
     "output_type": "stream",
     "text": [
      "Fetched Data\r\n"
     ]
    }
   ],
   "source": [
    "public async Task<string> FetchDataAsync()\n",
    "{\n",
    "    await Task.Delay(1000);  // 非同期操作のシミュレーション\n",
    "    return \"Fetched Data\";\n",
    "}\n",
    "\n",
    "public async Task TestFetchDataAsync()\n",
    "{\n",
    "    string result = await FetchDataAsync();\n",
    "    Console.WriteLine(result);  // 出力: Fetched Data\n",
    "}\n",
    "\n",
    "await TestFetchDataAsync();"
   ]
  },
  {
   "cell_type": "markdown",
   "metadata": {},
   "source": [
    "適切な戻り値の型を選択し、必要に応じて複数の値を返す方法を使用することで、メソッドの機能をより効果的に設計できます。"
   ]
  },
  {
   "cell_type": "markdown",
   "metadata": {},
   "source": [
    "## メソッドのオーバーロード\n",
    "\n",
    "メソッドのオーバーロードは、同じ名前で異なるパラメータリストを持つ複数のメソッドを同じクラス内に定義することを可能にする機能です。この章では、C#におけるメソッドのオーバーロードについて詳しく説明します。\n",
    "\n",
    "### オーバーロードの基本\n",
    "\n",
    "メソッドのオーバーロードを使用すると、同じ操作を異なる種類や数の入力で実行するメソッドを作成できます。"
   ]
  },
  {
   "cell_type": "code",
   "execution_count": 29,
   "metadata": {
    "vscode": {
     "languageId": "polyglot-notebook"
    }
   },
   "outputs": [
    {
     "name": "stdout",
     "output_type": "stream",
     "text": [
      "8\n",
      "8.7\n",
      "6\n"
     ]
    }
   ],
   "source": [
    "public class Calculator\n",
    "{\n",
    "    public int Add(int a, int b)\n",
    "    {\n",
    "        return a + b;\n",
    "    }\n",
    "\n",
    "    public double Add(double a, double b)\n",
    "    {\n",
    "        return a + b;\n",
    "    }\n",
    "\n",
    "    public int Add(int a, int b, int c)\n",
    "    {\n",
    "        return a + b + c;\n",
    "    }\n",
    "}\n",
    "\n",
    "public void TestCalculator()\n",
    "{\n",
    "    Calculator calc = new Calculator();\n",
    "    Console.WriteLine(calc.Add(5, 3));        // 出力: 8\n",
    "    Console.WriteLine(calc.Add(5.5, 3.2));    // 出力: 8.7\n",
    "    Console.WriteLine(calc.Add(1, 2, 3));     // 出力: 6\n",
    "}\n",
    "\n",
    "TestCalculator();"
   ]
  },
  {
   "cell_type": "markdown",
   "metadata": {},
   "source": [
    "### オーバーロードの解決\n",
    "\n",
    "コンパイラは、メソッド呼び出し時に渡された引数の数と型に基づいて、どのオーバーロードを使用するかを決定します。"
   ]
  },
  {
   "cell_type": "code",
   "execution_count": 30,
   "metadata": {
    "vscode": {
     "languageId": "polyglot-notebook"
    }
   },
   "outputs": [
    {
     "name": "stdout",
     "output_type": "stream",
     "text": [
      "Printing int: 10\n",
      "Printing string: Hello\n",
      "Printing double: 3.14\n"
     ]
    }
   ],
   "source": [
    "public class Printer\n",
    "{\n",
    "    public void Print(int value)\n",
    "    {\n",
    "        Console.WriteLine($\"Printing int: {value}\");\n",
    "    }\n",
    "\n",
    "    public void Print(string value)\n",
    "    {\n",
    "        Console.WriteLine($\"Printing string: {value}\");\n",
    "    }\n",
    "\n",
    "    public void Print(double value)\n",
    "    {\n",
    "        Console.WriteLine($\"Printing double: {value}\");\n",
    "    }\n",
    "}\n",
    "\n",
    "public void TestPrinter()\n",
    "{\n",
    "    Printer printer = new Printer();\n",
    "    printer.Print(10);       // 出力: Printing int: 10\n",
    "    printer.Print(\"Hello\");  // 出力: Printing string: Hello\n",
    "    printer.Print(3.14);     // 出力: Printing double: 3.14\n",
    "}\n",
    "\n",
    "TestPrinter();"
   ]
  },
  {
   "cell_type": "markdown",
   "metadata": {},
   "source": [
    "### オーバーロードの注意点\n",
    "\n",
    "#### 戻り値の型は区別されない\n",
    "\n",
    "メソッドのオーバーロードは、パラメータリストのみに基づいて行われます。戻り値の型の違いだけではオーバーロードできません。"
   ]
  },
  {
   "cell_type": "code",
   "execution_count": 31,
   "metadata": {
    "vscode": {
     "languageId": "polyglot-notebook"
    }
   },
   "outputs": [],
   "source": [
    "public class Example\n",
    "{\n",
    "    public int GetValue() { return 0; }\n",
    "    // 以下のメソッドは、戻り値の型が異なるだけなのでコンパイルエラーになる\n",
    "    // public double GetValue() { return 0.0; }\n",
    "}"
   ]
  },
  {
   "cell_type": "markdown",
   "metadata": {},
   "source": [
    "#### オプショナルパラメータとの相互作用\n",
    "\n",
    "オプショナルパラメータを使用する場合、オーバーロードと混同しないよう注意が必要です。"
   ]
  },
  {
   "cell_type": "code",
   "execution_count": 33,
   "metadata": {
    "vscode": {
     "languageId": "polyglot-notebook"
    }
   },
   "outputs": [
    {
     "name": "stdout",
     "output_type": "stream",
     "text": [
      "Hello, Alice!\r\n"
     ]
    }
   ],
   "source": [
    "public class Greeter\n",
    "{\n",
    "    public void Greet(string name)\n",
    "    {\n",
    "        Console.WriteLine($\"Hello, {name}!\");\n",
    "    }\n",
    "\n",
    "    public void Greet(string name, string title = \"Mr./Ms.\")\n",
    "    {\n",
    "        Console.WriteLine($\"Hello, {title} {name}!\");\n",
    "    }\n",
    "}\n",
    "\n",
    "public void TestGreeter()\n",
    "{\n",
    "    Greeter greeter = new Greeter();\n",
    "    greeter.Greet(\"Alice\");  // どちらのメソッドが呼ばれる？\n",
    "}\n",
    "\n",
    "TestGreeter();"
   ]
  },
  {
   "cell_type": "markdown",
   "metadata": {},
   "source": [
    "この場合、`Greet(\"Alice\")` の呼び出しは曖昧になる可能性があります。オーバーロードとオプショナルパラメータを組み合わせる際は、呼び出し側で混乱が生じないよう注意深く設計する必要があります。\n",
    "\n",
    "### オーバーロードのベストプラクティス\n",
    "\n",
    "1. 一貫性のある動作: 同じ名前のメソッドは、基本的に同じ操作を行うようにします。\n",
    "1. 明確な区別: 各オーバーロードの目的が明確に区別できるようにします。\n",
    "1. デフォルト値の活用: 多くの場合、オプショナルパラメータを使用することで、オーバーロードの数を減らせる可能性があります。\n",
    "\n",
    "メソッドのオーバーロードを適切に使用することで、より直感的で使いやすいAPIを設計することができます。"
   ]
  },
  {
   "cell_type": "markdown",
   "metadata": {},
   "source": [
    "## staticメソッド\n",
    "\n",
    "staticメソッドは、クラスのインスタンスを作成せずに呼び出すことができるメソッドです。この章では、C#におけるstaticメソッドについて詳しく説明します。\n",
    "\n",
    "### staticメソッドの基本\n",
    "\n",
    "staticメソッドは、クラスレベルで定義され、クラス名を通じて直接呼び出されます。"
   ]
  },
  {
   "cell_type": "code",
   "execution_count": 35,
   "metadata": {
    "vscode": {
     "languageId": "polyglot-notebook"
    }
   },
   "outputs": [
    {
     "name": "stdout",
     "output_type": "stream",
     "text": [
      "結果: 8\r\n"
     ]
    }
   ],
   "source": [
    "public class MathOperations\n",
    "{\n",
    "    public static int Add(int a, int b)\n",
    "    {\n",
    "        return a + b;\n",
    "    }\n",
    "}\n",
    "\n",
    "public void TestStaticMethod()\n",
    "{\n",
    "    int result = MathOperations.Add(5, 3);\n",
    "    Console.WriteLine($\"結果: {result}\");  // 出力: 結果: 8\n",
    "}\n",
    "\n",
    "TestStaticMethod();"
   ]
  },
  {
   "cell_type": "markdown",
   "metadata": {},
   "source": [
    "### staticメソッドの特徴\n",
    "\n",
    "1. インスタンス不要: クラスのインスタンスを作成せずに呼び出せます。\n",
    "1. this キーワード不可: staticメソッド内では this キーワードは使用できません。\n",
    "1. 非staticメンバーへのアクセス制限: 直接的に非staticフィールドやメソッドにアクセスできません。\n",
    "\n",
    "## staticメソッドの使用例\n",
    "\n",
    "### ユーティリティ関数"
   ]
  },
  {
   "cell_type": "code",
   "execution_count": 36,
   "metadata": {
    "vscode": {
     "languageId": "polyglot-notebook"
    }
   },
   "outputs": [
    {
     "name": "stdout",
     "output_type": "stream",
     "text": [
      "olleH\r\n"
     ]
    }
   ],
   "source": [
    "public static class StringUtility\n",
    "{\n",
    "    public static string Reverse(string input)\n",
    "    {\n",
    "        char[] charArray = input.ToCharArray();\n",
    "        Array.Reverse(charArray);\n",
    "        return new string(charArray);\n",
    "    }\n",
    "}\n",
    "\n",
    "public void TestStringUtility()\n",
    "{\n",
    "    string original = \"Hello\";\n",
    "    string reversed = StringUtility.Reverse(original);\n",
    "    Console.WriteLine(reversed);  // 出力: olleH\n",
    "}\n",
    "\n",
    "TestStringUtility();"
   ]
  },
  {
   "cell_type": "markdown",
   "metadata": {},
   "source": [
    "#### ファクトリーメソッド"
   ]
  },
  {
   "cell_type": "code",
   "execution_count": 37,
   "metadata": {
    "vscode": {
     "languageId": "polyglot-notebook"
    }
   },
   "outputs": [
    {
     "name": "stdout",
     "output_type": "stream",
     "text": [
      "Alice\r\n"
     ]
    }
   ],
   "source": [
    "public class Person\n",
    "{\n",
    "    public string Name { get; private set; }\n",
    "\n",
    "    private Person(string name)\n",
    "    {\n",
    "        Name = name;\n",
    "    }\n",
    "\n",
    "    public static Person CreateInstance(string name)\n",
    "    {\n",
    "        if (string.IsNullOrEmpty(name))\n",
    "        {\n",
    "            throw new ArgumentException(\"名前は空にできません\");\n",
    "        }\n",
    "        return new Person(name);\n",
    "    }\n",
    "}\n",
    "\n",
    "public void TestFactoryMethod()\n",
    "{\n",
    "    Person person = Person.CreateInstance(\"Alice\");\n",
    "    Console.WriteLine(person.Name);  // 出力: Alice\n",
    "}\n",
    "\n",
    "TestFactoryMethod();"
   ]
  },
  {
   "cell_type": "markdown",
   "metadata": {},
   "source": [
    "### staticメソッドの利点\n",
    "\n",
    "1. 名前空間機能: 関連する機能をグループ化できます。\n",
    "1. メモリ効率: インスタンスを作成せずに使用できるため、メモリ使用量を削減できます。\n",
    "1. ユーティリティ関数の整理: 状態を持たない純粋な関数をきれいに整理できます。\n",
    "\n",
    "### staticメソッドの注意点\n",
    "\n",
    "1. テスト困難性: staticメソッドはモックやスタブの作成が困難なため、ユニットテストが複雑になる可能性があります。\n",
    "1. 隠れた依存関係: staticメソッドを多用すると、クラス間の依存関係が不明確になる可能性があります。\n",
    "1. 継承とポリモーフィズムの制限: staticメソッドはオーバーライドできないため、継承を使った柔軟な設計が難しくなります。\n",
    "\n",
    "### staticメソッドのベストプラクティス\n",
    "\n",
    "1. 状態を持たない純粋な関数に使用する。\n",
    "1. ユーティリティクラスやヘルパークラスに適している。\n",
    "1. ファクトリーメソッドパターンの実装に有用。\n",
    "1. 依存性注入を考慮し、過度の使用を避ける。\n",
    "\n",
    "staticメソッドは強力なツールですが、適切な使用場面を理解し、オブジェクト指向設計の原則とのバランスを取ることが重要です。"
   ]
  },
  {
   "cell_type": "markdown",
   "metadata": {},
   "source": [
    "## 再帰的メソッド\n",
    "\n",
    "再帰的メソッドは、自分自身を呼び出すメソッドです。この章では、C#における再帰的メソッドの概念、使用例、利点、そして注意点について詳しく説明します。\n",
    "\n",
    "### 再帰の基本概念\n",
    "\n",
    "再帰的メソッドは、問題を小さな同種の問題に分割し、それらを解決することで全体の問題を解決します。再帰的メソッドは通常、以下の2つの部分から構成されます：\n",
    "\n",
    "1. 基底ケース：再帰を停止する条件\n",
    "1. 再帰ケース：問題を小さくし、自身を呼び出す部分\n",
    "\n",
    "### 再帰的メソッドの例\n",
    "\n",
    "#### 階乗の計算"
   ]
  },
  {
   "cell_type": "code",
   "execution_count": 39,
   "metadata": {
    "vscode": {
     "languageId": "polyglot-notebook"
    }
   },
   "outputs": [
    {
     "name": "stdout",
     "output_type": "stream",
     "text": [
      "120\r\n"
     ]
    }
   ],
   "source": [
    "public class Recursion\n",
    "{\n",
    "    public static int Factorial(int n)\n",
    "    {\n",
    "        // 基底ケース\n",
    "        if (n == 0 || n == 1)\n",
    "        {\n",
    "            return 1;\n",
    "        }\n",
    "        // 再帰ケース\n",
    "        return n * Factorial(n - 1);\n",
    "    }\n",
    "}\n",
    "\n",
    "public void TestFactorial()\n",
    "{\n",
    "    Console.WriteLine(Recursion.Factorial(5));  // 出力: 120\n",
    "}\n",
    "\n",
    "TestFactorial();"
   ]
  },
  {
   "cell_type": "markdown",
   "metadata": {},
   "source": [
    "#### フィボナッチ数列"
   ]
  },
  {
   "cell_type": "code",
   "execution_count": 40,
   "metadata": {
    "vscode": {
     "languageId": "polyglot-notebook"
    }
   },
   "outputs": [
    {
     "name": "stdout",
     "output_type": "stream",
     "text": [
      "8\r\n"
     ]
    }
   ],
   "source": [
    "public class Recursion\n",
    "{\n",
    "    public static int Fibonacci(int n)\n",
    "    {\n",
    "        // 基底ケース\n",
    "        if (n <= 1)\n",
    "        {\n",
    "            return n;\n",
    "        }\n",
    "        // 再帰ケース\n",
    "        return Fibonacci(n - 1) + Fibonacci(n - 2);\n",
    "    }\n",
    "}\n",
    "\n",
    "public void TestFibonacci()\n",
    "{\n",
    "    Console.WriteLine(Recursion.Fibonacci(6));  // 出力: 8\n",
    "}\n",
    "\n",
    "TestFibonacci();"
   ]
  },
  {
   "cell_type": "markdown",
   "metadata": {},
   "source": [
    "### 再帰的メソッドの利点\n",
    "\n",
    "1. コードの簡潔さ：再帰的アルゴリズムは、しばしば反復的アルゴリズムよりも簡潔に記述できます。\n",
    "1. 自然な問題解決：木構造の走査や、分割統治アルゴリズムなど、再帰的な性質を持つ問題に適しています。\n",
    "1. 読みやすさ：適切に使用すれば、問題の自然な構造を反映し、理解しやすいコードになります。\n",
    "\n",
    "### 再帰的メソッドの注意点\n",
    "\n",
    "1. スタックオーバーフロー：深い再帰呼び出しはスタックオーバーフローを引き起こす可能性があります。\n",
    "1. パフォーマンス：再帰呼び出しには関数呼び出しのオーバーヘッドがあり、大規模なデータセットでは非効率になる可能性があります。\n",
    "1. 理解の難しさ：複雑な再帰は追跡が難しく、デバッグが困難になる場合があります。\n",
    "\n",
    "### 再帰の最適化\n",
    "\n",
    "#### 末尾再帰\n",
    "\n",
    "末尾再帰は、再帰呼び出しが関数の最後の操作となるように実装する方法です。一部のコンパイラは末尾再帰を最適化できます。"
   ]
  },
  {
   "cell_type": "code",
   "execution_count": 41,
   "metadata": {
    "vscode": {
     "languageId": "polyglot-notebook"
    }
   },
   "outputs": [],
   "source": [
    "public class Recursion\n",
    "{\n",
    "    public static int FactorialTailRecursive(int n, int accumulator = 1)\n",
    "    {\n",
    "        if (n == 0)\n",
    "        {\n",
    "            return accumulator;\n",
    "        }\n",
    "        return FactorialTailRecursive(n - 1, n * accumulator);\n",
    "    }\n",
    "}"
   ]
  },
  {
   "cell_type": "markdown",
   "metadata": {},
   "source": [
    "#### メモ化\n",
    "\n",
    "メモ化は、計算結果をキャッシュして再利用することで、重複計算を避ける技術です。"
   ]
  },
  {
   "cell_type": "code",
   "execution_count": 42,
   "metadata": {
    "vscode": {
     "languageId": "polyglot-notebook"
    }
   },
   "outputs": [
    {
     "name": "stdout",
     "output_type": "stream",
     "text": [
      "8\r\n"
     ]
    }
   ],
   "source": [
    "public class Recursion\n",
    "{\n",
    "    private static Dictionary<int, int> _fibCache = new Dictionary<int, int>();\n",
    "\n",
    "    public static int FibonacciMemoized(int n)\n",
    "    {\n",
    "        if (n <= 1) return n;\n",
    "        if (_fibCache.ContainsKey(n)) return _fibCache[n];\n",
    "\n",
    "        int result = FibonacciMemoized(n - 1) + FibonacciMemoized(n - 2);\n",
    "        _fibCache[n] = result;\n",
    "        return result;\n",
    "    }\n",
    "}\n",
    "\n",
    "public void TestFibonacciMemoized()\n",
    "{\n",
    "    Console.WriteLine(Recursion.FibonacciMemoized(6));  // 出力: 8\n",
    "}\n",
    "\n",
    "TestFibonacciMemoized();"
   ]
  },
  {
   "cell_type": "markdown",
   "metadata": {},
   "source": [
    "### 再帰的メソッドのベストプラクティス\n",
    "\n",
    "1. 基底ケースを必ず定義する。\n",
    "1. 問題が小さくなっていることを確認する。\n",
    "1. スタックオーバーフローに注意し、必要に応じて反復的解法を検討する。\n",
    "1. 複雑な再帰は、ステップごとに慎重にテストする。\n",
    "1. パフォーマンスクリティカルな場合は、メモ化や末尾再帰を検討する。\n",
    "\n",
    "再帰的メソッドは強力なツールですが、適切な使用場面を理解し、その利点と制限を考慮することが重要です。"
   ]
  },
  {
   "cell_type": "markdown",
   "metadata": {},
   "source": [
    "## 拡張メソッド\n",
    "\n",
    "拡張メソッドは、既存のクラスやインターフェースにメソッドを追加する機能です。この章では、C#における拡張メソッドについて詳しく説明します。\n",
    "\n",
    "### 拡張メソッドの基本\n",
    "\n",
    "拡張メソッドを定義するには、以下の条件を満たす必要があります：\n",
    "\n",
    "1. 静的クラス内に定義する。\n",
    "1. メソッドを `static` として宣言する。\n",
    "1. 最初のパラメータに `this` キーワードを付け、拡張対象の型を指定する。\n",
    "\n",
    "```csharp\n",
    "public static class StringExtensions\n",
    "{\n",
    "    public static int WordCount(this string str)\n",
    "    {\n",
    "        return str.Split(new char[] { ' ', '.', '?' }, \n",
    "                        StringSplitOptions.RemoveEmptyEntries).Length;\n",
    "    }\n",
    "}\n",
    "```"
   ]
  },
  {
   "cell_type": "markdown",
   "metadata": {},
   "source": [
    "### 拡張メソッドの使用\n",
    "\n",
    "拡張メソッドは、定義したら通常のインスタンスメソッドのように使用できます。\n",
    "\n",
    "```csharp\n",
    "string text = \"Hello, world. How are you?\";\n",
    "int wordCount = text.WordCount();\n",
    "Console.WriteLine($\"Word count: {wordCount}\");  // 出力: Word count: 5\n",
    "```"
   ]
  },
  {
   "cell_type": "markdown",
   "metadata": {},
   "source": [
    "### 拡張メソッドの利点\n",
    "\n",
    "1. 既存の型の拡張: サードパーティのライブラリや .NET の組み込み型に新しい機能を追加できます。\n",
    "1. コードの組織化: 関連する機能をグループ化し、コードを整理できます。\n",
    "1. インターフェースの拡張: インターフェースに対して拡張メソッドを定義することで、すべての実装クラスに新しい機能を追加できます。\n",
    "\n",
    "### 拡張メソッドの注意点\n",
    "\n",
    "1. 名前の衝突: 拡張メソッドと既存のメソッドの名前が衝突した場合、既存のメソッドが優先されます。\n",
    "1. 可読性: 過度な使用は、コードの理解を難しくする可能性があります。\n",
    "1. テスト困難性: 静的メソッドであるため、モックやスタブの作成が難しくなる場合があります。\n",
    "\n",
    "### 拡張メソッドの実践的な例\n",
    "LINQ (Language Integrated Query) の多くのメソッドは、実際には IEnumerable<T> に対する拡張メソッドとして実装されています。\n",
    "\n",
    "```csharp\n",
    "public static class EnumerableExtensions\n",
    "{\n",
    "    public static IEnumerable<T> WhereNot<T>(this IEnumerable<T> source, Func<T, bool> predicate)\n",
    "    {\n",
    "        return source.Where(item => !predicate(item));\n",
    "    }\n",
    "}\n",
    "\n",
    "// 使用例\n",
    "var numbers = new[] { 1, 2, 3, 4, 5 };\n",
    "var evenNumbers = numbers.WhereNot(n => n % 2 != 0);\n",
    "foreach (var num in evenNumbers)\n",
    "{\n",
    "    Console.WriteLine(num);  // 出力: 2, 4\n",
    "}\n",
    "```\n",
    "\n",
    "拡張メソッドは強力な機能ですが、適切な使用場面を理解し、既存のクラス設計を尊重しながら活用することが重要です。"
   ]
  },
  {
   "cell_type": "markdown",
   "metadata": {},
   "source": [
    "## まとめ\n",
    "\n",
    "この章では、C#におけるメソッドについて学んできた内容を総括し、メソッドの重要性と効果的な使用方法について再確認します。\n",
    "\n",
    "### メソッドの重要性\n",
    "\n",
    "1. コードの再利用性: メソッドを使用することで、同じコードを複数回書く必要がなくなり、保守性が向上します。\n",
    "1. 抽象化: 複雑な処理をメソッドにカプセル化することで、コードの理解と管理が容易になります。\n",
    "1. モジュール性: プログラムを小さな、独立した部分に分割することができ、大規模なアプリケーションの開発が容易になります。\n",
    "1. 可読性の向上: 適切に名付けられたメソッドは、コードの目的を明確にし、ドキュメントとしての役割も果たします。\n",
    "1. テスト容易性: 個々のメソッドを独立してテストできるため、バグの特定と修正が容易になります。\n",
    "\n",
    "### 効果的なメソッドの設計と使用\n",
    "\n",
    "1. 単一責任の原則: 各メソッドは一つの明確な目的を持つべきです。\n",
    "1. 適切な命名: メソッド名は、その機能を明確に表現するものを選びます。動詞または動詞句を使用するのが一般的です。\n",
    "1. パラメータの適切な使用: 必要最小限のパラメータを使用し、オプショナルパラメータや名前付き引数を活用して柔軟性を持たせます。\n",
    "1. 戻り値の適切な設計: メソッドの目的に応じて適切な戻り値の型を選択し、必要に応じてタプルや out パラメータを使用して複数の値を返します。\n",
    "1. 例外処理: メソッド内で発生する可能性のある例外を適切に処理し、必要に応じて呼び出し元に伝播させます。\n",
    "1. ドキュメンテーションコメント: メソッドの目的、パラメータ、戻り値、例外などを説明するドキュメンテーションコメントを付けます。\n",
    "1. DRY原則（Don't Repeat Yourself）: 重複するコードはメソッドにまとめ、再利用性を高めます。\n",
    "1. SOLID原則の適用: 特に単一責任の原則（SRP）と開放閉鎖の原則（OCP）を意識してメソッドを設計します。\n",
    "\n",
    "### advanced的なメソッドの使用\n",
    "\n",
    "1. メソッドのオーバーロード: 同じ名前で異なるパラメータを持つメソッドを定義し、使いやすいAPIを提供します。\n",
    "1. 静的メソッド: インスタンス化が不要な汎用的な機能を提供する場合に使用します。\n",
    "1. 拡張メソッド: 既存のクラスに新しいメソッドを追加する場合に使用します。\n",
    "1. 非同期メソッド: async と await キーワードを使用して、非同期処理を実装します。\n",
    "1. ジェネリックメソッド: 型に依存しない汎用的なアルゴリズムを実装する場合に使用します。（※今回の記事では説明していません）\n",
    "\n",
    "### 継続的な改善\n",
    "\n",
    "メソッドの設計と実装は、プログラミングスキルの中核を成す重要な要素です。以下の点を意識して、継続的に改善を図ることが重要です：\n",
    "\n",
    "1. コードレビューを通じて他の開発者からフィードバックを得る。\n",
    "1. リファクタリングを定期的に行い、メソッドの品質を維持・向上させる。\n",
    "1. 新しい言語機能や設計パターンを学び、適切に活用する。\n",
    "1. パフォーマンスプロファイリングを行い、必要に応じてメソッドの最適化を図る。\n",
    "\n",
    "メソッドは、優れたソフトウェア設計の基礎となる重要な要素です。効果的なメソッドの使用は、保守性が高く、拡張性のある、高品質なコードの作成につながります。"
   ]
  }
 ],
 "metadata": {
  "kernelspec": {
   "display_name": ".NET (C#)",
   "language": "C#",
   "name": ".net-csharp"
  },
  "language_info": {
   "name": "python"
  },
  "polyglot_notebook": {
   "kernelInfo": {
    "defaultKernelName": "csharp",
    "items": [
     {
      "aliases": [],
      "name": "csharp"
     }
    ]
   }
  }
 },
 "nbformat": 4,
 "nbformat_minor": 2
}
