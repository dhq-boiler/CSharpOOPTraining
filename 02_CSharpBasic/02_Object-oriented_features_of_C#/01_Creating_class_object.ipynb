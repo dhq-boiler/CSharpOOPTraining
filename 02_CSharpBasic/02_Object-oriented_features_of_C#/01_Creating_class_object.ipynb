{
 "cells": [
  {
   "cell_type": "markdown",
   "metadata": {},
   "source": [
    "# C#でのクラスとオブジェクトの作成\n",
    "\n",
    "## はじめに\n",
    "\n",
    "クラスとオブジェクトは、オブジェクト指向プログラミング（OOP）の基本的な概念です。この記事では、C#でのクラスの定義方法とオブジェクトの作成方法について学びます。\n",
    "\n",
    "## クラスの定義\n",
    "\n",
    "C#でクラスを定義するには、`class` キーワードを使用します。以下は基本的なクラスの構造です："
   ]
  },
  {
   "cell_type": "code",
   "execution_count": 1,
   "metadata": {
    "dotnet_interactive": {
     "language": "csharp"
    },
    "polyglot_notebook": {
     "kernelName": "csharp"
    },
    "vscode": {
     "languageId": "polyglot-notebook"
    }
   },
   "outputs": [],
   "source": [
    "public class Person\n",
    "{\n",
    "    // フィールド\n",
    "    private string name;\n",
    "    private int age;\n",
    "\n",
    "    // コンストラクタ\n",
    "    public Person(string name, int age)\n",
    "    {\n",
    "        this.name = name;\n",
    "        this.age = age;\n",
    "    }\n",
    "\n",
    "    // メソッド\n",
    "    public void Introduce()\n",
    "    {\n",
    "        Console.WriteLine($\"私の名前は{name}で、{age}歳です。\");\n",
    "    }\n",
    "}"
   ]
  },
  {
   "cell_type": "markdown",
   "metadata": {},
   "source": [
    "## オブジェクトの作成\n",
    "\n",
    "クラスを定義したら、そのクラスのオブジェクト（インスタンス）を作成できます。"
   ]
  },
  {
   "cell_type": "code",
   "execution_count": 2,
   "metadata": {
    "vscode": {
     "languageId": "polyglot-notebook"
    }
   },
   "outputs": [
    {
     "name": "stdout",
     "output_type": "stream",
     "text": [
      "私の名前は太郎で、30歳です。\r\n"
     ]
    }
   ],
   "source": [
    "Person person1 = new Person(\"太郎\", 30);\n",
    "person1.Introduce();  // 出力: 私の名前は太郎で、30歳です。"
   ]
  },
  {
   "cell_type": "markdown",
   "metadata": {},
   "source": [
    "## プロパティの使用\n",
    "\n",
    "C#では、フィールドへのアクセスを制御するためにプロパティを使用できます。"
   ]
  },
  {
   "cell_type": "code",
   "execution_count": 3,
   "metadata": {
    "vscode": {
     "languageId": "polyglot-notebook"
    }
   },
   "outputs": [],
   "source": [
    "public class Person\n",
    "{\n",
    "    private string name;\n",
    "    \n",
    "    public string Name\n",
    "    {\n",
    "        get { return name; }\n",
    "        set { name = value; }\n",
    "    }\n",
    "}"
   ]
  },
  {
   "cell_type": "markdown",
   "metadata": {},
   "source": [
    "## 静的メンバー\n",
    "\n",
    "クラスレベルで共有されるメンバーを定義するには、`static` キーワードを使用します。"
   ]
  },
  {
   "cell_type": "code",
   "execution_count": 5,
   "metadata": {
    "vscode": {
     "languageId": "polyglot-notebook"
    }
   },
   "outputs": [
    {
     "name": "stdout",
     "output_type": "stream",
     "text": [
      "1\r\n"
     ]
    }
   ],
   "source": [
    "public class Counter\n",
    "{\n",
    "    public static int Count { get; private set; }\n",
    "\n",
    "    public Counter()\n",
    "    {\n",
    "        Count++;\n",
    "    }\n",
    "}\n",
    "\n",
    "Counter counter1 = new Counter();\n",
    "Console.WriteLine(Counter.Count);  // 出力: 1"
   ]
  },
  {
   "cell_type": "markdown",
   "metadata": {},
   "source": [
    "## まとめ\n",
    "\n",
    "この記事では、C#でのクラスとオブジェクトの基本的な作成方法を学びました。クラスの定義、オブジェクトの作成、プロパティの使用、静的メンバーの定義などを含めて説明しました。これらの概念を理解し、実践することで、オブジェクト指向プログラミングの基礎を習得できます。\n",
    "\n",
    "## 演習問題\n",
    "\n",
    "1. `Book`クラスを作成し、タイトル、著者、出版年をプロパティとして持たせてください。\n",
    "1. `Library`クラスを作成し、`Book`オブジェクトのリストを管理するメソッドを実装してください。\n",
    "1. 作成したクラスを使用して、簡単な図書館管理システムを構築してみましょう。\n",
    "\n",
    "これらの演習に取り組むことで、クラスとオブジェクトの概念をより深く理解できるでしょう。"
   ]
  }
 ],
 "metadata": {
  "kernelspec": {
   "display_name": ".NET (C#)",
   "language": "C#",
   "name": ".net-csharp"
  },
  "language_info": {
   "name": "python"
  },
  "polyglot_notebook": {
   "kernelInfo": {
    "defaultKernelName": "csharp",
    "items": [
     {
      "aliases": [],
      "name": "csharp"
     }
    ]
   }
  }
 },
 "nbformat": 4,
 "nbformat_minor": 2
}
