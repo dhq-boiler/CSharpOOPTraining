{
 "cells": [
  {
   "cell_type": "markdown",
   "metadata": {},
   "source": [
    "# C#のコンストラクタとファイナライザー\n",
    "\n",
    "## はじめに\n",
    "\n",
    "コンストラクタとファイナライザーは、C#におけるクラスの重要な構成要素です。これらはオブジェクトのライフサイクル管理に深く関わっており、適切に使用することでリソースの効率的な管理が可能になります。\n",
    "\n",
    "## コンストラクタ\n",
    "\n",
    "### コンストラクタとは\n",
    "\n",
    "コンストラクタは、クラスのインスタンスが生成されるときに自動的に呼び出されるメソッドです。主な役割は、オブジェクトの初期化です。\n",
    "\n",
    "### コンストラクタの特徴\n",
    "\n",
    "* クラス名と同じ名前を持ちます。\n",
    "* 戻り値を持ちません（voidも指定しません）。\n",
    "* オーバーロードが可能です（複数のコンストラクタを定義できます）。\n",
    "\n",
    "### コンストラクタの例"
   ]
  },
  {
   "cell_type": "code",
   "execution_count": 1,
   "metadata": {
    "dotnet_interactive": {
     "language": "csharp"
    },
    "polyglot_notebook": {
     "kernelName": "csharp"
    },
    "vscode": {
     "languageId": "polyglot-notebook"
    }
   },
   "outputs": [],
   "source": [
    "public class Person\n",
    "{\n",
    "    public string Name;\n",
    "    public int Age;\n",
    "\n",
    "    // デフォルトコンストラクタ\n",
    "    public Person()\n",
    "    {\n",
    "        Name = \"Unknown\";\n",
    "        Age = 0;\n",
    "    }\n",
    "\n",
    "    // パラメータ付きコンストラクタ\n",
    "    public Person(string name, int age)\n",
    "    {\n",
    "        Name = name;\n",
    "        Age = age;\n",
    "    }\n",
    "}"
   ]
  },
  {
   "cell_type": "markdown",
   "metadata": {},
   "source": [
    "### コンストラクタの使用"
   ]
  },
  {
   "cell_type": "code",
   "execution_count": 2,
   "metadata": {
    "vscode": {
     "languageId": "polyglot-notebook"
    }
   },
   "outputs": [],
   "source": [
    "Person person1 = new Person(); // デフォルトコンストラクタを使用\n",
    "Person person2 = new Person(\"Alice\", 30); // パラメータ付きコンストラクタを使用"
   ]
  },
  {
   "cell_type": "markdown",
   "metadata": {},
   "source": [
    "## ファイナライザー\n",
    "\n",
    "### ファイナライザーとは\n",
    "\n",
    "ファイナライザーは、オブジェクトが破棄される直前に自動的に呼び出されるメソッドです。主な役割は、オブジェクトが使用したアンマネージドリソースの解放です。\n",
    "\n",
    "### ファイナライザーの特徴\n",
    "\n",
    "* クラス名の前にチルダ（~）を付けて定義します。\n",
    "* パラメータを取らず、修飾子も持ちません。\n",
    "* 明示的に呼び出すことはできません。\n",
    "* ガベージコレクタによって自動的に呼び出されます。\n",
    "\n",
    "### ファイナライザーの例"
   ]
  },
  {
   "cell_type": "code",
   "execution_count": 4,
   "metadata": {
    "vscode": {
     "languageId": "polyglot-notebook"
    }
   },
   "outputs": [],
   "source": [
    "using System.Runtime.InteropServices;\n",
    "\n",
    "public class ResourceHandler\n",
    "{\n",
    "    private IntPtr resource;\n",
    "\n",
    "    public ResourceHandler()\n",
    "    {\n",
    "        // リソースの割り当て\n",
    "        resource = Marshal.AllocHGlobal(100);\n",
    "    }\n",
    "\n",
    "    ~ResourceHandler()\n",
    "    {\n",
    "        // リソースの解放\n",
    "        if (resource != IntPtr.Zero)\n",
    "        {\n",
    "            Marshal.FreeHGlobal(resource);\n",
    "        }\n",
    "    }\n",
    "}"
   ]
  },
  {
   "cell_type": "markdown",
   "metadata": {},
   "source": [
    "## コンストラクタとファイナライザーの注意点\n",
    "\n",
    "* コンストラクタは、オブジェクトの初期化に必要な最小限の処理のみを行うべきです。\n",
    "* ファイナライザーの使用は慎重に行う必要があります。多くの場合、`IDisposable` インターフェースを実装する方が適切です。\n",
    "* ファイナライザーの実行タイミングは保証されないため、クリティカルなリソース解放には適していません。\n",
    "\n",
    "## まとめ\n",
    "\n",
    "コンストラクタとファイナライザーは、オブジェクトのライフサイクル管理において重要な役割を果たします。適切に使用することで、効率的なリソース管理とクリーンなコード設計が可能になります。ただし、ファイナライザーの使用には注意が必要で、多くの場合はIDisposableパターンの実装がより適切です。"
   ]
  }
 ],
 "metadata": {
  "kernelspec": {
   "display_name": ".NET (C#)",
   "language": "C#",
   "name": ".net-csharp"
  },
  "language_info": {
   "name": "python"
  },
  "polyglot_notebook": {
   "kernelInfo": {
    "defaultKernelName": "csharp",
    "items": [
     {
      "aliases": [],
      "name": "csharp"
     }
    ]
   }
  }
 },
 "nbformat": 4,
 "nbformat_minor": 2
}
